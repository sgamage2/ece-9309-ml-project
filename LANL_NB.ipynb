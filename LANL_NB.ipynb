{
 "cells": [
  {
   "cell_type": "markdown",
   "metadata": {},
   "source": [
    "# LANL Notebook"
   ]
  },
  {
   "cell_type": "markdown",
   "metadata": {},
   "source": [
    "Link to competition and dataset: https://www.kaggle.com/c/LANL-Earthquake-Prediction\n",
    "\n",
    "Anaysis: https://www.kaggle.com/jsaguiar/seismic-data-exploration\n",
    "\n",
    "\n",
    "## The Dataset\n",
    "The training dataset has 2 columns (x, y), representing a single, continuous seismic signal.  x is the signal value, and y is the time-to-next-earthquake. The test data consists of segments of seismic signals (x values), and for each signal point in a segment, a time-to-next-earthquake (y) must be predicted by a machine learning model.\n",
    "\n",
    "The dataset is large with over 600 million data points in the training signal (9 GB in csv format) and working with it will prove to be challenging (loading, visualizing, training models etc.).\n"
   ]
  },
  {
   "cell_type": "markdown",
   "metadata": {},
   "source": [
    "## Useful Ideas\n",
    "\n",
    "1. Downsampling to reduce dataset size:\n",
    "> There are ways to do this without aliasing error (or minimal aliasing error). See the [Wiki article](https://en.wikipedia.org/wiki/Downsampling_(signal_processing)) (short).\n",
    "\n",
    "2. Noise filtering and other signal enhancements:\n",
    "> The signal *may* be noisy. Any good filters (especially those used in the seismic domain) will improve our model accuracy.\n",
    "\n",
    "3. Feature engineering\n",
    "The raw signal maybe 'too raw' for the RNN to learn useful/ predictive patterns. We may have to engineer features.\n",
    "\n",
    "    3.1. Feature detecting filters\n",
    "> Features in signals are usually detected by filters (a filter is defined by its kernel: the impulse response). There may be feature detecting filters already used in the seismic analysis domain. Eg: filters to detect the presence of a peak.\n",
    "\n",
    "    3.2. Engineering other features\n",
    "> We can engineering other features such as: does_peak_exist_in_this_window, time_since_last_peak, first_derivative, second_derivative, Fourier transform (DFT) of the window, etc.\n",
    "\n",
    "4. Automating feature engineering via convolutional nets (CNN)\n",
    "> CNNs essentially learn the kernels of filters as part of the neural network. We can have some CNN layers before the LSTM layers and see if that works.\n"
   ]
  },
  {
   "cell_type": "code",
   "execution_count": 1,
   "metadata": {},
   "outputs": [],
   "source": [
    "import numpy as np\n",
    "import pandas as pd\n",
    "import time\n",
    "\n",
    "import matplotlib.pyplot as plt\n",
    "%matplotlib inline  "
   ]
  },
  {
   "cell_type": "code",
   "execution_count": 2,
   "metadata": {},
   "outputs": [],
   "source": [
    "#Data was convereted from CSV to HDF then truncated\n",
    "hdf_key = 'my_key'\n",
    "\n",
    "# Change the following to point to proper local paths\n",
    "truncated_train_hdf_file = '../LANL-Earthquake-Prediction/truncated_train_hdf.h5' \n",
    "validation_hdf_file = '../LANL-Earthquake-Prediction/validation_hdf.h5'\n",
    "test_hdf_file = '../LANL-Earthquake-Prediction/test_hdf.h5'\n"
   ]
  },
  {
   "cell_type": "code",
   "execution_count": 3,
   "metadata": {},
   "outputs": [],
   "source": [
    "def read_hdf(filename, key):\n",
    "    t0 = time.time()\n",
    "    print('Reading HDF dataset {}'.format(filename))\n",
    "\n",
    "    dataset_df = pd.read_hdf(filename, key=key)\n",
    "\n",
    "    print('Reading complete. time_to_read={}'.format(filename, time.time() - t0))\n",
    "\n",
    "    return dataset_df  # This is a Pandas DataFrame"
   ]
  },
  {
   "cell_type": "code",
   "execution_count": 4,
   "metadata": {},
   "outputs": [],
   "source": [
    "def print_info(df):\n",
    "    print(\"Dataset shape = {}\".format(df.shape))\n",
    "    df.info(memory_usage='deep')    # Some info about the dataset (memory usage etc.)\n",
    "\n",
    "    pd.set_option(\"display.precision\", 15)  # Show more decimals\n",
    "    print(df.head())\n",
    "\n",
    "    # print(df.acoustic_data.describe())  # Some stats; can take time if dataset is large\n",
    "\n",
    "\n",
    "def truncate_dataset(df, num_rows_to_keep):\n",
    "    print('Truncating the dataset. num_rows_to_keep={}'.format(num_rows_to_keep))\n",
    "    trunc_df = df[:num_rows_to_keep]\n",
    "    print('Truncating complete. trunc_df.shape={}'.format(trunc_df.shape))\n",
    "    return trunc_df"
   ]
  },
  {
   "cell_type": "code",
   "execution_count": 5,
   "metadata": {},
   "outputs": [],
   "source": [
    "def plot_series(df):\n",
    "    print('Plotting series')\n",
    "    # plt.plot(series)\n",
    "    # plt.show()\n",
    "\n",
    "    fig, ax1 = plt.subplots()\n",
    "\n",
    "    color = 'tab:orange'\n",
    "    ax1.set_xlabel('time (#points)')\n",
    "    ax1.set_ylabel('seismic_signal', color=color)\n",
    "    ax1.plot(df.acoustic_data, color=color)\n",
    "    ax1.tick_params(axis='y', labelcolor=color)\n",
    "\n",
    "    ax2 = ax1.twinx()  # instantiate a second axes that shares the same x-axis\n",
    "\n",
    "    color = 'tab:blue'\n",
    "    ax2.set_ylabel('time_to_earthquake', color=color)  # we already handled the x-label with ax1\n",
    "    ax2.plot(df.time_to_failure, color=color)\n",
    "    ax2.tick_params(axis='y', labelcolor=color)\n",
    "\n",
    "    fig.tight_layout()  # otherwise the right y-label is slightly clipped\n",
    "    plt.show()"
   ]
  },
  {
   "cell_type": "markdown",
   "metadata": {},
   "source": [
    "## Import truncated Data from hdf files\n",
    "### 3 sets: train, validation, test. Print basic stats about them and plot them"
   ]
  },
  {
   "cell_type": "code",
   "execution_count": 6,
   "metadata": {},
   "outputs": [
    {
     "name": "stdout",
     "output_type": "stream",
     "text": [
      "Reading HDF dataset ../LANL-Earthquake-Prediction/truncated_train_hdf.h5\n",
      "Reading ../LANL-Earthquake-Prediction/truncated_train_hdf.h5 complete. time_to_read=6.144085645675659\n",
      "Reading HDF dataset ../LANL-Earthquake-Prediction/validation_hdf.h5\n",
      "Reading ../LANL-Earthquake-Prediction/validation_hdf.h5 complete. time_to_read=3.396406650543213\n",
      "Reading HDF dataset ../LANL-Earthquake-Prediction/test_hdf.h5\n",
      "Reading ../LANL-Earthquake-Prediction/test_hdf.h5 complete. time_to_read=1.153538465499878\n"
     ]
    }
   ],
   "source": [
    "train_df = read_hdf(truncated_train_hdf_file, hdf_key)\n",
    "valid_df = read_hdf(validation_hdf_file, hdf_key)\n",
    "test_df = read_hdf(test_hdf_file, hdf_key)"
   ]
  },
  {
   "cell_type": "code",
   "execution_count": 7,
   "metadata": {},
   "outputs": [
    {
     "name": "stdout",
     "output_type": "stream",
     "text": [
      "Dataset shape = (139000000, 2)\n",
      "<class 'pandas.core.frame.DataFrame'>\n",
      "Int64Index: 139000000 entries, 0 to 138999999\n",
      "Data columns (total 2 columns):\n",
      "acoustic_data      int16\n",
      "time_to_failure    float64\n",
      "dtypes: float64(1), int16(1)\n",
      "memory usage: 2.3 GB\n",
      "   acoustic_data  time_to_failure\n",
      "0             12     1.4690999832\n",
      "1              6     1.4690999821\n",
      "2              8     1.4690999810\n",
      "3              5     1.4690999799\n",
      "4              8     1.4690999788\n",
      "Plotting series\n"
     ]
    },
    {
     "data": {
      "image/png": "[encoded data removed]",
      "text/plain": [
       "<Figure size 432x288 with 2 Axes>"
      ]
     },
     "metadata": {},
     "output_type": "display_data"
    }
   ],
   "source": [
    "print_info(train_df)\n",
    "plot_series(train_df) # This is time and memory consuming. Do not run this cell unless necessary"
   ]
  },
  {
   "cell_type": "code",
   "execution_count": 8,
   "metadata": {},
   "outputs": [
    {
     "name": "stdout",
     "output_type": "stream",
     "text": [
      "Dataset shape = (80000000, 2)\n",
      "<class 'pandas.core.frame.DataFrame'>\n",
      "Int64Index: 80000000 entries, 139000000 to 218999999\n",
      "Data columns (total 2 columns):\n",
      "acoustic_data      int16\n",
      "time_to_failure    float64\n",
      "dtypes: float64(1), int16(1)\n",
      "memory usage: 1.3 GB\n",
      "           acoustic_data     time_to_failure\n",
      "139000000              5  12.635497500000001\n",
      "139000001              3  12.635497499000001\n",
      "139000002              5  12.635497497999999\n",
      "139000003             -2  12.635497497000001\n",
      "139000004              0  12.635497495999999\n",
      "Plotting series\n"
     ]
    },
    {
     "data": {
      "image/png": "[encoded data removed]",
      "text/plain": [
       "<Figure size 432x288 with 2 Axes>"
      ]
     },
     "metadata": {},
     "output_type": "display_data"
    }
   ],
   "source": [
    "print_info(valid_df)\n",
    "plot_series(valid_df) # This is time and memory consuming. Do not run this cell unless necessary"
   ]
  },
  {
   "cell_type": "code",
   "execution_count": 9,
   "metadata": {},
   "outputs": [
    {
     "name": "stdout",
     "output_type": "stream",
     "text": [
      "Dataset shape = (27000000, 2)\n",
      "<class 'pandas.core.frame.DataFrame'>\n",
      "Int64Index: 27000000 entries, 219000000 to 245999999\n",
      "Data columns (total 2 columns):\n",
      "acoustic_data      int16\n",
      "time_to_failure    float64\n",
      "dtypes: float64(1), int16(1)\n",
      "memory usage: 463.5 MB\n",
      "           acoustic_data    time_to_failure\n",
      "219000000              1  6.969696360400000\n",
      "219000001             -1  6.969696359299999\n",
      "219000002              0  6.969696358200000\n",
      "219000003              3  6.969696357100000\n",
      "219000004              6  6.969696356000000\n",
      "Plotting series\n"
     ]
    },
    {
     "data": {
      "image/png": "[encoded data removed]",
      "text/plain": [
       "<Figure size 432x288 with 2 Axes>"
      ]
     },
     "metadata": {},
     "output_type": "display_data"
    }
   ],
   "source": [
    "print_info(test_df)\n",
    "plot_series(test_df) # This is time and memory consuming. Do not run this cell unless necessary"
   ]
  },
  {
   "cell_type": "markdown",
   "metadata": {},
   "source": [
    "# Understanding Data\n",
    "\n",
    "## Domain Perspective\n",
    "\n",
    "We need to check physical relation between acoustic data data and earthquakes. Any equation available?!\n",
    "\n",
    "## Statistical Perspective\n",
    "\n",
    "https://towardsdatascience.com/how-not-to-use-machine-learning-for-time-series-forecasting-avoiding-the-pitfalls-19f9d7adf424\n",
    "\n",
    "We need to test data for random-walk/stochasiticity, e.g. correlation tests on both signal (f) and (df), covariance test?!\n",
    "\n"
   ]
  },
  {
   "cell_type": "markdown",
   "metadata": {},
   "source": [
    "# Recurrent Neural Network - LSTM\n",
    "\n",
    "## Part 1 - Data Preprocessing"
   ]
  },
  {
   "cell_type": "code",
   "execution_count": 7,
   "metadata": {},
   "outputs": [],
   "source": [
    "# Importing the libraries\n",
    "import numpy as np\n",
    "import matplotlib.pyplot as plt\n",
    "import pandas as pd"
   ]
  },
  {
   "cell_type": "code",
   "execution_count": 8,
   "metadata": {},
   "outputs": [],
   "source": [
    "# Importing the training set\n",
    "dataset_train = train_df\n",
    "training_set = dataset_train.iloc[:, 0:2].values"
   ]
  },
  {
   "cell_type": "code",
   "execution_count": 9,
   "metadata": {},
   "outputs": [],
   "source": [
    "# Feature Scaling - Ignored for now\n",
    "\"\"\"\n",
    "from sklearn.preprocessing import MinMaxScaler\n",
    "\n",
    "sc = MinMaxScaler (feature_range=(0, 1))\n",
    "training_set_scaled = sc.fit_transform (training_set) \n",
    "\"\"\"\n",
    "training_set_scaled = training_set"
   ]
  },
  {
   "cell_type": "code",
   "execution_count": 10,
   "metadata": {},
   "outputs": [],
   "source": [
    "# Creating a data structure with 1000 timesteps and 1 output\n",
    "X_train = []\n",
    "y_train = []\n",
    "\n",
    "\"\"\"\n",
    "Temporary: we reduce the datatset by 400 to exceuste fast!\n",
    "Temporary: 1000 (steps in the past) is picked randomly while it should be carefully studied\n",
    "\"\"\"\n",
    "    \n",
    "for i in range (1000, int(train_df.shape[0]/400)): \n",
    "    X_train.append (training_set_scaled[i - 1000:i, 0])\n",
    "    y_train.append (training_set_scaled[i, 1])\n",
    "X_train, y_train = np.array (X_train), np.array (y_train)\n",
    "\n",
    "# Reshaping\n",
    "X_train = np.reshape (X_train, (X_train.shape[0], X_train.shape[1], 1))"
   ]
  },
  {
   "cell_type": "markdown",
   "metadata": {},
   "source": [
    "## Part 2 - Building the RNN"
   ]
  },
  {
   "cell_type": "code",
   "execution_count": 11,
   "metadata": {},
   "outputs": [
    {
     "name": "stderr",
     "output_type": "stream",
     "text": [
      "Using TensorFlow backend.\n"
     ]
    }
   ],
   "source": [
    "# Importing the Keras libraries and packages\n",
    "from keras.models import Sequential\n",
    "from keras.layers import Dense\n",
    "from keras.layers import LSTM\n",
    "from keras.layers import Dropout\n",
    "\n",
    "# Initialising the RNN\n",
    "regressor = Sequential ()\n",
    "\n",
    "# Adding the first LSTM layer and some Dropout regularisation\n",
    "regressor.add (LSTM (units=50, return_sequences=True, input_shape=(X_train.shape[1], 1)))\n",
    "regressor.add (Dropout (0.2))\n",
    "\n",
    "# Adding a second LSTM layer and some Dropout regularisation\n",
    "regressor.add (LSTM (units=50, return_sequences=True))\n",
    "regressor.add (Dropout (0.2))\n",
    "\n",
    "# Adding a third LSTM layer and some Dropout regularisation\n",
    "regressor.add (LSTM (units=50, return_sequences=True))\n",
    "regressor.add (Dropout (0.2))\n",
    "\n",
    "# Adding a fourth LSTM layer and some Dropout regularisation\n",
    "regressor.add (LSTM (units=50))\n",
    "regressor.add (Dropout (0.2))\n",
    "\n",
    "# Adding the output layer\n",
    "regressor.add (Dense (units=1))\n",
    "\n",
    "# Compiling the RNN\n",
    "regressor.compile (optimizer='adam', loss='mean_squared_error')"
   ]
  },
  {
   "cell_type": "markdown",
   "metadata": {},
   "source": [
    "## Part 3 - Training the RNN"
   ]
  },
  {
   "cell_type": "code",
   "execution_count": null,
   "metadata": {},
   "outputs": [
    {
     "name": "stdout",
     "output_type": "stream",
     "text": [
      "Training the RNN with the training set\n",
      "Epoch 1/100\n",
      "   320/346500 [..............................] - ETA: 4:16:06 - loss: 0.7591"
     ]
    }
   ],
   "source": [
    "print('Training the RNN with the training set')\n",
    "regressor.fit (X_train, y_train, epochs=100, batch_size=32)\n",
    "print('Training complete')"
   ]
  },
  {
   "cell_type": "markdown",
   "metadata": {},
   "source": [
    "## Part 4 - Making the predictions and visualising the results"
   ]
  },
  {
   "cell_type": "markdown",
   "metadata": {},
   "source": [
    "#### Samer, please add the code for predicting on the validation set"
   ]
  },
  {
   "cell_type": "code",
   "execution_count": null,
   "metadata": {},
   "outputs": [],
   "source": []
  }
 ],
 "metadata": {
  "kernelspec": {
   "display_name": "Python 3",
   "language": "python",
   "name": "python3"
  },
  "language_info": {
   "codemirror_mode": {
    "name": "ipython",
    "version": 3
   },
   "file_extension": ".py",
   "mimetype": "text/x-python",
   "name": "python",
   "nbconvert_exporter": "python",
   "pygments_lexer": "ipython3",
   "version": "3.6.8"
  }
 },
 "nbformat": 4,
 "nbformat_minor": 2
}
