{
 "cells": [
  {
   "cell_type": "markdown",
   "metadata": {},
   "source": [
    "# LANL Notebook"
   ]
  },
  {
   "cell_type": "markdown",
   "metadata": {},
   "source": [
    "Link to competition and dataset: https://www.kaggle.com/c/LANL-Earthquake-Prediction\n",
    "\n",
    "Anaysis: https://www.kaggle.com/jsaguiar/seismic-data-exploration\n",
    "\n",
    "\n",
    "## The Dataset\n",
    "The training dataset has 2 columns (x, y), representing a single, continuous seismic signal.  x is the signal value, and y is the time-to-next-earthquake. The test data consists of segments of seismic signals (x values), and for each signal point in a segment, a time-to-next-earthquake (y) must be predicted by a machine learning model.\n",
    "\n",
    "The dataset is large with over 600 million data points in the training signal (9 GB in csv format) and working with it will prove to be challenging (loading, visualizing, training models etc.).\n"
   ]
  },
  {
   "cell_type": "markdown",
   "metadata": {},
   "source": [
    "## Useful Ideas\n",
    "\n",
    "1. Downsampling to reduce dataset size:\n",
    "> There are ways to do this without aliasing error (or minimal aliasing error). See the [Wiki article](https://en.wikipedia.org/wiki/Downsampling_(signal_processing)) (short).\n",
    "\n",
    "2. Noise filtering and other signal enhancements:\n",
    "> The signal *may* be noisy. Any good filters (especially those used in the seismic domain) will improve our model accuracy.\n",
    "\n",
    "3. Feature engineering\n",
    "The raw signal maybe 'too raw' for the RNN to learn useful/ predictive patterns. We may have to engineer features.\n",
    "\n",
    "    3.1. Feature detecting filters\n",
    "> Features in signals are usually detected by filters (a filter is defined by its kernel: the impulse response). There may be feature detecting filters already used in the seismic analysis domain. Eg: filters to detect the presence of a peak.\n",
    "\n",
    "    3.2. Engineering other features\n",
    "> We can engineering other features such as: does_peak_exist_in_this_window, time_since_last_peak, first_derivative, second_derivative, Fourier transform (DFT) of the window, etc.\n",
    "    \n",
    "    3.3. Map data to higher dimension, e.g. using Kernels\n",
    "\n",
    "4. Automating feature engineering via convolutional nets (CNN)\n",
    "> CNNs essentially learn the kernels of filters as part of the neural network. We can have some CNN layers before the LSTM layers and see if that works.\n",
    "\n",
    "5. I checked some of the test files and it seems that the peaks are absent. Hence, I stongly recommend completely eliminating the peaks before training the RNN. Peaks will be considered outliers. \n"
   ]
  },
  {
   "cell_type": "code",
   "execution_count": 124,
   "metadata": {},
   "outputs": [
    {
     "name": "stdout",
     "output_type": "stream",
     "text": [
      "Found GPU at: /device:GPU:0\n"
     ]
    }
   ],
   "source": [
    "import tensorflow as tf\n",
    "device_name = tf.test.gpu_device_name()\n",
    "if device_name != '/device:GPU:0':\n",
    "  raise SystemError('GPU device not found')\n",
    "print('Found GPU at: {}'.format(device_name))"
   ]
  },
  {
   "cell_type": "code",
   "execution_count": 125,
   "metadata": {},
   "outputs": [],
   "source": [
    "import numpy as np\n",
    "import pandas as pd\n",
    "import time\n",
    "\n",
    "import matplotlib.pyplot as plt\n",
    "%matplotlib inline  "
   ]
  },
  {
   "cell_type": "code",
   "execution_count": 126,
   "metadata": {},
   "outputs": [],
   "source": [
    "#Data was convereted from CSV to HDF then truncated\n",
    "hdf_key = 'my_key'\n",
    "\n",
    "# Change the following to point to proper local paths\n",
    "truncated_train_hdf_file = '../LANL-Earthquake-Prediction/truncated_train_hdf.h5' \n",
    "validation_hdf_file = '../LANL-Earthquake-Prediction/validation_hdf.h5'\n",
    "test_hdf_file = '../LANL-Earthquake-Prediction/test_hdf.h5'\n"
   ]
  },
  {
   "cell_type": "code",
   "execution_count": 127,
   "metadata": {},
   "outputs": [],
   "source": [
    "def read_hdf(filename, key):\n",
    "    t0 = time.time()\n",
    "    print('Reading HDF dataset {}'.format(filename))\n",
    "\n",
    "    dataset_df = pd.read_hdf(filename, key=key)\n",
    "\n",
    "    print('Reading complete. time_to_read={}'.format(filename, time.time() - t0))\n",
    "\n",
    "    return dataset_df  # This is a Pandas DataFrame"
   ]
  },
  {
   "cell_type": "code",
   "execution_count": 128,
   "metadata": {},
   "outputs": [],
   "source": [
    "def print_info(df):\n",
    "    print(\"Dataset shape = {}\".format(df.shape))\n",
    "    df.info(memory_usage='deep')    # Some info about the dataset (memory usage etc.)\n",
    "\n",
    "    pd.set_option(\"display.precision\", 15)  # Show more decimals\n",
    "    print(df.head())\n",
    "\n",
    "    # print(df.acoustic_data.describe())  # Some stats; can take time if dataset is large\n",
    "\n",
    "\n",
    "def truncate_dataset(df, num_rows_to_keep):\n",
    "    print('Truncating the dataset. num_rows_to_keep={}'.format(num_rows_to_keep))\n",
    "    trunc_df = df[:num_rows_to_keep]\n",
    "    print('Truncating complete. trunc_df.shape={}'.format(trunc_df.shape))\n",
    "    return trunc_df"
   ]
  },
  {
   "cell_type": "code",
   "execution_count": 129,
   "metadata": {},
   "outputs": [],
   "source": [
    "def plot_series(df):\n",
    "    print('Plotting series')\n",
    "    # plt.plot(series)\n",
    "    # plt.show()\n",
    "\n",
    "    fig, ax1 = plt.subplots()\n",
    "\n",
    "    color = 'tab:orange'\n",
    "    ax1.set_xlabel('time (#points)')\n",
    "    ax1.set_ylabel('seismic_signal', color=color)\n",
    "    ax1.plot(df.acoustic_data, color=color)\n",
    "    ax1.tick_params(axis='y', labelcolor=color)\n",
    "\n",
    "    ax2 = ax1.twinx()  # instantiate a second axes that shares the same x-axis\n",
    "\n",
    "    color = 'tab:blue'\n",
    "    ax2.set_ylabel('time_to_earthquake', color=color)  # we already handled the x-label with ax1\n",
    "    ax2.plot(df.time_to_failure, color=color)\n",
    "    ax2.tick_params(axis='y', labelcolor=color)\n",
    "\n",
    "    fig.tight_layout()  # otherwise the right y-label is slightly clipped\n",
    "    plt.show()"
   ]
  },
  {
   "cell_type": "markdown",
   "metadata": {},
   "source": [
    "## Import truncated Data from hdf files\n",
    "### 3 sets: train, validation, test. Print basic stats about them and plot them"
   ]
  },
  {
   "cell_type": "code",
   "execution_count": 130,
   "metadata": {},
   "outputs": [
    {
     "name": "stdout",
     "output_type": "stream",
     "text": [
      "Reading HDF dataset ../LANL-Earthquake-Prediction/truncated_train_hdf.h5\n",
      "Reading complete. time_to_read=../LANL-Earthquake-Prediction/truncated_train_hdf.h5\n",
      "Reading HDF dataset ../LANL-Earthquake-Prediction/validation_hdf.h5\n",
      "Reading complete. time_to_read=../LANL-Earthquake-Prediction/validation_hdf.h5\n",
      "Reading HDF dataset ../LANL-Earthquake-Prediction/test_hdf.h5\n",
      "Reading complete. time_to_read=../LANL-Earthquake-Prediction/test_hdf.h5\n"
     ]
    }
   ],
   "source": [
    "train_df = read_hdf(truncated_train_hdf_file, hdf_key)\n",
    "valid_df = read_hdf(validation_hdf_file, hdf_key)\n",
    "test_df = read_hdf(test_hdf_file, hdf_key)"
   ]
  },
  {
   "cell_type": "code",
   "execution_count": 104,
   "metadata": {},
   "outputs": [
    {
     "name": "stdout",
     "output_type": "stream",
     "text": [
      "Dataset shape = (139000000, 2)\n",
      "<class 'pandas.core.frame.DataFrame'>\n",
      "Int64Index: 139000000 entries, 0 to 138999999\n",
      "Data columns (total 2 columns):\n",
      "acoustic_data      int16\n",
      "time_to_failure    float64\n",
      "dtypes: float64(1), int16(1)\n",
      "memory usage: 2.3 GB\n",
      "   acoustic_data  time_to_failure\n",
      "0             12     1.4690999832\n",
      "1              6     1.4690999821\n",
      "2              8     1.4690999810\n",
      "3              5     1.4690999799\n",
      "4              8     1.4690999788\n",
      "Plotting series\n"
     ]
    },
    {
     "data": {
      "image/png": "[encoded data removed]",
      "text/plain": [
       "<Figure size 432x288 with 2 Axes>"
      ]
     },
     "metadata": {},
     "output_type": "display_data"
    }
   ],
   "source": [
    "print_info(train_df)\n",
    "plot_series(train_df) # This is time and memory consuming. Do not run this cell unless necessary"
   ]
  },
  {
   "cell_type": "code",
   "execution_count": 8,
   "metadata": {},
   "outputs": [
    {
     "name": "stdout",
     "output_type": "stream",
     "text": [
      "Dataset shape = (80000000, 2)\n",
      "<class 'pandas.core.frame.DataFrame'>\n",
      "Int64Index: 80000000 entries, 139000000 to 218999999\n",
      "Data columns (total 2 columns):\n",
      "acoustic_data      int16\n",
      "time_to_failure    float64\n",
      "dtypes: float64(1), int16(1)\n",
      "memory usage: 1.3 GB\n",
      "           acoustic_data     time_to_failure\n",
      "139000000              5  12.635497500000001\n",
      "139000001              3  12.635497499000001\n",
      "139000002              5  12.635497497999999\n",
      "139000003             -2  12.635497497000001\n",
      "139000004              0  12.635497495999999\n",
      "Plotting series\n"
     ]
    },
    {
     "data": {
      "image/png": "[encoded data removed]",
      "text/plain": [
       "<Figure size 432x288 with 2 Axes>"
      ]
     },
     "metadata": {},
     "output_type": "display_data"
    }
   ],
   "source": [
    "print_info(valid_df)\n",
    "plot_series(valid_df) # This is time and memory consuming. Do not run this cell unless necessary"
   ]
  },
  {
   "cell_type": "code",
   "execution_count": 9,
   "metadata": {},
   "outputs": [
    {
     "name": "stdout",
     "output_type": "stream",
     "text": [
      "Dataset shape = (27000000, 2)\n",
      "<class 'pandas.core.frame.DataFrame'>\n",
      "Int64Index: 27000000 entries, 219000000 to 245999999\n",
      "Data columns (total 2 columns):\n",
      "acoustic_data      int16\n",
      "time_to_failure    float64\n",
      "dtypes: float64(1), int16(1)\n",
      "memory usage: 463.5 MB\n",
      "           acoustic_data    time_to_failure\n",
      "219000000              1  6.969696360400000\n",
      "219000001             -1  6.969696359299999\n",
      "219000002              0  6.969696358200000\n",
      "219000003              3  6.969696357100000\n",
      "219000004              6  6.969696356000000\n",
      "Plotting series\n"
     ]
    },
    {
     "data": {
      "image/png": "[encoded data removed]",
      "text/plain": [
       "<Figure size 432x288 with 2 Axes>"
      ]
     },
     "metadata": {},
     "output_type": "display_data"
    }
   ],
   "source": [
    "print_info(test_df)\n",
    "plot_series(test_df) # This is time and memory consuming. Do not run this cell unless necessary"
   ]
  },
  {
   "cell_type": "markdown",
   "metadata": {},
   "source": [
    "# Understanding Data\n",
    "\n",
    "## Domain Perspective\n",
    "\n",
    "https://www.youtube.com/watch?v=T0AEtX-uPLA\n",
    "- Earthquakes occur when two parts of the earth suddenly move in relation to each other\n",
    "- Earthequake originates at a point in earth called focus and spreads up to the surface at a point called Epicenter.\n",
    "- A seismograph detects and records seismic waves. \\n\",\n",
    "- Types of Seismic waves include:  Pressure (or Primary) Waves (P-Waves), Shear (or Secondary) Waves (S-Waves) and Surface Waves. P-Waves and S-Waves are both Body waves.\n",
    "\n",
    "https://courses.lumenlearning.com/geophysical/chapter/earthquake-prediction/\n",
    "- Predciting when an earthquake will occur is more difficult than predicting where it will occur.\n",
    "- Sometimes (not always) earthquakes occur few seconds to few weeks after foreshocks.\n",
    "\n",
    "https://en.wikipedia.org/wiki/P-wave\n",
    "- P-Wave travel faster and hence are the first waves to reach sesimograph. They propagate through gases, liguids or solids. \\n\",\n",
    "- S-Waves are attenuated by liquids.\\n\",\n",
    "- P-Waves are non-destructive, while both S-Waves and Surfcae Waves are destructive. \\n\",\n",
    "- Earthquake warning is possible if P-Waves are detected. Advanced warning time is dependent on the delay beween the arrival of P-wave and the arrival of the first destructive waves. This delay is a function of how deep the focus is, nature of earth layers and others. It ranges from few seconds to 90 seconds. Ground vibrations resulting from truck movement and contruction activitoes on earth shall be rejected for accurate detection of P-waves.\n",
    "\n",
    "https://www.bgs.ac.uk/discoveringGeology/hazards/earthquakes/\n",
    "\n",
    "## Statistical Perspective\n",
    "\n",
    "https://towardsdatascience.com/how-not-to-use-machine-learning-for-time-series-forecasting-avoiding-the-pitfalls-19f9d7adf424\n",
    "\n",
    "We need to test data for random-walk/stochasiticity, e.g. correlation tests on both signal (f) and (df), covariance test?!\n",
    "\n"
   ]
  },
  {
   "cell_type": "code",
   "execution_count": 207,
   "metadata": {},
   "outputs": [
    {
     "data": {
      "text/plain": [
       "acoustic_data      5444.000000000000000\n",
       "time_to_failure      14.180599989999999\n",
       "dtype: float64"
      ]
     },
     "execution_count": 207,
     "metadata": {},
     "output_type": "execute_result"
    }
   ],
   "source": [
    "train_df.max()"
   ]
  },
  {
   "cell_type": "code",
   "execution_count": 208,
   "metadata": {},
   "outputs": [
    {
     "data": {
      "text/plain": [
       "acoustic_data     -4621.00000000000000\n",
       "time_to_failure       0.00069548217471\n",
       "dtype: float64"
      ]
     },
     "execution_count": 208,
     "metadata": {},
     "output_type": "execute_result"
    }
   ],
   "source": [
    "train_df.min()"
   ]
  },
  {
   "cell_type": "markdown",
   "metadata": {},
   "source": [
    "# Recurrent Neural Network - LSTM\n",
    "\n",
    "## Part 1 - Data Preprocessing"
   ]
  },
  {
   "cell_type": "code",
   "execution_count": 209,
   "metadata": {},
   "outputs": [],
   "source": [
    "# Importing the libraries\n",
    "import numpy as np\n",
    "import matplotlib.pyplot as plt\n",
    "import pandas as pd"
   ]
  },
  {
   "cell_type": "code",
   "execution_count": 210,
   "metadata": {},
   "outputs": [
    {
     "name": "stdout",
     "output_type": "stream",
     "text": [
      "Training will be performed on downsampled dataset which consists of  3475  examples out of the original number of training examples which is  139000000\n"
     ]
    }
   ],
   "source": [
    "# Importing the training set\n",
    "\"\"\"Temporary: we downsample the training datatset to reduce time!\"\"\"\n",
    "down_sample=40000\n",
    "dataset_train = train_df.iloc[::down_sample,:]\n",
    "training_set = dataset_train.iloc[:, 0:2].values\n",
    "print(\"Training will be performed on downsampled dataset which consists of \",dataset_train.shape[0],\n",
    "      \" examples out of the original number of training examples which is \", train_df.shape[0])"
   ]
  },
  {
   "cell_type": "code",
   "execution_count": 211,
   "metadata": {},
   "outputs": [
    {
     "name": "stdout",
     "output_type": "stream",
     "text": [
      "<class 'pandas.core.frame.DataFrame'>\n",
      "Int64Index: 3475 entries, 0 to 138960000\n",
      "Data columns (total 2 columns):\n",
      "acoustic_data      3475 non-null int16\n",
      "time_to_failure    3475 non-null float64\n",
      "dtypes: float64(1), int16(1)\n",
      "memory usage: 61.1 KB\n"
     ]
    },
    {
     "data": {
      "text/html": [
       "<div>\n",
       "<style scoped>\n",
       "    .dataframe tbody tr th:only-of-type {\n",
       "        vertical-align: middle;\n",
       "    }\n",
       "\n",
       "    .dataframe tbody tr th {\n",
       "        vertical-align: top;\n",
       "    }\n",
       "\n",
       "    .dataframe thead th {\n",
       "        text-align: right;\n",
       "    }\n",
       "</style>\n",
       "<table border=\"1\" class=\"dataframe\">\n",
       "  <thead>\n",
       "    <tr style=\"text-align: right;\">\n",
       "      <th></th>\n",
       "      <th>acoustic_data</th>\n",
       "      <th>time_to_failure</th>\n",
       "    </tr>\n",
       "  </thead>\n",
       "  <tbody>\n",
       "    <tr>\n",
       "      <th>0</th>\n",
       "      <td>12</td>\n",
       "      <td>1.4690999832</td>\n",
       "    </tr>\n",
       "    <tr>\n",
       "      <th>40000</th>\n",
       "      <td>8</td>\n",
       "      <td>1.4595965336</td>\n",
       "    </tr>\n",
       "    <tr>\n",
       "      <th>80000</th>\n",
       "      <td>-1</td>\n",
       "      <td>1.4488975896</td>\n",
       "    </tr>\n",
       "    <tr>\n",
       "      <th>120000</th>\n",
       "      <td>4</td>\n",
       "      <td>1.4382986456</td>\n",
       "    </tr>\n",
       "    <tr>\n",
       "      <th>160000</th>\n",
       "      <td>9</td>\n",
       "      <td>1.4275997016</td>\n",
       "    </tr>\n",
       "  </tbody>\n",
       "</table>\n",
       "</div>"
      ],
      "text/plain": [
       "        acoustic_data  time_to_failure\n",
       "0                  12     1.4690999832\n",
       "40000               8     1.4595965336\n",
       "80000              -1     1.4488975896\n",
       "120000              4     1.4382986456\n",
       "160000              9     1.4275997016"
      ]
     },
     "execution_count": 211,
     "metadata": {},
     "output_type": "execute_result"
    }
   ],
   "source": [
    "dataset_train.info()\n",
    "dataset_train.head()"
   ]
  },
  {
   "cell_type": "code",
   "execution_count": 212,
   "metadata": {},
   "outputs": [],
   "source": [
    "# Feature Scaling - Ignored for now\n",
    "\"\"\"\n",
    "from sklearn.preprocessing import MinMaxScaler\n",
    "\n",
    "sc = MinMaxScaler (feature_range=(0, 1))\n",
    "training_set_scaled = sc.fit_transform (training_set) \n",
    "\"\"\"\n",
    "training_set_scaled = training_set"
   ]
  },
  {
   "cell_type": "code",
   "execution_count": 213,
   "metadata": {},
   "outputs": [
    {
     "name": "stdout",
     "output_type": "stream",
     "text": [
      "The 3d shape necessary for RNN's input is  (3375, 100, 1)  . Note how the number of examples is reduced by the defined time steps, i.e.  100\n"
     ]
    }
   ],
   "source": [
    "# Creating a data structure with 100 timesteps and 1 output\n",
    "\n",
    "\"\"\"Temporary: 100 (steps in the past) is picked randomly while it should be carefully studied\"\"\"\n",
    "time_steps=100\n",
    "\n",
    "X_train = []\n",
    "y_train = []\n",
    "\n",
    "    \n",
    "for i in range (time_steps, training_set_scaled.shape[0]): \n",
    "    X_train.append (training_set_scaled[i - time_steps:i, 0])\n",
    "    y_train.append (training_set_scaled[i, 1])\n",
    "X_train, y_train = np.array (X_train), np.array (y_train)\n",
    "\n",
    "# Reshaping since RNN accepts 3d input\n",
    "X_train = np.reshape (X_train, (X_train.shape[0], X_train.shape[1], 1))\n",
    "print (\"The 3d shape necessary for RNN's input is \", X_train.shape, \" . Note how the number of examples is reduced by the defined time steps, i.e. \", time_steps)  "
   ]
  },
  {
   "cell_type": "code",
   "execution_count": 214,
   "metadata": {},
   "outputs": [
    {
     "name": "stdout",
     "output_type": "stream",
     "text": [
      "7.0   0.43069744882\n",
      "7.0   0.43069744882\n"
     ]
    }
   ],
   "source": [
    "#Check\n",
    "print(training_set_scaled[99,0], \" \", training_set_scaled[100,1])\n",
    "print(X_train[0,99,0],\" \", y_train[0])"
   ]
  },
  {
   "cell_type": "markdown",
   "metadata": {},
   "source": [
    "## Part 2 - Building the RNN"
   ]
  },
  {
   "cell_type": "code",
   "execution_count": 215,
   "metadata": {},
   "outputs": [],
   "source": [
    "# Importing the Keras libraries and packages\n",
    "from keras.models import Sequential\n",
    "from keras.layers import Dense\n",
    "from keras.layers import LSTM\n",
    "from keras.layers import Dropout\n",
    "\n",
    "# Initialising the RNN\n",
    "regressor = Sequential ()\n",
    "\n",
    "# Adding the first LSTM layer and some Dropout regularisation\n",
    "regressor.add (LSTM (units=50, return_sequences=True, input_shape=(X_train.shape[1], 1)))\n",
    "regressor.add (Dropout (0.2))\n",
    "\n",
    "# Adding a second LSTM layer and some Dropout regularisation\n",
    "regressor.add (LSTM (units=50, return_sequences=True))\n",
    "regressor.add (Dropout (0.2))\n",
    "\n",
    "# Adding a third LSTM layer and some Dropout regularisation\n",
    "regressor.add (LSTM (units=50, return_sequences=True))\n",
    "regressor.add (Dropout (0.2))\n",
    "\n",
    "# Adding a fourth LSTM layer and some Dropout regularisation\n",
    "regressor.add (LSTM (units=50))\n",
    "regressor.add (Dropout (0.2))\n",
    "\n",
    "# Adding the output layer\n",
    "regressor.add (Dense (units=1))\n",
    "\n",
    "# Compiling the RNN\n",
    "regressor.compile (optimizer='adam', loss='mean_squared_error')"
   ]
  },
  {
   "cell_type": "markdown",
   "metadata": {},
   "source": [
    "## Part 3 - Training the RNN"
   ]
  },
  {
   "cell_type": "code",
   "execution_count": 216,
   "metadata": {},
   "outputs": [
    {
     "name": "stdout",
     "output_type": "stream",
     "text": [
      "Training the RNN with the training set\n",
      "Epoch 1/3\n",
      "3375/3375 [==============================] - 61s 18ms/step - loss: 17.2971\n",
      "Epoch 2/3\n",
      "3375/3375 [==============================] - 58s 17ms/step - loss: 13.8613\n",
      "Epoch 3/3\n",
      "3375/3375 [==============================] - 58s 17ms/step - loss: 13.2465\n",
      "Training complete\n"
     ]
    }
   ],
   "source": [
    "print('Training the RNN with the training set')\n",
    "regressor.fit (X_train, y_train, epochs=3, batch_size=32)\n",
    "print('Training complete')"
   ]
  },
  {
   "cell_type": "markdown",
   "metadata": {},
   "source": [
    "## Part 4 - Making the predictions and visualising the results"
   ]
  },
  {
   "cell_type": "code",
   "execution_count": 217,
   "metadata": {},
   "outputs": [
    {
     "name": "stdout",
     "output_type": "stream",
     "text": [
      "Validation will be performed on truncated dataset which consists of  2000  examples out of the original number of training examples which is  80000000\n"
     ]
    }
   ],
   "source": [
    "# Import validation set\n",
    "\"\"\"Temporary: we downsample the testing datatset to reduce time!\"\"\"\n",
    "dataset_test = valid_df.iloc[::down_sample,:]\n",
    "real_time = dataset_test.iloc[:,1].values\n",
    "print(\"Validation will be performed on truncated dataset which consists of \",dataset_test.shape[0],\n",
    "      \" examples out of the original number of training examples which is \", valid_df.shape[0])"
   ]
  },
  {
   "cell_type": "code",
   "execution_count": 218,
   "metadata": {},
   "outputs": [
    {
     "name": "stdout",
     "output_type": "stream",
     "text": [
      "<class 'pandas.core.frame.DataFrame'>\n",
      "Int64Index: 2000 entries, 139000000 to 218960000\n",
      "Data columns (total 2 columns):\n",
      "acoustic_data      2000 non-null int16\n",
      "time_to_failure    2000 non-null float64\n",
      "dtypes: float64(1), int16(1)\n",
      "memory usage: 35.2 KB\n"
     ]
    },
    {
     "data": {
      "text/html": [
       "<div>\n",
       "<style scoped>\n",
       "    .dataframe tbody tr th:only-of-type {\n",
       "        vertical-align: middle;\n",
       "    }\n",
       "\n",
       "    .dataframe tbody tr th {\n",
       "        vertical-align: top;\n",
       "    }\n",
       "\n",
       "    .dataframe thead th {\n",
       "        text-align: right;\n",
       "    }\n",
       "</style>\n",
       "<table border=\"1\" class=\"dataframe\">\n",
       "  <thead>\n",
       "    <tr style=\"text-align: right;\">\n",
       "      <th></th>\n",
       "      <th>acoustic_data</th>\n",
       "      <th>time_to_failure</th>\n",
       "    </tr>\n",
       "  </thead>\n",
       "  <tbody>\n",
       "    <tr>\n",
       "      <th>139000000</th>\n",
       "      <td>5</td>\n",
       "      <td>12.635497500000001</td>\n",
       "    </tr>\n",
       "    <tr>\n",
       "      <th>139040000</th>\n",
       "      <td>10</td>\n",
       "      <td>12.624898556000000</td>\n",
       "    </tr>\n",
       "    <tr>\n",
       "      <th>139080000</th>\n",
       "      <td>4</td>\n",
       "      <td>12.614199612000000</td>\n",
       "    </tr>\n",
       "    <tr>\n",
       "      <th>139120000</th>\n",
       "      <td>8</td>\n",
       "      <td>12.604696163000000</td>\n",
       "    </tr>\n",
       "    <tr>\n",
       "      <th>139160000</th>\n",
       "      <td>7</td>\n",
       "      <td>12.593997219000000</td>\n",
       "    </tr>\n",
       "  </tbody>\n",
       "</table>\n",
       "</div>"
      ],
      "text/plain": [
       "           acoustic_data     time_to_failure\n",
       "139000000              5  12.635497500000001\n",
       "139040000             10  12.624898556000000\n",
       "139080000              4  12.614199612000000\n",
       "139120000              8  12.604696163000000\n",
       "139160000              7  12.593997219000000"
      ]
     },
     "execution_count": 218,
     "metadata": {},
     "output_type": "execute_result"
    }
   ],
   "source": [
    "dataset_test.info()\n",
    "dataset_test.head()"
   ]
  },
  {
   "cell_type": "code",
   "execution_count": 219,
   "metadata": {},
   "outputs": [
    {
     "data": {
      "text/plain": [
       "(2100, 1)"
      ]
     },
     "execution_count": 219,
     "metadata": {},
     "output_type": "execute_result"
    }
   ],
   "source": [
    "#Because we have 100 time steps and we we want to predict the first entry of time_to_failure in the validation set, we have to look back 100 samples. \n",
    "#Hence, we get these 100 past samples from the training set. This is why we first concatenate both training and validation. This step may be omitted if we just need to predict one value\n",
    "#for the whole test set (such as in the provided test files where one value is only needed so we can look back in the same data provided ) \n",
    "dataset_total = pd.concat((dataset_train['acoustic_data'], dataset_test['acoustic_data']), axis = 0)\n",
    "inputs = dataset_total[len(dataset_total) - len(dataset_test) - time_steps:].values\n",
    "inputs = inputs.reshape(-1,1)\n",
    "#inputs_scaled = sc.transform(inputs)\n",
    "inputs_scaled=inputs\n",
    "inputs_scaled.shape # So we end up with input size = size of validation set + 100"
   ]
  },
  {
   "cell_type": "code",
   "execution_count": 220,
   "metadata": {},
   "outputs": [
    {
     "data": {
      "text/plain": [
       "(2000, 100, 1)"
      ]
     },
     "execution_count": 220,
     "metadata": {},
     "output_type": "execute_result"
    }
   ],
   "source": [
    "X_test = []\n",
    "\n",
    "for i in range(time_steps, inputs_scaled.shape[0]):\n",
    "    X_test.append(inputs_scaled[i-time_steps:i, 0])\n",
    "X_test = np.array(X_test)\n",
    "X_test = np.reshape(X_test, (X_test.shape[0], X_test.shape[1], 1))\n",
    "X_test.shape"
   ]
  },
  {
   "cell_type": "code",
   "execution_count": 221,
   "metadata": {},
   "outputs": [],
   "source": [
    "predicted_time = regressor.predict(X_test)\n",
    "#predicted_time = sc.inverse_transform(predicted_time)"
   ]
  },
  {
   "cell_type": "code",
   "execution_count": 222,
   "metadata": {},
   "outputs": [],
   "source": [
    "prediction=pd.DataFrame(predicted_time)\n",
    "prediction.to_csv(r'prediction.csv')"
   ]
  },
  {
   "cell_type": "code",
   "execution_count": 223,
   "metadata": {},
   "outputs": [
    {
     "data": {
      "image/png": "[encoded data removed]",
      "text/plain": [
       "<Figure size 432x288 with 1 Axes>"
      ]
     },
     "metadata": {
      "needs_background": "light"
     },
     "output_type": "display_data"
    }
   ],
   "source": [
    "# Visualising the results\n",
    "plt.plot(real_time, color = 'red', label = 'Real time_to_failure')\n",
    "plt.plot(predicted_time, color = 'blue', label = 'Predicted time_to_failure')\n",
    "plt.title('Real vs Predicted Time-to-failure using LSTM')\n",
    "plt.xlabel('Time')\n",
    "plt.ylabel('time-to-failure')\n",
    "plt.legend()\n",
    "plt.show()"
   ]
  },
  {
   "cell_type": "code",
   "execution_count": null,
   "metadata": {},
   "outputs": [],
   "source": []
  }
 ],
 "metadata": {
  "kernelspec": {
   "display_name": "Python 3",
   "language": "python",
   "name": "python3"
  },
  "language_info": {
   "codemirror_mode": {
    "name": "ipython",
    "version": 3
   },
   "file_extension": ".py",
   "mimetype": "text/x-python",
   "name": "python",
   "nbconvert_exporter": "python",
   "pygments_lexer": "ipython3",
   "version": "3.6.7"
  }
 },
 "nbformat": 4,
 "nbformat_minor": 2
}
