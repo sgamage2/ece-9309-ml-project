{
 "cells": [
  {
   "cell_type": "markdown",
   "metadata": {},
   "source": [
    "# LANL Notebook"
   ]
  },
  {
   "cell_type": "markdown",
   "metadata": {},
   "source": [
    "Link to competition and dataset: https://www.kaggle.com/c/LANL-Earthquake-Prediction\n",
    "\n",
    "Anaysis: https://www.kaggle.com/jsaguiar/seismic-data-exploration\n",
    "\n",
    "\n",
    "## The Dataset\n",
    "The training dataset has 2 columns (x, y), representing a single, continuous seismic signal.  x is the signal value, and y is the time-to-next-earthquake. The test data consists of segments of seismic signals (x values), and for each signal point in a segment, a time-to-next-earthquake (y) must be predicted by a machine learning model.\n",
    "\n",
    "The dataset is large with over 600 million data points in the training signal (9 GB in csv format) and working with it will prove to be challenging (loading, visualizing, training models etc.).\n"
   ]
  },
  {
   "cell_type": "markdown",
   "metadata": {},
   "source": [
    "## Useful Ideas\n",
    "\n",
    "1. Downsampling to reduce dataset size:\n",
    "> There are ways to do this without aliasing error (or minimal aliasing error). See the [Wiki article](https://en.wikipedia.org/wiki/Downsampling_(signal_processing)) (short).\n",
    "\n",
    "\n",
    "2. Noise filtering and other signal enhancements:\n",
    "> The signal *may* be noisy. Any good filters (especially those used in the seismic domain) will improve our model accuracy.\n",
    "\n",
    "\n",
    "3. Feature engineering: the raw signal maybe 'too raw' for the RNN to learn useful/ predictive patterns. We may have to engineer features.\n",
    "\n",
    "    3.1. Feature detecting filters\n",
    "> Features in signals are usually detected by filters (a filter is defined by its kernel: the impulse response). There may be feature detecting filters already used in the seismic analysis domain. Eg: filters to detect the presence of a peak.\n",
    "\n",
    "    3.2. Engineering other features\n",
    "> We can engineering other features such as: does_peak_exist_in_this_window, time_since_last_peak, or other signals derived from the original such as first_derivative, second_derivative, Fourier transform (DFT) of the window, moving_average_smoothed, etc.\n",
    "    \n",
    "    3.3. Map data to higher dimension, e.g. using Kernels\n",
    "\n",
    "\n",
    "4. Automating feature engineering via convolutional nets (CNN)\n",
    "> CNNs essentially learn the kernels of filters as part of the neural network. We can have some CNN layers before the LSTM layers and see if that works.\n",
    "\n",
    "\n",
    "5. I checked some of the test files and it seems that the peaks are absent. Hence, I stongly recommend completely eliminating the peaks before training the RNN. Peaks will be considered outliers.\n",
    "\n",
    "\n",
    "6. On the side, we will briefly try a different model, at least to answer the question \"Did you try any other models?\""
   ]
  },
  {
   "cell_type": "code",
   "execution_count": 1,
   "metadata": {},
   "outputs": [],
   "source": [
    "# Imports for the script\n",
    "\n",
    "import numpy as np\n",
    "import pandas as pd\n",
    "import sys\n",
    "import time, os\n",
    "\n",
    "import matplotlib.pyplot as plt\n",
    "\n",
    "import matplotlib\n",
    "matplotlib.use('Agg')\n",
    "#%matplotlib inline\n",
    "\n",
    "from sklearn.preprocessing import StandardScaler, MinMaxScaler\n",
    "from sklearn.metrics import mean_squared_error, mean_absolute_error, r2_score\n",
    "\n",
    "import tensorflow as tf\n",
    "\n",
    "from keras.models import Sequential\n",
    "from keras.layers import Dense\n",
    "from keras.layers import LSTM\n",
    "from keras.layers import Dropout\n",
    "from keras.callbacks import EarlyStopping\n",
    "\n",
    "# To visualize the RNN network\n",
    "from keras.utils.vis_utils import plot_model\n",
    "import pydot\n",
    "\n",
    "import utility  # Contains various helper utility functions"
   ]
  },
  {
   "cell_type": "code",
   "execution_count": 2,
   "metadata": {},
   "outputs": [
    {
     "name": "stdout",
     "output_type": "stream",
     "text": [
      "GPU device not found. Using CPU\n"
     ]
    }
   ],
   "source": [
    "# Hardware (GPU or CPU)\n",
    "\n",
    "os.environ['CUDA_VISIBLE_DEVICES'] = '-1'   # Disable GPU as it appears to be slower than CPU (to enable GPU, comment out this line and restart the kernel)\n",
    "\n",
    "device_name = tf.test.gpu_device_name()\n",
    "\n",
    "if device_name:\n",
    "    print('GPU device found: {}. Using GPU'.format(device_name))\n",
    "else:\n",
    "    print(\"GPU device not found. Using CPU\")\n",
    "    #raise SystemError('GPU device not found')   # Stop the program if GPU is unavailabile: disabled for now"
   ]
  },
  {
   "cell_type": "code",
   "execution_count": 3,
   "metadata": {},
   "outputs": [],
   "source": [
    "# Variables that determines how the script behaves\n",
    "\n",
    "# Data was convereted from CSV to HDF then truncated\n",
    "hdf_key = 'my_key'\n",
    "\n",
    "# Change the following to point to proper local paths\n",
    "truncated_train_hdf_file = '../LANL-Earthquake-Prediction/truncated_train_hdf.h5' \n",
    "validation_hdf_file = '../LANL-Earthquake-Prediction/validation_hdf.h5'\n",
    "test_hdf_file = '../LANL-Earthquake-Prediction/test_hdf.h5'\n",
    "\n",
    "do_plot_series = False   # Whether training, validation, testing series should be plotted (time and memory consuming: keep this disabled unless necessary)"
   ]
  },
  {
   "cell_type": "code",
   "execution_count": 4,
   "metadata": {},
   "outputs": [],
   "source": [
    "# Tunable parameters relating to the operation of the algorithm\n",
    "\n",
    "# Dummy class to hold parameters\n",
    "class Parameters():\n",
    "    pass\n",
    "\n",
    "params = Parameters()\n",
    "\n",
    "# Data preprocessing\n",
    "params.scaling_type = 'None'   # Supports: None, StandardScaler, MinMaxScaler\n",
    "params.down_sample = 40000\n",
    "\n",
    "# LSTM network architecture\n",
    "params.time_steps = 50\n",
    "params.window_stride = 25\n",
    "params.rnn_layer_units = [10, 5, 2]   # The length of this list = no. of hidden layers\n",
    "params.rnn_layer_dropout_rate = [0.2, 0.2, 0]   # Dropout rate for each layer (0 for no dropout)\n",
    "\n",
    "# Training\n",
    "params.epochs = 2\n",
    "params.batch_size = 64\n",
    "\n",
    "# Admin variables unrelated to RNN parameters\n",
    "params.results_dir = 'results/current_run'   # Folder to save results\n",
    "params.experiment_num = -1   # For bookkeeping; currently not used\n",
    "params.description = ''   # To print in the log"
   ]
  },
  {
   "cell_type": "code",
   "execution_count": 5,
   "metadata": {},
   "outputs": [],
   "source": [
    "# If certain params are provided as command line arguments to this notebook, they are set here, overriding the values set in the code above\n",
    "# This is done so that this notebook can be run from the command line or from another script, thereby automating the experimentation process\n",
    "\n",
    "if '-f' in sys.argv: # To prevent error given when running this cell on the Jupyter notebook\n",
    "    sys.argv.remove('-f')\n",
    "\n",
    "if len(sys.argv) > 2:   # Command line args available\n",
    "    utility.set_params_from_command_line(params)"
   ]
  },
  {
   "cell_type": "code",
   "execution_count": 6,
   "metadata": {},
   "outputs": [
    {
     "name": "stdout",
     "output_type": "stream",
     "text": [
      "\n",
      "================= RNN parameters used for this run ================= \n",
      "\n",
      "scaling_type = None\n",
      "down_sample = 40000\n",
      "time_steps = 50\n",
      "window_stride = 25\n",
      "rnn_layer_units = [10, 5, 2]\n",
      "rnn_layer_dropout_rate = [0.2, 0.2, 0]\n",
      "epochs = 2\n",
      "batch_size = 64\n",
      "results_dir = results/current_run\n",
      "experiment_num = -1\n",
      "description = \n",
      "\n",
      "==================================================================== \n",
      "\n"
     ]
    }
   ],
   "source": [
    "print('\\n================= RNN parameters used for this run ================= \\n')\n",
    "utility.print_params(params)\n",
    "print('\\n==================================================================== \\n')"
   ]
  },
  {
   "cell_type": "code",
   "execution_count": 7,
   "metadata": {},
   "outputs": [],
   "source": [
    "# Some checks to ensure the parameters are valid\n",
    "assert len(params.rnn_layer_units) == len(params.rnn_layer_dropout_rate)\n",
    "assert params.scaling_type == 'None' or params.scaling_type == 'StandardScaler' or params.scaling_type == 'MinMaxScaler'"
   ]
  },
  {
   "cell_type": "code",
   "execution_count": 8,
   "metadata": {},
   "outputs": [],
   "source": [
    "if not os.path.exists(params.results_dir):\n",
    "    os.makedirs(params.results_dir)"
   ]
  },
  {
   "cell_type": "markdown",
   "metadata": {},
   "source": [
    "## Import truncated Data from hdf files\n",
    "### 3 sets: train, validation, test. Print basic stats about them and plot them"
   ]
  },
  {
   "cell_type": "code",
   "execution_count": 9,
   "metadata": {},
   "outputs": [
    {
     "name": "stdout",
     "output_type": "stream",
     "text": [
      "Reading HDF dataset ../LANL-Earthquake-Prediction/truncated_train_hdf.h5\n",
      "Reading complete. time_to_read=5.73 seconds\n",
      "Reading HDF dataset ../LANL-Earthquake-Prediction/validation_hdf.h5\n",
      "Reading complete. time_to_read=3.37 seconds\n",
      "Reading HDF dataset ../LANL-Earthquake-Prediction/test_hdf.h5\n",
      "Reading complete. time_to_read=1.14 seconds\n"
     ]
    }
   ],
   "source": [
    "train_df = utility.read_hdf(truncated_train_hdf_file, hdf_key)\n",
    "valid_df = utility.read_hdf(validation_hdf_file, hdf_key)\n",
    "test_df = utility.read_hdf(test_hdf_file, hdf_key)"
   ]
  },
  {
   "cell_type": "code",
   "execution_count": 10,
   "metadata": {},
   "outputs": [
    {
     "name": "stdout",
     "output_type": "stream",
     "text": [
      "Dataset shape = (139000000, 2)\n",
      "<class 'pandas.core.frame.DataFrame'>\n",
      "Int64Index: 139000000 entries, 0 to 138999999\n",
      "Data columns (total 2 columns):\n",
      "acoustic_data      int16\n",
      "time_to_failure    float64\n",
      "dtypes: float64(1), int16(1)\n",
      "memory usage: 2.3 GB\n",
      "   acoustic_data  time_to_failure\n",
      "0             12     1.4690999832\n",
      "1              6     1.4690999821\n",
      "2              8     1.4690999810\n",
      "3              5     1.4690999799\n",
      "4              8     1.4690999788\n"
     ]
    }
   ],
   "source": [
    "utility.print_info(train_df)\n",
    "\n",
    "if do_plot_series:\n",
    "    utility.plot_series(train_df, \"Training series\", params.results_dir) # This is time and memory consuming. Do not run this cell unless necessary"
   ]
  },
  {
   "cell_type": "code",
   "execution_count": 11,
   "metadata": {},
   "outputs": [
    {
     "name": "stdout",
     "output_type": "stream",
     "text": [
      "Dataset shape = (80000000, 2)\n",
      "<class 'pandas.core.frame.DataFrame'>\n",
      "Int64Index: 80000000 entries, 139000000 to 218999999\n",
      "Data columns (total 2 columns):\n",
      "acoustic_data      int16\n",
      "time_to_failure    float64\n",
      "dtypes: float64(1), int16(1)\n",
      "memory usage: 1.3 GB\n",
      "           acoustic_data     time_to_failure\n",
      "139000000              5  12.635497500000001\n",
      "139000001              3  12.635497499000001\n",
      "139000002              5  12.635497497999999\n",
      "139000003             -2  12.635497497000001\n",
      "139000004              0  12.635497495999999\n"
     ]
    }
   ],
   "source": [
    "utility.print_info(valid_df)\n",
    "\n",
    "if do_plot_series:\n",
    "    utility.plot_series(valid_df, \"Validation series\", params.results_dir) # This is time and memory consuming. Do not run this cell unless necessary"
   ]
  },
  {
   "cell_type": "code",
   "execution_count": 12,
   "metadata": {},
   "outputs": [
    {
     "name": "stdout",
     "output_type": "stream",
     "text": [
      "Dataset shape = (27000000, 2)\n",
      "<class 'pandas.core.frame.DataFrame'>\n",
      "Int64Index: 27000000 entries, 219000000 to 245999999\n",
      "Data columns (total 2 columns):\n",
      "acoustic_data      int16\n",
      "time_to_failure    float64\n",
      "dtypes: float64(1), int16(1)\n",
      "memory usage: 463.5 MB\n",
      "           acoustic_data    time_to_failure\n",
      "219000000              1  6.969696360400000\n",
      "219000001             -1  6.969696359299999\n",
      "219000002              0  6.969696358200000\n",
      "219000003              3  6.969696357100000\n",
      "219000004              6  6.969696356000000\n"
     ]
    }
   ],
   "source": [
    "utility.print_info(test_df)\n",
    "\n",
    "if do_plot_series:\n",
    "    utility.plot_series(test_df, \"Testing series\", params.results_dir) # This is time and memory consuming. Do not run this cell unless necessary"
   ]
  },
  {
   "cell_type": "markdown",
   "metadata": {},
   "source": [
    "# Understanding Data\n",
    "\n",
    "## Domain Perspective\n",
    "\n",
    "https://www.youtube.com/watch?v=T0AEtX-uPLA\n",
    "- Earthquakes occur when two parts of the earth suddenly move in relation to each other\n",
    "- Earthequake originates at a point in earth called focus and spreads up to the surface at a point called Epicenter.\n",
    "- A seismograph detects and records seismic waves. \\n\",\n",
    "- Types of Seismic waves include:  Pressure (or Primary) Waves (P-Waves), Shear (or Secondary) Waves (S-Waves) and Surface Waves. P-Waves and S-Waves are both Body waves.\n",
    "\n",
    "https://courses.lumenlearning.com/geophysical/chapter/earthquake-prediction/\n",
    "- Predciting when an earthquake will occur is more difficult than predicting where it will occur.\n",
    "- Sometimes (not always) earthquakes occur few seconds to few weeks after foreshocks.\n",
    "\n",
    "https://en.wikipedia.org/wiki/P-wave\n",
    "- P-Wave travel faster and hence are the first waves to reach sesimograph. They propagate through gases, liguids or solids. \\n\",\n",
    "- S-Waves are attenuated by liquids.\\n\",\n",
    "- P-Waves are non-destructive, while both S-Waves and Surfcae Waves are destructive. \\n\",\n",
    "- Earthquake warning is possible if P-Waves are detected. Advanced warning time is dependent on the delay beween the arrival of P-wave and the arrival of the first destructive waves. This delay is a function of how deep the focus is, nature of earth layers and others. It ranges from few seconds to 90 seconds. Ground vibrations resulting from truck movement and contruction activitoes on earth shall be rejected for accurate detection of P-waves.\n",
    "\n",
    "https://www.bgs.ac.uk/discoveringGeology/hazards/earthquakes/\n",
    "\n",
    "## Statistical Perspective\n",
    "\n",
    "https://towardsdatascience.com/how-not-to-use-machine-learning-for-time-series-forecasting-avoiding-the-pitfalls-19f9d7adf424\n",
    "\n",
    "We need to test data for random-walk/stochasiticity, e.g. correlation tests on both signal (f) and (df), covariance test?!\n",
    "\n"
   ]
  },
  {
   "cell_type": "code",
   "execution_count": 43,
   "metadata": {},
   "outputs": [],
   "source": [
    "#train_df.max()"
   ]
  },
  {
   "cell_type": "code",
   "execution_count": 44,
   "metadata": {},
   "outputs": [],
   "source": [
    "#train_df.min()"
   ]
  },
  {
   "cell_type": "markdown",
   "metadata": {},
   "source": [
    "# Recurrent Neural Network - LSTM\n",
    "\n",
    "## Part 1 - Data Preprocessing\n",
    "\n",
    "### Part 1.1 - [Filtering] + Downsampling"
   ]
  },
  {
   "cell_type": "code",
   "execution_count": 45,
   "metadata": {},
   "outputs": [
    {
     "name": "stdout",
     "output_type": "stream",
     "text": [
      "Training will be performed on downsampled dataset which consists of  3475  examples out of the original number of training examples which is  139000000\n",
      "Plotting series\n",
      "Plot saved to: results/current_run/Downsampled training series.png\n",
      "Plotting complete. time_to_plot=0.23 seconds\n"
     ]
    },
    {
     "data": {
      "image/png": "[encoded data removed]",
      "text/plain": [
       "<Figure size 432x288 with 2 Axes>"
      ]
     },
     "metadata": {},
     "output_type": "display_data"
    }
   ],
   "source": [
    "# Importing the training set\n",
    "\"\"\"Temporary: we downsample the training datatset to reduce time!\"\"\"\n",
    "\n",
    "dataset_train = train_df.iloc[::params.down_sample,:]\n",
    "\n",
    "print(\"Training will be performed on downsampled dataset which consists of \",dataset_train.shape[0],\n",
    "      \" examples out of the original number of training examples which is \", train_df.shape[0])\n",
    "\n",
    "utility.plot_series(dataset_train, \"Downsampled training series\", params.results_dir)\n",
    "\n",
    "training_set = dataset_train.values"
   ]
  },
  {
   "cell_type": "code",
   "execution_count": 46,
   "metadata": {},
   "outputs": [
    {
     "name": "stdout",
     "output_type": "stream",
     "text": [
      "<class 'pandas.core.frame.DataFrame'>\n",
      "Int64Index: 3475 entries, 0 to 138960000\n",
      "Data columns (total 2 columns):\n",
      "acoustic_data      3475 non-null int16\n",
      "time_to_failure    3475 non-null float64\n",
      "dtypes: float64(1), int16(1)\n",
      "memory usage: 61.1 KB\n"
     ]
    },
    {
     "data": {
      "text/html": [
       "<div>\n",
       "<style scoped>\n",
       "    .dataframe tbody tr th:only-of-type {\n",
       "        vertical-align: middle;\n",
       "    }\n",
       "\n",
       "    .dataframe tbody tr th {\n",
       "        vertical-align: top;\n",
       "    }\n",
       "\n",
       "    .dataframe thead th {\n",
       "        text-align: right;\n",
       "    }\n",
       "</style>\n",
       "<table border=\"1\" class=\"dataframe\">\n",
       "  <thead>\n",
       "    <tr style=\"text-align: right;\">\n",
       "      <th></th>\n",
       "      <th>acoustic_data</th>\n",
       "      <th>time_to_failure</th>\n",
       "    </tr>\n",
       "  </thead>\n",
       "  <tbody>\n",
       "    <tr>\n",
       "      <th>0</th>\n",
       "      <td>12</td>\n",
       "      <td>1.4690999832</td>\n",
       "    </tr>\n",
       "    <tr>\n",
       "      <th>40000</th>\n",
       "      <td>8</td>\n",
       "      <td>1.4595965336</td>\n",
       "    </tr>\n",
       "    <tr>\n",
       "      <th>80000</th>\n",
       "      <td>-1</td>\n",
       "      <td>1.4488975896</td>\n",
       "    </tr>\n",
       "    <tr>\n",
       "      <th>120000</th>\n",
       "      <td>4</td>\n",
       "      <td>1.4382986456</td>\n",
       "    </tr>\n",
       "    <tr>\n",
       "      <th>160000</th>\n",
       "      <td>9</td>\n",
       "      <td>1.4275997016</td>\n",
       "    </tr>\n",
       "  </tbody>\n",
       "</table>\n",
       "</div>"
      ],
      "text/plain": [
       "        acoustic_data  time_to_failure\n",
       "0                  12     1.4690999832\n",
       "40000               8     1.4595965336\n",
       "80000              -1     1.4488975896\n",
       "120000              4     1.4382986456\n",
       "160000              9     1.4275997016"
      ]
     },
     "execution_count": 46,
     "metadata": {},
     "output_type": "execute_result"
    }
   ],
   "source": [
    "dataset_train.info()\n",
    "dataset_train.head()"
   ]
  },
  {
   "cell_type": "code",
   "execution_count": 47,
   "metadata": {},
   "outputs": [
    {
     "name": "stdout",
     "output_type": "stream",
     "text": [
      "Validation will be performed on truncated dataset which consists of  2000  examples out of the original number of validation examples which is  80000000\n",
      "Plotting series\n",
      "Plot saved to: results/current_run/Downsampled validation series.png\n",
      "Plotting complete. time_to_plot=0.24 seconds\n"
     ]
    },
    {
     "data": {
      "image/png": "[encoded data removed]",
      "text/plain": [
       "<Figure size 432x288 with 2 Axes>"
      ]
     },
     "metadata": {},
     "output_type": "display_data"
    }
   ],
   "source": [
    "# Import validation set\n",
    "\"\"\"Temporary: we downsample the testing datatset to reduce time!\"\"\"\n",
    "dataset_valid = valid_df.iloc[::params.down_sample, :]\n",
    "\n",
    "print(\"Validation will be performed on truncated dataset which consists of \", dataset_valid.shape[0],\n",
    "      \" examples out of the original number of validation examples which is \", valid_df.shape[0])\n",
    "\n",
    "final_valid_set = dataset_valid\n",
    "\n",
    "utility.plot_series(final_valid_set, \"Downsampled validation series\", params.results_dir)\n",
    "\n",
    "final_valid_set = final_valid_set.values"
   ]
  },
  {
   "cell_type": "code",
   "execution_count": 48,
   "metadata": {},
   "outputs": [
    {
     "name": "stdout",
     "output_type": "stream",
     "text": [
      "<class 'pandas.core.frame.DataFrame'>\n",
      "Int64Index: 2000 entries, 139000000 to 218960000\n",
      "Data columns (total 2 columns):\n",
      "acoustic_data      2000 non-null int16\n",
      "time_to_failure    2000 non-null float64\n",
      "dtypes: float64(1), int16(1)\n",
      "memory usage: 35.2 KB\n"
     ]
    },
    {
     "data": {
      "text/html": [
       "<div>\n",
       "<style scoped>\n",
       "    .dataframe tbody tr th:only-of-type {\n",
       "        vertical-align: middle;\n",
       "    }\n",
       "\n",
       "    .dataframe tbody tr th {\n",
       "        vertical-align: top;\n",
       "    }\n",
       "\n",
       "    .dataframe thead th {\n",
       "        text-align: right;\n",
       "    }\n",
       "</style>\n",
       "<table border=\"1\" class=\"dataframe\">\n",
       "  <thead>\n",
       "    <tr style=\"text-align: right;\">\n",
       "      <th></th>\n",
       "      <th>acoustic_data</th>\n",
       "      <th>time_to_failure</th>\n",
       "    </tr>\n",
       "  </thead>\n",
       "  <tbody>\n",
       "    <tr>\n",
       "      <th>139000000</th>\n",
       "      <td>5</td>\n",
       "      <td>12.635497500000001</td>\n",
       "    </tr>\n",
       "    <tr>\n",
       "      <th>139040000</th>\n",
       "      <td>10</td>\n",
       "      <td>12.624898556000000</td>\n",
       "    </tr>\n",
       "    <tr>\n",
       "      <th>139080000</th>\n",
       "      <td>4</td>\n",
       "      <td>12.614199612000000</td>\n",
       "    </tr>\n",
       "    <tr>\n",
       "      <th>139120000</th>\n",
       "      <td>8</td>\n",
       "      <td>12.604696163000000</td>\n",
       "    </tr>\n",
       "    <tr>\n",
       "      <th>139160000</th>\n",
       "      <td>7</td>\n",
       "      <td>12.593997219000000</td>\n",
       "    </tr>\n",
       "  </tbody>\n",
       "</table>\n",
       "</div>"
      ],
      "text/plain": [
       "           acoustic_data     time_to_failure\n",
       "139000000              5  12.635497500000001\n",
       "139040000             10  12.624898556000000\n",
       "139080000              4  12.614199612000000\n",
       "139120000              8  12.604696163000000\n",
       "139160000              7  12.593997219000000"
      ]
     },
     "execution_count": 48,
     "metadata": {},
     "output_type": "execute_result"
    }
   ],
   "source": [
    "dataset_valid.info()\n",
    "dataset_valid.head()"
   ]
  },
  {
   "cell_type": "code",
   "execution_count": 49,
   "metadata": {},
   "outputs": [
    {
     "name": "stdout",
     "output_type": "stream",
     "text": [
      "Testing will be performed on truncated dataset which consists of  675  examples out of the original number of test examples which is  27000000\n",
      "Plotting series\n",
      "Plot saved to: results/current_run/Downsampled test series.png\n",
      "Plotting complete. time_to_plot=0.20 seconds\n"
     ]
    },
    {
     "data": {
      "image/png": "[encoded data removed]",
      "text/plain": [
       "<Figure size 432x288 with 2 Axes>"
      ]
     },
     "metadata": {},
     "output_type": "display_data"
    }
   ],
   "source": [
    "# Import test set\n",
    "\"\"\"Temporary: we downsample the testing datatset to reduce time!\"\"\"\n",
    "dataset_test = test_df.iloc[::params.down_sample, :]\n",
    "\n",
    "print(\"Testing will be performed on truncated dataset which consists of \", dataset_test.shape[0],\n",
    "      \" examples out of the original number of test examples which is \", test_df.shape[0])\n",
    "\n",
    "final_test_set = dataset_test\n",
    "\n",
    "utility.plot_series(final_test_set, \"Downsampled test series\", params.results_dir)\n",
    "\n",
    "final_test_set = final_test_set.values"
   ]
  },
  {
   "cell_type": "code",
   "execution_count": 50,
   "metadata": {},
   "outputs": [
    {
     "name": "stdout",
     "output_type": "stream",
     "text": [
      "<class 'pandas.core.frame.DataFrame'>\n",
      "Int64Index: 675 entries, 219000000 to 245960000\n",
      "Data columns (total 2 columns):\n",
      "acoustic_data      675 non-null int16\n",
      "time_to_failure    675 non-null float64\n",
      "dtypes: float64(1), int16(1)\n",
      "memory usage: 11.9 KB\n"
     ]
    },
    {
     "data": {
      "text/html": [
       "<div>\n",
       "<style scoped>\n",
       "    .dataframe tbody tr th:only-of-type {\n",
       "        vertical-align: middle;\n",
       "    }\n",
       "\n",
       "    .dataframe tbody tr th {\n",
       "        vertical-align: top;\n",
       "    }\n",
       "\n",
       "    .dataframe thead th {\n",
       "        text-align: right;\n",
       "    }\n",
       "</style>\n",
       "<table border=\"1\" class=\"dataframe\">\n",
       "  <thead>\n",
       "    <tr style=\"text-align: right;\">\n",
       "      <th></th>\n",
       "      <th>acoustic_data</th>\n",
       "      <th>time_to_failure</th>\n",
       "    </tr>\n",
       "  </thead>\n",
       "  <tbody>\n",
       "    <tr>\n",
       "      <th>219000000</th>\n",
       "      <td>1</td>\n",
       "      <td>6.9696963604</td>\n",
       "    </tr>\n",
       "    <tr>\n",
       "      <th>219040000</th>\n",
       "      <td>4</td>\n",
       "      <td>6.9589974164</td>\n",
       "    </tr>\n",
       "    <tr>\n",
       "      <th>219080000</th>\n",
       "      <td>4</td>\n",
       "      <td>6.9483984724</td>\n",
       "    </tr>\n",
       "    <tr>\n",
       "      <th>219120000</th>\n",
       "      <td>6</td>\n",
       "      <td>6.9376995284</td>\n",
       "    </tr>\n",
       "    <tr>\n",
       "      <th>219160000</th>\n",
       "      <td>-2</td>\n",
       "      <td>6.9281960788</td>\n",
       "    </tr>\n",
       "  </tbody>\n",
       "</table>\n",
       "</div>"
      ],
      "text/plain": [
       "           acoustic_data  time_to_failure\n",
       "219000000              1     6.9696963604\n",
       "219040000              4     6.9589974164\n",
       "219080000              4     6.9483984724\n",
       "219120000              6     6.9376995284\n",
       "219160000             -2     6.9281960788"
      ]
     },
     "execution_count": 50,
     "metadata": {},
     "output_type": "execute_result"
    }
   ],
   "source": [
    "dataset_test.info()\n",
    "dataset_test.head()"
   ]
  },
  {
   "cell_type": "markdown",
   "metadata": {},
   "source": [
    "### Part 1.2 - Feature scaling"
   ]
  },
  {
   "cell_type": "code",
   "execution_count": 51,
   "metadata": {},
   "outputs": [
    {
     "name": "stdout",
     "output_type": "stream",
     "text": [
      "Scaling the datasets. scaling_type=None\n",
      "Scaling complete. time_to_scale=0.00 seconds\n"
     ]
    }
   ],
   "source": [
    "# Feature Scaling\n",
    "print('Scaling the datasets. scaling_type={}'.format(params.scaling_type))\n",
    "t0 = time.time()\n",
    "    \n",
    "if params.scaling_type == 'None':\n",
    "    training_set_scaled = training_set\n",
    "    valid_set_scaled = final_valid_set\n",
    "    test_set_scaled = final_test_set\n",
    "else:\n",
    "    if params.scaling_type == 'MinMaxScaler':\n",
    "        scaler = MinMaxScaler(feature_range=(0, 1))\n",
    "    elif params.scaling_type == 'StandardScaler':\n",
    "        scaler = StandardScaler()\n",
    "    \n",
    "    signal_scaled = scaler.fit_transform(training_set[:,0].reshape(-1,1))\n",
    "    training_set_scaled = training_set.copy()   # May not be necessary\n",
    "    training_set_scaled[:,0] = signal_scaled.reshape(-1)\n",
    "    \n",
    "    signal_scaled = scaler.fit_transform(final_valid_set[:,0].reshape(-1,1))\n",
    "    valid_set_scaled = final_valid_set.copy()   # May not be necessary\n",
    "    valid_set_scaled[:,0] = signal_scaled.reshape(-1)\n",
    "    \n",
    "    signal_scaled = scaler.fit_transform(final_test_set[:,0].reshape(-1,1))\n",
    "    test_set_scaled = final_test_set.copy()   # May not be necessary\n",
    "    test_set_scaled[:,0] = signal_scaled.reshape(-1)\n",
    "    \n",
    "    #valid_set_scaled = scaler.transform(final_valid_set)\n",
    "    #test_set_scaled = scaler.transform(final_test_set)\n",
    "\n",
    "print('Scaling complete. time_to_scale={:.2f} seconds'.format(time.time() - t0))"
   ]
  },
  {
   "cell_type": "markdown",
   "metadata": {},
   "source": [
    "### Part 1.3 - Preparing time-windowed data matrix (to feed to the LSTM)"
   ]
  },
  {
   "cell_type": "code",
   "execution_count": 52,
   "metadata": {},
   "outputs": [
    {
     "name": "stdout",
     "output_type": "stream",
     "text": [
      "Preparing input to the RNN (training set)\n",
      "The 3d shape necessary for RNN's input is  (137, 50, 1)  . Note how the number of examples is reduced by the defined time steps, i.e.  50\n",
      "Preparing input complete. time_to_prepare=0.00 seconds\n"
     ]
    },
    {
     "data": {
      "text/plain": [
       "(137, 1)"
      ]
     },
     "execution_count": 52,
     "metadata": {},
     "output_type": "execute_result"
    }
   ],
   "source": [
    "# Creating the training dataset (X_train and y_train)\n",
    "# X_train is a numpy array with some no. of examples. Each example is a seismic signal window of length time_steps\n",
    "# y_train has the same no. of examples. Each example is the time_to_eq value that corresponds to the last element of seismic signal window (just 1 value)\n",
    "\n",
    "# ToDo:\n",
    "# Draw a diagram here illustrating how this input is prepared.\n",
    "# Write an equation for no. of examples as a function of (training_signal_length, time_steps, stride)\n",
    "\n",
    "print('Preparing input to the RNN (training set)')\n",
    "t0 = time.time()\n",
    "\n",
    "X_train = []\n",
    "y_train = []\n",
    "    \n",
    "for i in range (params.time_steps, training_set_scaled.shape[0], params.window_stride): \n",
    "    X_train.append(training_set_scaled[i - params.time_steps:i, 0])\n",
    "    y_train.append(training_set_scaled[i, 1])\n",
    "X_train, y_train = np.array (X_train), np.array (y_train)\n",
    "\n",
    "# Reshaping since RNN accepts 3d input\n",
    "X_train = np.reshape (X_train, (X_train.shape[0], X_train.shape[1], 1))\n",
    "y_train = np.reshape (y_train, (-1, 1))   # Not required when we are predicting just one output value, but necessary when we predict more\n",
    "print (\"The 3d shape necessary for RNN's input is \", X_train.shape, \" . Note how the number of examples is reduced by the defined time steps, i.e. \", params.time_steps)\n",
    "\n",
    "assert X_train.shape[1] == params.time_steps\n",
    "\n",
    "print('Preparing input complete. time_to_prepare={:.2f} seconds'.format(time.time() - t0))\n",
    "\n",
    "X_train.shape\n",
    "y_train.shape"
   ]
  },
  {
   "cell_type": "code",
   "execution_count": 53,
   "metadata": {},
   "outputs": [
    {
     "data": {
      "text/plain": [
       "(78, 1)"
      ]
     },
     "execution_count": 53,
     "metadata": {},
     "output_type": "execute_result"
    }
   ],
   "source": [
    "X_valid = []\n",
    "y_valid = []\n",
    "\n",
    "for i in range(params.time_steps, valid_set_scaled.shape[0], params.window_stride):\n",
    "    X_valid.append(valid_set_scaled[i - params.time_steps:i, 0])\n",
    "    y_valid.append(valid_set_scaled[i, 1])\n",
    "\n",
    "X_valid = np.array(X_valid)\n",
    "X_valid = np.reshape(X_valid, (X_valid.shape[0], X_valid.shape[1], 1))\n",
    "y_valid = np.reshape (y_valid, (-1, 1))   # Not required when we are predicting just one output value, but necessary when we predict more\n",
    "\n",
    "X_valid.shape\n",
    "y_valid.shape"
   ]
  },
  {
   "cell_type": "code",
   "execution_count": 54,
   "metadata": {},
   "outputs": [
    {
     "data": {
      "text/plain": [
       "(25, 1)"
      ]
     },
     "execution_count": 54,
     "metadata": {},
     "output_type": "execute_result"
    }
   ],
   "source": [
    "X_test = []\n",
    "y_test = []\n",
    "\n",
    "for i in range(params.time_steps, test_set_scaled.shape[0], params.window_stride):\n",
    "    X_test.append(test_set_scaled[i - params.time_steps:i, 0])\n",
    "    y_test.append(test_set_scaled[i, 1])\n",
    "\n",
    "X_test = np.array(X_test)\n",
    "X_test = np.reshape(X_test, (X_test.shape[0], X_test.shape[1], 1))\n",
    "y_test = np.reshape(y_test, (-1, 1))   # Not required when we are predicting just one output value, but necessary when we predict more\n",
    "\n",
    "X_test.shape\n",
    "y_test.shape\n",
    "#y_test = true_test_time"
   ]
  },
  {
   "cell_type": "code",
   "execution_count": 55,
   "metadata": {},
   "outputs": [],
   "source": [
    "#Check\n",
    "#print(training_set_scaled[99,0], \" \", training_set_scaled[100,1])  # Gives errors when time_steps != 100 (fix this bug)\n",
    "#print(X_train[0,99,0],\" \", y_train[0])"
   ]
  },
  {
   "cell_type": "markdown",
   "metadata": {},
   "source": [
    "## Part 2 - Building the RNN"
   ]
  },
  {
   "cell_type": "code",
   "execution_count": 56,
   "metadata": {},
   "outputs": [
    {
     "name": "stdout",
     "output_type": "stream",
     "text": [
      "_________________________________________________________________\n",
      "Layer (type)                 Output Shape              Param #   \n",
      "=================================================================\n",
      "lstm_4 (LSTM)                (None, 50, 10)            480       \n",
      "_________________________________________________________________\n",
      "dropout_4 (Dropout)          (None, 50, 10)            0         \n",
      "_________________________________________________________________\n",
      "lstm_5 (LSTM)                (None, 50, 5)             320       \n",
      "_________________________________________________________________\n",
      "dropout_5 (Dropout)          (None, 50, 5)             0         \n",
      "_________________________________________________________________\n",
      "lstm_6 (LSTM)                (None, 2)                 64        \n",
      "_________________________________________________________________\n",
      "dropout_6 (Dropout)          (None, 2)                 0         \n",
      "_________________________________________________________________\n",
      "dense_2 (Dense)              (None, 1)                 3         \n",
      "=================================================================\n",
      "Total params: 867\n",
      "Trainable params: 867\n",
      "Non-trainable params: 0\n",
      "_________________________________________________________________\n"
     ]
    }
   ],
   "source": [
    "# Initialising the RNN\n",
    "regressor = Sequential ()\n",
    "\n",
    "# Adding the hidden layers as given in the parameters\n",
    "\n",
    "for i, (units, dropout_rate) in enumerate(zip(params.rnn_layer_units, params.rnn_layer_dropout_rate)):\n",
    "    # Common args for all layers\n",
    "    input_shape = (None,)\n",
    "    return_sequences = True\n",
    "    \n",
    "    # Set special args for first and last layer\n",
    "    if i == 0:  # First hidden layer\n",
    "        input_shape = (params.time_steps, 1)\n",
    "    if i == len(params.rnn_layer_units) - 1:   # Last hidden layer\n",
    "        return_sequences = False\n",
    "        \n",
    "    regressor.add(LSTM(units=units, return_sequences=return_sequences, input_shape=input_shape))\n",
    "    regressor.add (Dropout(dropout_rate))\n",
    "\n",
    "# Adding the output layer\n",
    "regressor.add (Dense (units=1))\n",
    "\n",
    "# Compiling the RNN\n",
    "regressor.compile (optimizer='adam', loss='mean_squared_error')\n",
    "regressor.summary()"
   ]
  },
  {
   "cell_type": "markdown",
   "metadata": {},
   "source": [
    "## Part 3 - Training the RNN"
   ]
  },
  {
   "cell_type": "code",
   "execution_count": 57,
   "metadata": {},
   "outputs": [
    {
     "name": "stdout",
     "output_type": "stream",
     "text": [
      "Training the RNN with the training set\n",
      "Train on 137 samples, validate on 78 samples\n",
      "Epoch 1/2\n",
      " - 2s - loss: 44.7963 - val_loss: 36.2191\n",
      "Epoch 2/2\n",
      " - 0s - loss: 44.3079 - val_loss: 35.8131\n",
      "Training complete. time_to_train=3.91 seconds (0.07 minutes)\n"
     ]
    }
   ],
   "source": [
    "print('Training the RNN with the training set')\n",
    "t0 = time.time()\n",
    "\n",
    "#with tf.device('/cpu:0'):\n",
    "\n",
    "earlyStopping = EarlyStopping(monitor='val_loss', patience=5, verbose=2, mode='auto')\n",
    "\n",
    "history = regressor.fit(X_train, y_train, epochs=params.epochs, batch_size=params.batch_size, validation_data=(X_valid, y_valid), callbacks=[earlyStopping], verbose=2)\n",
    "\n",
    "time_to_train = time.time() - t0\n",
    "print('Training complete. time_to_train={:.2f} seconds ({:.2f} minutes)'.format(time_to_train, time_to_train/60))"
   ]
  },
  {
   "cell_type": "code",
   "execution_count": 58,
   "metadata": {},
   "outputs": [
    {
     "name": "stdout",
     "output_type": "stream",
     "text": [
      "RNN model saved to results/current_run/final_model.h5\n"
     ]
    }
   ],
   "source": [
    "# Save the final trained model (in case we need to continue training from this point on)\n",
    "\n",
    "model_filepath = params.results_dir + '/final_model.h5'\n",
    "regressor.save(model_filepath, overwrite=True)\n",
    "\n",
    "print('RNN model saved to {}'.format(model_filepath))"
   ]
  },
  {
   "cell_type": "code",
   "execution_count": 59,
   "metadata": {},
   "outputs": [
    {
     "name": "stdout",
     "output_type": "stream",
     "text": [
      "Plot saved to: results/current_run/training_history.png\n",
      "RNN plot saved to results/current_run/rnn_plot.png\n"
     ]
    },
    {
     "data": {
      "image/png": "[encoded data removed]",
      "text/plain": [
       "<Figure size 432x288 with 1 Axes>"
      ]
     },
     "metadata": {
      "needs_background": "light"
     },
     "output_type": "display_data"
    }
   ],
   "source": [
    "utility.plot_training_history(history, params.results_dir)\n",
    "\n",
    "model_plot_filename = params.results_dir + '/' + 'rnn_plot.png'\n",
    "plot_model(regressor, to_file=model_plot_filename, show_shapes=True, show_layer_names=True)\n",
    "\n",
    "print('RNN plot saved to {}'.format(model_plot_filename))"
   ]
  },
  {
   "cell_type": "markdown",
   "metadata": {},
   "source": [
    "## Part 4 - Making the predictions and visualising the results\n",
    "\n",
    "### Part 4.1 - Predicting on the training set"
   ]
  },
  {
   "cell_type": "code",
   "execution_count": 60,
   "metadata": {},
   "outputs": [
    {
     "name": "stdout",
     "output_type": "stream",
     "text": [
      "Predicting on the training set using the trained RNN\n",
      "Predicting on the training set complete. time_to_predict=0.30 seconds\n"
     ]
    }
   ],
   "source": [
    "# Predict on training set\n",
    "\n",
    "print('Predicting on the training set using the trained RNN')\n",
    "t0 = time.time()\n",
    "train_predicted_time = regressor.predict(X_train)\n",
    "#predicted_time = sc.inverse_transform(predicted_time)\n",
    "print('Predicting on the training set complete. time_to_predict={:.2f} seconds'.format(time.time() - t0))"
   ]
  },
  {
   "cell_type": "code",
   "execution_count": 61,
   "metadata": {},
   "outputs": [
    {
     "name": "stdout",
     "output_type": "stream",
     "text": [
      "Predictions on train set saved to results/current_run/train_prediction.csv\n"
     ]
    }
   ],
   "source": [
    "# Save predictions on training set\n",
    "\n",
    "train_prediction = pd.DataFrame(train_predicted_time)\n",
    "train_pred_filename = params.results_dir + '/' + 'train_prediction.csv'\n",
    "train_prediction.to_csv(train_pred_filename)\n",
    "print('Predictions on train set saved to {}'.format(train_pred_filename))"
   ]
  },
  {
   "cell_type": "code",
   "execution_count": 62,
   "metadata": {},
   "outputs": [
    {
     "name": "stdout",
     "output_type": "stream",
     "text": [
      "Predictions plot saved to: results/current_run/train_true_vs_pred.png\n"
     ]
    },
    {
     "data": {
      "image/png": "[encoded data removed]",
      "text/plain": [
       "<Figure size 432x288 with 1 Axes>"
      ]
     },
     "metadata": {
      "needs_background": "light"
     },
     "output_type": "display_data"
    }
   ],
   "source": [
    "# Visualize predictions on training set\n",
    "\n",
    "#true_train_time = dataset_train.iloc[:,1].values\n",
    "#true_train_time = true_train_time[params.time_steps:]   # Ignore the first time_steps values (because predictions are not available for those)\n",
    "\n",
    "train_res_plot_filename = params.results_dir + '/' + 'train_true_vs_pred' + '.png'\n",
    "utility.plot_results(y_train, train_prediction, 'True vs predicted time_to_earthquake on train set', train_res_plot_filename)"
   ]
  },
  {
   "cell_type": "code",
   "execution_count": 63,
   "metadata": {},
   "outputs": [
    {
     "name": "stdout",
     "output_type": "stream",
     "text": [
      "Error metrics on training set. train_mse: 43.9211, train_rmse: 6.6273, train_mae: 5.5058, train_r2: -2.2130\n"
     ]
    }
   ],
   "source": [
    "# Compute error metrics on training set\n",
    "\n",
    "train_mse = mean_squared_error(y_train, train_predicted_time)\n",
    "train_rmse = train_mse ** 0.5\n",
    "train_mae = mean_absolute_error(y_train, train_predicted_time)\n",
    "train_r2 = r2_score(y_train, train_predicted_time)\n",
    "\n",
    "print('Error metrics on training set. train_mse: {:.4f}, train_rmse: {:.4f}, train_mae: {:.4f}, train_r2: {:.4f}'.format(train_mse, train_rmse, train_mae, train_r2))"
   ]
  },
  {
   "cell_type": "markdown",
   "metadata": {},
   "source": [
    "### Part 4.2 - Predicting on the validation set"
   ]
  },
  {
   "cell_type": "code",
   "execution_count": 64,
   "metadata": {},
   "outputs": [
    {
     "name": "stdout",
     "output_type": "stream",
     "text": [
      "Predicting on the validation set using the trained RNN\n",
      "Predicting on the validation set complete. time_to_predict=0.03 seconds\n"
     ]
    }
   ],
   "source": [
    "# Predict on validation set\n",
    "\n",
    "print('Predicting on the validation set using the trained RNN')\n",
    "t0 = time.time()\n",
    "valid_predicted_time = regressor.predict(X_valid)\n",
    "#predicted_time = sc.inverse_transform(predicted_time)\n",
    "print('Predicting on the validation set complete. time_to_predict={:.2f} seconds'.format(time.time() - t0))"
   ]
  },
  {
   "cell_type": "code",
   "execution_count": 65,
   "metadata": {},
   "outputs": [
    {
     "name": "stdout",
     "output_type": "stream",
     "text": [
      "Predictions on validation set saved to results/current_run/validation_prediction.csv\n"
     ]
    }
   ],
   "source": [
    "# Save predictions on validation set\n",
    "\n",
    "valid_prediction = pd.DataFrame(valid_predicted_time)\n",
    "valid_pred_filename = params.results_dir + '/' + 'validation_prediction.csv'\n",
    "valid_prediction.to_csv(valid_pred_filename)\n",
    "print('Predictions on validation set saved to {}'.format(valid_pred_filename))"
   ]
  },
  {
   "cell_type": "code",
   "execution_count": 66,
   "metadata": {},
   "outputs": [
    {
     "name": "stdout",
     "output_type": "stream",
     "text": [
      "Predictions plot saved to: results/current_run/validation_true_vs_pred.png\n"
     ]
    },
    {
     "data": {
      "image/png": "[encoded data removed]",
      "text/plain": [
       "<Figure size 432x288 with 1 Axes>"
      ]
     },
     "metadata": {
      "needs_background": "light"
     },
     "output_type": "display_data"
    }
   ],
   "source": [
    "# Visualize predictions on validation set\n",
    "\n",
    "valid_res_plot_filename = params.results_dir + '/' + 'validation_true_vs_pred' + '.png'\n",
    "utility.plot_results(y_valid, valid_prediction, 'True vs predicted time_to_earthquake on validation set', valid_res_plot_filename)"
   ]
  },
  {
   "cell_type": "code",
   "execution_count": 67,
   "metadata": {},
   "outputs": [
    {
     "name": "stdout",
     "output_type": "stream",
     "text": [
      "Error metrics on validation set. validation_mse: 35.8131, validation_rmse: 5.9844, validation_mae: 5.0185, validation_r2: -2.3603\n"
     ]
    }
   ],
   "source": [
    "# Compute error metrics on validation set\n",
    "\n",
    "valid_mse = mean_squared_error(y_valid, valid_predicted_time)\n",
    "valid_rmse = valid_mse ** 0.5\n",
    "valid_mae = mean_absolute_error(y_valid, valid_predicted_time)\n",
    "valid_r2 = r2_score(y_valid, valid_predicted_time)\n",
    "\n",
    "print('Error metrics on validation set. validation_mse: {:.4f}, validation_rmse: {:.4f}, validation_mae: {:.4f}, validation_r2: {:.4f}'.\n",
    "      format(valid_mse, valid_rmse, valid_mae, valid_r2))"
   ]
  },
  {
   "cell_type": "markdown",
   "metadata": {},
   "source": [
    "### Part 4.3 - Predicting on the test set"
   ]
  },
  {
   "cell_type": "code",
   "execution_count": 68,
   "metadata": {},
   "outputs": [
    {
     "name": "stdout",
     "output_type": "stream",
     "text": [
      "Predicting on the test set using the trained RNN\n",
      "Predicting on the test set complete. time_to_predict=0.01 seconds\n"
     ]
    }
   ],
   "source": [
    "# Predict on test set\n",
    "\n",
    "print('Predicting on the test set using the trained RNN')\n",
    "t0 = time.time()\n",
    "test_predicted_time = regressor.predict(X_test)\n",
    "#predicted_time = sc.inverse_transform(predicted_time)\n",
    "print('Predicting on the test set complete. time_to_predict={:.2f} seconds'.format(time.time() - t0))"
   ]
  },
  {
   "cell_type": "code",
   "execution_count": 69,
   "metadata": {},
   "outputs": [
    {
     "name": "stdout",
     "output_type": "stream",
     "text": [
      "Predictions on validation set saved to results/current_run/test_prediction.csv\n"
     ]
    }
   ],
   "source": [
    "# Save predictions on test set\n",
    "\n",
    "test_prediction = pd.DataFrame(test_predicted_time)\n",
    "test_pred_filename = params.results_dir + '/' + 'test_prediction.csv'\n",
    "test_prediction.to_csv(test_pred_filename)\n",
    "print('Predictions on validation set saved to {}'.format(test_pred_filename))"
   ]
  },
  {
   "cell_type": "code",
   "execution_count": 70,
   "metadata": {},
   "outputs": [
    {
     "name": "stdout",
     "output_type": "stream",
     "text": [
      "Predictions plot saved to: results/current_run/test_true_vs_pred.png\n"
     ]
    },
    {
     "data": {
      "image/png": "[encoded data removed]",
      "text/plain": [
       "<Figure size 432x288 with 1 Axes>"
      ]
     },
     "metadata": {
      "needs_background": "light"
     },
     "output_type": "display_data"
    }
   ],
   "source": [
    "# Visualize predictions on test set\n",
    "\n",
    "test_res_plot_filename = params.results_dir + '/' + 'test_true_vs_pred' + '.png'\n",
    "utility.plot_results(y_test, test_prediction, 'True vs predicted time_to_earthquake on test set', test_res_plot_filename)"
   ]
  },
  {
   "cell_type": "code",
   "execution_count": 71,
   "metadata": {},
   "outputs": [
    {
     "name": "stdout",
     "output_type": "stream",
     "text": [
      "Error metrics on test set. validation_mse: 12.7163, test_mse: 5.9844, test_mae: 3.0406, test_r2: -2.6241\n"
     ]
    }
   ],
   "source": [
    "# Compute error metrics on test set\n",
    "\n",
    "test_mse = mean_squared_error(y_test, test_predicted_time)\n",
    "test_rmse = valid_mse ** 0.5\n",
    "test_mae = mean_absolute_error(y_test, test_predicted_time)\n",
    "test_r2 = r2_score(y_test, test_predicted_time)\n",
    "\n",
    "print('Error metrics on test set. validation_mse: {:.4f}, test_mse: {:.4f}, test_mae: {:.4f}, test_r2: {:.4f}'.format(test_mse, test_rmse, test_mae, test_r2))"
   ]
  },
  {
   "cell_type": "code",
   "execution_count": 72,
   "metadata": {},
   "outputs": [
    {
     "data": {
      "text/plain": [
       "['[NbConvertApp] Converting notebook LANL_NB.ipynb to html',\n",
       " '[NbConvertApp] Writing 463237 bytes to results/current_run\\\\LANL_NB.html']"
      ]
     },
     "execution_count": 72,
     "metadata": {},
     "output_type": "execute_result"
    }
   ],
   "source": [
    "# Save the output (results) of this notebook to the results_dir folder\n",
    "%sx jupyter nbconvert --to html --output-dir=$params.results_dir --TemplateExporter.exclude_input=True LANL_NB.ipynb"
   ]
  },
  {
   "cell_type": "code",
   "execution_count": null,
   "metadata": {},
   "outputs": [],
   "source": []
  },
  {
   "cell_type": "code",
   "execution_count": null,
   "metadata": {},
   "outputs": [],
   "source": []
  }
 ],
 "metadata": {
  "kernelspec": {
   "display_name": "Python 3",
   "language": "python",
   "name": "python3"
  },
  "language_info": {
   "codemirror_mode": {
    "name": "ipython",
    "version": 3
   },
   "file_extension": ".py",
   "mimetype": "text/x-python",
   "name": "python",
   "nbconvert_exporter": "python",
   "pygments_lexer": "ipython3",
   "version": "3.6.8"
  },
  "varInspector": {
   "cols": {
    "lenName": 16,
    "lenType": 16,
    "lenVar": 40
   },
   "kernels_config": {
    "python": {
     "delete_cmd_postfix": "",
     "delete_cmd_prefix": "del ",
     "library": "var_list.py",
     "varRefreshCmd": "print(var_dic_list())"
    },
    "r": {
     "delete_cmd_postfix": ") ",
     "delete_cmd_prefix": "rm(",
     "library": "var_list.r",
     "varRefreshCmd": "cat(var_dic_list()) "
    }
   },
   "oldHeight": 630,
   "position": {
    "height": "40px",
    "left": "1085px",
    "right": "20px",
    "top": "112px",
    "width": "639px"
   },
   "types_to_exclude": [
    "module",
    "function",
    "builtin_function_or_method",
    "instance",
    "_Feature"
   ],
   "varInspector_section_display": "none",
   "window_display": false
  }
 },
 "nbformat": 4,
 "nbformat_minor": 2
}
