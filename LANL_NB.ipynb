{
 "cells": [
  {
   "cell_type": "markdown",
   "metadata": {},
   "source": [
    "# LANL Notebook"
   ]
  },
  {
   "cell_type": "markdown",
   "metadata": {},
   "source": [
    "Link to competition and dataset: https://www.kaggle.com/c/LANL-Earthquake-Prediction\n",
    "\n",
    "Anaysis: https://www.kaggle.com/jsaguiar/seismic-data-exploration\n",
    "\n",
    "\n",
    "## The Dataset\n",
    "The training dataset has 2 columns (x, y), representing a single, continuous seismic signal.  x is the signal value, and y is the time-to-next-earthquake. The test data consists of segments of seismic signals (x values), and for each signal point in a segment, a time-to-next-earthquake (y) must be predicted by a machine learning model.\n",
    "\n",
    "The dataset is large with over 600 million data points in the training signal (9 GB in csv format) and working with it will prove to be challenging (loading, visualizing, training models etc.).\n"
   ]
  },
  {
   "cell_type": "markdown",
   "metadata": {},
   "source": [
    "## Useful Ideas\n",
    "\n",
    "1. Downsampling to reduce dataset size:\n",
    "> There are ways to do this without aliasing error (or minimal aliasing error). See the [Wiki article](https://en.wikipedia.org/wiki/Downsampling_(signal_processing)) (short).\n",
    "\n",
    "\n",
    "2. Noise filtering and other signal enhancements:\n",
    "> The signal *may* be noisy. Any good filters (especially those used in the seismic domain) will improve our model accuracy.\n",
    "\n",
    "\n",
    "3. Feature engineering: the raw signal maybe 'too raw' for the RNN to learn useful/ predictive patterns. We may have to engineer features.\n",
    "\n",
    "    3.1. Feature detecting filters\n",
    "> Features in signals are usually detected by filters (a filter is defined by its kernel: the impulse response). There may be feature detecting filters already used in the seismic analysis domain. Eg: filters to detect the presence of a peak.\n",
    "\n",
    "    3.2. Engineering other features\n",
    "> We can engineering other features such as: does_peak_exist_in_this_window, time_since_last_peak, or other signals derived from the original such as first_derivative, second_derivative, Fourier transform (DFT) of the window, moving_average_smoothed, etc.\n",
    "    \n",
    "    3.3. Map data to higher dimension, e.g. using Kernels\n",
    "\n",
    "\n",
    "4. Automating feature engineering via convolutional nets (CNN)\n",
    "> CNNs essentially learn the kernels of filters as part of the neural network. We can have some CNN layers before the LSTM layers and see if that works.\n",
    "\n",
<<<<<<< HEAD
    "5. I checked some of the test files and it seems that the peaks are absent. Hence, I stongly recommend completely eliminating the peaks before training the RNN. Peaks will be considered outliers. \n"
   ]
  },
  {
   "cell_type": "code",
   "execution_count": 1,
   "metadata": {},
   "outputs": [
    {
     "name": "stdout",
     "output_type": "stream",
     "text": [
      "Found GPU at: /device:GPU:0\n"
     ]
    }
   ],
   "source": [
    "import tensorflow as tf\n",
    "device_name = tf.test.gpu_device_name()\n",
    "if device_name != '/device:GPU:0':\n",
    "  raise SystemError('GPU device not found')\n",
    "print('Found GPU at: {}'.format(device_name))"
=======
    "\n",
    "5. I checked some of the test files and it seems that the peaks are absent. Hence, I stongly recommend completely eliminating the peaks before training the RNN. Peaks will be considered outliers.\n",
    "\n",
    "\n",
    "6. On the side, we will briefly try a different model, at least to answer the question \"Did you try any other models?\""
>>>>>>> 42080c8191e71574e04ea442ed9a220f65fc4b04
   ]
  },
  {
   "cell_type": "code",
<<<<<<< HEAD
   "execution_count": 2,
=======
   "execution_count": 34,
>>>>>>> 42080c8191e71574e04ea442ed9a220f65fc4b04
   "metadata": {},
   "outputs": [],
   "source": [
    "# Imports for the script\n",
    "\n",
    "import numpy as np\n",
    "import pandas as pd\n",
    "import time, os\n",
    "\n",
    "import matplotlib.pyplot as plt\n",
<<<<<<< HEAD
    "%matplotlib inline  "
   ]
  },
  {
   "cell_type": "code",
   "execution_count": 3,
   "metadata": {},
   "outputs": [],
   "source": [
    "#Data was convereted from CSV to HDF then truncated\n",
    "hdf_key = 'my_key'\n",
=======
    "#%matplotlib inline\n",
>>>>>>> 42080c8191e71574e04ea442ed9a220f65fc4b04
    "\n",
    "from sklearn.preprocessing import StandardScaler, MinMaxScaler\n",
    "from sklearn.metrics import mean_squared_error, mean_absolute_error\n",
    "\n",
    "import tensorflow as tf\n",
    "\n",
    "from keras.models import Sequential\n",
    "from keras.layers import Dense\n",
    "from keras.layers import LSTM\n",
    "from keras.layers import Dropout\n",
    "\n",
    "# To visualize the RNN network\n",
    "from keras.utils.vis_utils import plot_model\n",
    "import pydot\n",
    "\n",
    "import utility  # Contains various helper utility functions"
   ]
  },
  {
   "cell_type": "code",
<<<<<<< HEAD
   "execution_count": 4,
=======
   "execution_count": 35,
>>>>>>> 42080c8191e71574e04ea442ed9a220f65fc4b04
   "metadata": {},
   "outputs": [
    {
     "name": "stdout",
     "output_type": "stream",
     "text": [
      "GPU device not found. Using CPU\n"
     ]
    }
   ],
   "source": [
    "# Hardware (GPU or CPU)\n",
    "\n",
    "os.environ['CUDA_VISIBLE_DEVICES'] = '-1'   # Disable GPU as it appears to be slower than CPU (to enable GPU, comment out this line and restart the kernel)\n",
    "\n",
    "device_name = tf.test.gpu_device_name()\n",
    "\n",
    "if device_name:\n",
    "    print('GPU device found: {}. Using GPU'.format(device_name))\n",
    "else:\n",
    "    print(\"GPU device not found. Using CPU\")\n",
    "    #raise SystemError('GPU device not found')   # Stop the program if GPU is unavailabile: disabled for now"
   ]
  },
  {
   "cell_type": "code",
<<<<<<< HEAD
   "execution_count": 5,
=======
   "execution_count": 36,
>>>>>>> 42080c8191e71574e04ea442ed9a220f65fc4b04
   "metadata": {},
   "outputs": [],
   "source": [
    "# Variables that determines how the script behaves\n",
    "\n",
    "# Data was convereted from CSV to HDF then truncated\n",
    "hdf_key = 'my_key'\n",
    "\n",
    "# Change the following to point to proper local paths\n",
    "truncated_train_hdf_file = '../LANL-Earthquake-Prediction/truncated_train_hdf.h5' \n",
    "validation_hdf_file = '../LANL-Earthquake-Prediction/validation_hdf.h5'\n",
    "test_hdf_file = '../LANL-Earthquake-Prediction/test_hdf.h5'\n",
    "\n",
    "# Folder to save results\n",
    "results_dir = 'results/current_run'\n",
    "\n",
    "do_plot_series = False   # Whether training, validation, testing series should be plotted (time and memory consuming: keep this disabled unless necessary)"
   ]
  },
  {
   "cell_type": "code",
<<<<<<< HEAD
   "execution_count": 6,
=======
   "execution_count": 37,
>>>>>>> 42080c8191e71574e04ea442ed9a220f65fc4b04
   "metadata": {},
   "outputs": [],
   "source": [
    "# Tunable parameters relating to the operation of the algorithm\n",
    "\n",
    "# Data preprocessing\n",
    "scaling_type = 'None'   # Supports: None, StandardScaler, MinMaxScaler\n",
    "\n",
    "# LSTM network architecture\n",
    "time_steps = 50\n",
    "rnn_layer_units = [10, 5, 2]   # The length of this list = no. of hidden layers\n",
    "rnn_layer_dropout_rate = [0.2, 0.2, 0]   # Dropout rate for each layer (0 for no dropout)\n",
    "\n",
    "# Training\n",
    "epochs = 2\n",
    "batch_size = 64\n",
    "\n",
    "# Some checks to ensure the parameters are valid\n",
    "assert len(rnn_layer_units) == len(rnn_layer_dropout_rate)"
   ]
  },
  {
   "cell_type": "markdown",
   "metadata": {},
   "source": [
    "## Import truncated Data from hdf files\n",
    "### 3 sets: train, validation, test. Print basic stats about them and plot them"
   ]
  },
  {
   "cell_type": "code",
<<<<<<< HEAD
   "execution_count": 7,
=======
   "execution_count": 9,
>>>>>>> 42080c8191e71574e04ea442ed9a220f65fc4b04
   "metadata": {},
   "outputs": [
    {
     "name": "stdout",
     "output_type": "stream",
     "text": [
      "Reading HDF dataset ../LANL-Earthquake-Prediction/truncated_train_hdf.h5\n",
      "Reading complete. time_to_read=5.78 seconds\n",
      "Reading HDF dataset ../LANL-Earthquake-Prediction/validation_hdf.h5\n",
      "Reading complete. time_to_read=3.35 seconds\n",
      "Reading HDF dataset ../LANL-Earthquake-Prediction/test_hdf.h5\n",
      "Reading complete. time_to_read=1.17 seconds\n"
     ]
    }
   ],
   "source": [
    "train_df = utility.read_hdf(truncated_train_hdf_file, hdf_key)\n",
    "valid_df = utility.read_hdf(validation_hdf_file, hdf_key)\n",
    "test_df = utility.read_hdf(test_hdf_file, hdf_key)"
   ]
  },
  {
   "cell_type": "code",
   "execution_count": null,
   "metadata": {},
   "outputs": [],
   "source": [
    "utility.print_info(train_df)\n",
    "\n",
    "if do_plot_series:\n",
    "    utility.plot_series(train_df, \"Training series\", results_dir) # This is time and memory consuming. Do not run this cell unless necessary"
   ]
  },
  {
   "cell_type": "code",
   "execution_count": null,
   "metadata": {},
   "outputs": [],
   "source": [
    "utility.print_info(valid_df)\n",
    "\n",
    "if do_plot_series:\n",
    "    utility.plot_series(valid_df, \"Validation series\", results_dir) # This is time and memory consuming. Do not run this cell unless necessary"
   ]
  },
  {
   "cell_type": "code",
   "execution_count": 10,
   "metadata": {},
   "outputs": [
    {
     "name": "stdout",
     "output_type": "stream",
     "text": [
      "Dataset shape = (27000000, 2)\n",
      "<class 'pandas.core.frame.DataFrame'>\n",
      "Int64Index: 27000000 entries, 219000000 to 245999999\n",
      "Data columns (total 2 columns):\n",
      "acoustic_data      int16\n",
      "time_to_failure    float64\n",
      "dtypes: float64(1), int16(1)\n",
      "memory usage: 463.5 MB\n",
      "           acoustic_data    time_to_failure\n",
      "219000000              1  6.969696360400000\n",
      "219000001             -1  6.969696359299999\n",
      "219000002              0  6.969696358200000\n",
      "219000003              3  6.969696357100000\n",
      "219000004              6  6.969696356000000\n"
     ]
    }
   ],
   "source": [
    "utility.print_info(test_df)\n",
    "\n",
    "if do_plot_series:\n",
    "    utility.plot_series(test_df, \"Testing series\", results_dir) # This is time and memory consuming. Do not run this cell unless necessary"
   ]
  },
  {
   "cell_type": "markdown",
   "metadata": {},
   "source": [
    "# Understanding Data\n",
    "\n",
    "## Domain Perspective\n",
    "\n",
    "https://www.youtube.com/watch?v=T0AEtX-uPLA\n",
    "- Earthquakes occur when two parts of the earth suddenly move in relation to each other\n",
    "- Earthequake originates at a point in earth called focus and spreads up to the surface at a point called Epicenter.\n",
    "- A seismograph detects and records seismic waves. \\n\",\n",
    "- Types of Seismic waves include:  Pressure (or Primary) Waves (P-Waves), Shear (or Secondary) Waves (S-Waves) and Surface Waves. P-Waves and S-Waves are both Body waves.\n",
    "\n",
    "https://courses.lumenlearning.com/geophysical/chapter/earthquake-prediction/\n",
    "- Predciting when an earthquake will occur is more difficult than predicting where it will occur.\n",
    "- Sometimes (not always) earthquakes occur few seconds to few weeks after foreshocks.\n",
    "\n",
    "https://en.wikipedia.org/wiki/P-wave\n",
    "- P-Wave travel faster and hence are the first waves to reach sesimograph. They propagate through gases, liguids or solids. \\n\",\n",
    "- S-Waves are attenuated by liquids.\\n\",\n",
    "- P-Waves are non-destructive, while both S-Waves and Surfcae Waves are destructive. \\n\",\n",
    "- Earthquake warning is possible if P-Waves are detected. Advanced warning time is dependent on the delay beween the arrival of P-wave and the arrival of the first destructive waves. This delay is a function of how deep the focus is, nature of earth layers and others. It ranges from few seconds to 90 seconds. Ground vibrations resulting from truck movement and contruction activitoes on earth shall be rejected for accurate detection of P-waves.\n",
    "\n",
    "https://www.bgs.ac.uk/discoveringGeology/hazards/earthquakes/\n",
    "\n",
    "## Statistical Perspective\n",
    "\n",
    "https://towardsdatascience.com/how-not-to-use-machine-learning-for-time-series-forecasting-avoiding-the-pitfalls-19f9d7adf424\n",
    "\n",
    "We need to test data for random-walk/stochasiticity, e.g. correlation tests on both signal (f) and (df), covariance test?!\n",
    "\n"
   ]
  },
  {
   "cell_type": "code",
<<<<<<< HEAD
   "execution_count": 8,
=======
   "execution_count": 19,
>>>>>>> 42080c8191e71574e04ea442ed9a220f65fc4b04
   "metadata": {},
   "outputs": [
    {
     "data": {
      "text/plain": [
       "acoustic_data      5444.0000\n",
       "time_to_failure      14.1806\n",
       "dtype: float64"
      ]
     },
<<<<<<< HEAD
     "execution_count": 8,
=======
     "execution_count": 19,
>>>>>>> 42080c8191e71574e04ea442ed9a220f65fc4b04
     "metadata": {},
     "output_type": "execute_result"
    }
   ],
   "source": [
    "train_df.max()"
   ]
  },
  {
   "cell_type": "code",
<<<<<<< HEAD
   "execution_count": 9,
=======
   "execution_count": 20,
>>>>>>> 42080c8191e71574e04ea442ed9a220f65fc4b04
   "metadata": {},
   "outputs": [
    {
     "data": {
      "text/plain": [
       "acoustic_data     -4621.000000\n",
       "time_to_failure       0.000695\n",
       "dtype: float64"
      ]
     },
<<<<<<< HEAD
     "execution_count": 9,
=======
     "execution_count": 20,
>>>>>>> 42080c8191e71574e04ea442ed9a220f65fc4b04
     "metadata": {},
     "output_type": "execute_result"
    }
   ],
   "source": [
    "train_df.min()"
   ]
  },
  {
   "cell_type": "markdown",
   "metadata": {},
   "source": [
    "# Recurrent Neural Network - LSTM\n",
    "\n",
    "## Part 1 - Data Preprocessing"
   ]
  },
  {
   "cell_type": "code",
<<<<<<< HEAD
   "execution_count": 10,
   "metadata": {},
   "outputs": [],
   "source": [
    "# Importing the libraries\n",
    "import numpy as np\n",
    "import matplotlib.pyplot as plt\n",
    "import pandas as pd"
   ]
  },
  {
   "cell_type": "code",
=======
>>>>>>> 42080c8191e71574e04ea442ed9a220f65fc4b04
   "execution_count": 11,
   "metadata": {},
   "outputs": [
    {
     "name": "stdout",
     "output_type": "stream",
     "text": [
      "Training will be performed on downsampled dataset which consists of  3475  examples out of the original number of training examples which is  139000000\n",
      "Plotting series\n",
      "Plot saved to: results/current_run/Downsampled training series.png\n",
      "Plotting complete. time_to_plot=0.25 seconds\n"
     ]
    },
    {
     "data": {
      "image/png": "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\n",
      "text/plain": [
       "<Figure size 432x288 with 2 Axes>"
      ]
     },
     "metadata": {},
     "output_type": "display_data"
    }
   ],
   "source": [
    "# Importing the training set\n",
    "\"\"\"Temporary: we downsample the training datatset to reduce time!\"\"\"\n",
    "down_sample=40000\n",
    "dataset_train = train_df.iloc[::down_sample,:]\n",
    "training_set = dataset_train.iloc[:, 0:2].values\n",
    "print(\"Training will be performed on downsampled dataset which consists of \",dataset_train.shape[0],\n",
    "      \" examples out of the original number of training examples which is \", train_df.shape[0])\n",
    "\n",
    "utility.plot_series(dataset_train, \"Downsampled training series\", results_dir)"
   ]
  },
  {
   "cell_type": "code",
<<<<<<< HEAD
   "execution_count": 12,
=======
   "execution_count": 22,
>>>>>>> 42080c8191e71574e04ea442ed9a220f65fc4b04
   "metadata": {},
   "outputs": [
    {
     "name": "stdout",
     "output_type": "stream",
     "text": [
      "<class 'pandas.core.frame.DataFrame'>\n",
      "Int64Index: 3475 entries, 0 to 138960000\n",
      "Data columns (total 2 columns):\n",
      "acoustic_data      3475 non-null int16\n",
      "time_to_failure    3475 non-null float64\n",
      "dtypes: float64(1), int16(1)\n",
      "memory usage: 61.1 KB\n"
     ]
    },
    {
     "data": {
      "text/html": [
       "<div>\n",
       "<style scoped>\n",
       "    .dataframe tbody tr th:only-of-type {\n",
       "        vertical-align: middle;\n",
       "    }\n",
       "\n",
       "    .dataframe tbody tr th {\n",
       "        vertical-align: top;\n",
       "    }\n",
       "\n",
       "    .dataframe thead th {\n",
       "        text-align: right;\n",
       "    }\n",
       "</style>\n",
       "<table border=\"1\" class=\"dataframe\">\n",
       "  <thead>\n",
       "    <tr style=\"text-align: right;\">\n",
       "      <th></th>\n",
       "      <th>acoustic_data</th>\n",
       "      <th>time_to_failure</th>\n",
       "    </tr>\n",
       "  </thead>\n",
       "  <tbody>\n",
       "    <tr>\n",
       "      <th>0</th>\n",
       "      <td>12</td>\n",
       "      <td>1.469100</td>\n",
       "    </tr>\n",
       "    <tr>\n",
       "      <th>40000</th>\n",
       "      <td>8</td>\n",
       "      <td>1.459597</td>\n",
       "    </tr>\n",
       "    <tr>\n",
       "      <th>80000</th>\n",
       "      <td>-1</td>\n",
       "      <td>1.448898</td>\n",
       "    </tr>\n",
       "    <tr>\n",
       "      <th>120000</th>\n",
       "      <td>4</td>\n",
       "      <td>1.438299</td>\n",
       "    </tr>\n",
       "    <tr>\n",
       "      <th>160000</th>\n",
       "      <td>9</td>\n",
       "      <td>1.427600</td>\n",
       "    </tr>\n",
       "  </tbody>\n",
       "</table>\n",
       "</div>"
      ],
      "text/plain": [
       "        acoustic_data  time_to_failure\n",
       "0                  12         1.469100\n",
       "40000               8         1.459597\n",
       "80000              -1         1.448898\n",
       "120000              4         1.438299\n",
       "160000              9         1.427600"
      ]
     },
<<<<<<< HEAD
     "execution_count": 12,
=======
     "execution_count": 22,
>>>>>>> 42080c8191e71574e04ea442ed9a220f65fc4b04
     "metadata": {},
     "output_type": "execute_result"
    }
   ],
   "source": [
    "dataset_train.info()\n",
    "dataset_train.head()"
   ]
  },
  {
   "cell_type": "code",
<<<<<<< HEAD
   "execution_count": 13,
=======
   "execution_count": 12,
>>>>>>> 42080c8191e71574e04ea442ed9a220f65fc4b04
   "metadata": {},
   "outputs": [
    {
     "name": "stdout",
     "output_type": "stream",
     "text": [
      "Scaling the training set. scaling_type=None\n",
      "Scaling complete. time_to_scale=0.00 seconds\n"
     ]
    }
   ],
   "source": [
    "# Feature Scaling\n",
    "print('Scaling the training set. scaling_type={}'.format(scaling_type))\n",
    "t0 = time.time()\n",
    "    \n",
    "if scaling_type == 'None':\n",
    "    training_set_scaled = training_set\n",
    "else:\n",
    "    if scaling_type == 'MinMaxScaler':\n",
    "        scaler = MinMaxScaler(feature_range=(0, 1))\n",
    "    elif scaling_type == 'StandardScaler':\n",
    "        scaler = StandardScaler()\n",
    "    \n",
    "    signal_scaled = scaler.fit_transform(training_set[:,0].reshape(-1,1))\n",
    "\n",
    "    training_set_scaled = training_set.copy()   # May not be necessary\n",
    "    training_set_scaled[:,0] = signal_scaled.reshape(-1)\n",
    "\n",
    "print('Scaling complete. time_to_scale={:.2f} seconds'.format(time.time() - t0))"
   ]
  },
  {
   "cell_type": "code",
<<<<<<< HEAD
   "execution_count": 14,
=======
   "execution_count": 13,
>>>>>>> 42080c8191e71574e04ea442ed9a220f65fc4b04
   "metadata": {},
   "outputs": [
    {
     "name": "stdout",
     "output_type": "stream",
     "text": [
      "Preparing input to the RNN (training set)\n",
      "The 3d shape necessary for RNN's input is  (3425, 50, 1)  . Note how the number of examples is reduced by the defined time steps, i.e.  50\n",
      "Preparing input complete. time_to_prepare=0.01 seconds\n"
     ]
    }
   ],
   "source": [
    "# Creating the training dataset (X_train and y_train) \n",
    "# X_train is a numpy array with some no. of examples. Each example is a seismic signal window of length time_steps\n",
    "# y_train has the same no. of examples. Each example is the time_to_eq value that corresponds to the last element of seismic signal window (just 1 value)\n",
    "\n",
    "# ToDo:\n",
    "# Draw a diagram here illustrating how this input is prepared.\n",
    "# Write an equation for no. of examples as a function of (training_signal_length, time_steps, stride)\n",
    "\n",
    "print('Preparing input to the RNN (training set)')\n",
    "t0 = time.time()\n",
    "\n",
    "X_train = []\n",
    "y_train = []\n",
    "    \n",
    "for i in range (time_steps, training_set_scaled.shape[0]): \n",
    "    X_train.append (training_set_scaled[i - time_steps:i, 0])\n",
    "    y_train.append (training_set_scaled[i, 1])\n",
    "X_train, y_train = np.array (X_train), np.array (y_train)\n",
    "\n",
    "# Reshaping since RNN accepts 3d input\n",
    "X_train = np.reshape (X_train, (X_train.shape[0], X_train.shape[1], 1))\n",
    "print (\"The 3d shape necessary for RNN's input is \", X_train.shape, \" . Note how the number of examples is reduced by the defined time steps, i.e. \", time_steps)\n",
    "\n",
    "assert X_train.shape[1] == time_steps\n",
    "\n",
    "print('Preparing input complete. time_to_prepare={:.2f} seconds'.format(time.time() - t0))"
   ]
  },
  {
   "cell_type": "code",
<<<<<<< HEAD
   "execution_count": 15,
=======
   "execution_count": 14,
>>>>>>> 42080c8191e71574e04ea442ed9a220f65fc4b04
   "metadata": {},
   "outputs": [],
   "source": [
    "#Check\n",
    "#print(training_set_scaled[99,0], \" \", training_set_scaled[100,1])  # Gives errors when time_steps != 100 (fix this bug)\n",
    "#print(X_train[0,99,0],\" \", y_train[0])"
   ]
  },
  {
   "cell_type": "markdown",
   "metadata": {},
   "source": [
    "## Part 2 - Building the RNN"
   ]
  },
  {
   "cell_type": "code",
<<<<<<< HEAD
   "execution_count": 16,
   "metadata": {},
   "outputs": [
    {
     "name": "stderr",
     "output_type": "stream",
     "text": [
      "Using TensorFlow backend.\n"
=======
   "execution_count": 15,
   "metadata": {},
   "outputs": [
    {
     "name": "stdout",
     "output_type": "stream",
     "text": [
      "_________________________________________________________________\n",
      "Layer (type)                 Output Shape              Param #   \n",
      "=================================================================\n",
      "lstm_1 (LSTM)                (None, 50, 10)            480       \n",
      "_________________________________________________________________\n",
      "dropout_1 (Dropout)          (None, 50, 10)            0         \n",
      "_________________________________________________________________\n",
      "lstm_2 (LSTM)                (None, 50, 5)             320       \n",
      "_________________________________________________________________\n",
      "dropout_2 (Dropout)          (None, 50, 5)             0         \n",
      "_________________________________________________________________\n",
      "lstm_3 (LSTM)                (None, 2)                 64        \n",
      "_________________________________________________________________\n",
      "dropout_3 (Dropout)          (None, 2)                 0         \n",
      "_________________________________________________________________\n",
      "dense_1 (Dense)              (None, 1)                 3         \n",
      "=================================================================\n",
      "Total params: 867\n",
      "Trainable params: 867\n",
      "Non-trainable params: 0\n",
      "_________________________________________________________________\n"
>>>>>>> 42080c8191e71574e04ea442ed9a220f65fc4b04
     ]
    }
   ],
   "source": [
    "# Initialising the RNN\n",
    "regressor = Sequential ()\n",
    "\n",
    "# Adding the hidden layers as given in the parameters\n",
    "\n",
    "for i, (units, dropout_rate) in enumerate(zip(rnn_layer_units, rnn_layer_dropout_rate)):\n",
    "    # Common args for all layers\n",
    "    input_shape = (None,)\n",
    "    return_sequences = True\n",
    "    \n",
    "    # Set special args for first and last layer\n",
    "    if i == 0:  # First hidden layer\n",
    "        input_shape = (time_steps, 1)\n",
    "    if i == len(rnn_layer_units) - 1:   # Last hidden layer\n",
    "        return_sequences = False\n",
    "        \n",
    "    regressor.add(LSTM(units=units, return_sequences=return_sequences, input_shape=input_shape))\n",
    "    regressor.add (Dropout(dropout_rate))\n",
    "\n",
    "# Adding the output layer\n",
    "regressor.add (Dense (units=1))\n",
    "\n",
    "# Compiling the RNN\n",
    "regressor.compile (optimizer='adam', loss='mean_squared_error')\n",
    "regressor.summary()"
   ]
  },
  {
   "cell_type": "markdown",
   "metadata": {},
   "source": [
    "## Part 3 - Training the RNN"
   ]
  },
  {
   "cell_type": "code",
<<<<<<< HEAD
   "execution_count": 17,
=======
   "execution_count": 16,
>>>>>>> 42080c8191e71574e04ea442ed9a220f65fc4b04
   "metadata": {},
   "outputs": [
    {
     "name": "stdout",
     "output_type": "stream",
     "text": [
      "Training the RNN with the training set\n",
<<<<<<< HEAD
      "Epoch 1/3\n",
      "3375/3375 [==============================] - 58s 17ms/step - loss: 16.3754\n",
      "Epoch 2/3\n",
      "3375/3375 [==============================] - 54s 16ms/step - loss: 12.6539\n",
      "Epoch 3/3\n",
      "3375/3375 [==============================] - 54s 16ms/step - loss: 9.2571\n",
      "Training complete\n"
=======
      "Epoch 1/2\n",
      "3425/3425 [==============================] - 3s 954us/step - loss: 46.2439\n",
      "Epoch 2/2\n",
      "3425/3425 [==============================] - 2s 577us/step - loss: 41.3314\n",
      "Training complete. time_to_train=7.42 seconds (0.12 minutes)\n"
>>>>>>> 42080c8191e71574e04ea442ed9a220f65fc4b04
     ]
    }
   ],
   "source": [
    "print('Training the RNN with the training set')\n",
    "t0 = time.time()\n",
    "\n",
    "#with tf.device('/cpu:0'):\n",
    "\n",
    "history = regressor.fit (X_train, y_train, epochs=epochs, batch_size=batch_size)\n",
    "\n",
    "time_to_train = time.time() - t0\n",
    "print('Training complete. time_to_train={:.2f} seconds ({:.2f} minutes)'.format(time_to_train, time_to_train/60))"
   ]
  },
  {
   "cell_type": "code",
   "execution_count": 17,
   "metadata": {},
   "outputs": [
    {
     "name": "stdout",
     "output_type": "stream",
     "text": [
      "RNN model saved to results/current_run/final_model.h5\n"
     ]
    }
   ],
   "source": [
    "# Save the final trained model (in case we need to continue training from this point on)\n",
    "\n",
    "model_filepath = results_dir + '/final_model.h5'\n",
    "regressor.save(model_filepath, overwrite=True)\n",
    "\n",
    "print('RNN model saved to {}'.format(model_filepath))"
   ]
  },
  {
   "cell_type": "code",
   "execution_count": 19,
   "metadata": {},
   "outputs": [
    {
     "name": "stdout",
     "output_type": "stream",
     "text": [
      "Plot saved to: results/current_run/training_history.png\n",
      "RNN plot saved to results/current_run/rnn_plot.png\n"
     ]
    },
    {
     "data": {
      "image/png": "iVBORw0KGgoAAAANSUhEUgAAAYIAAAEWCAYAAABrDZDcAAAABHNCSVQICAgIfAhkiAAAAAlwSFlzAAALEgAACxIB0t1+/AAAADl0RVh0U29mdHdhcmUAbWF0cGxvdGxpYiB2ZXJzaW9uIDMuMC4yLCBodHRwOi8vbWF0cGxvdGxpYi5vcmcvOIA7rQAAIABJREFUeJzt3Xd4VGX6xvHvk0JCly7V0JEuhCIlsdBBBETBggooiiJIXNvuby2rrq66NBURC4oVURFQqRZChwRCBylSBWnSpMP7+yOjGxFICJk5mcz9ua65nDlzzpznTYL3vOececacc4iISOgK87oAERHxloJARCTEKQhEREKcgkBEJMQpCEREQpyCQEQkxCkIJMcxs3AzO2Rm5bJy3UzU8ayZvXue59eYWfOs3q/IhYrwugARMzuU5mEe4Bhwyvf4Hufchxfyes65U0C+rF43qznnqqa3jplVAtY65ywAJUmIUhCI55xzf/yP2Mw2Anc556afa30zi3DOnQxEbcFOPyvJCB0akmzPd4hljJl9bGYHgdvM7Eozm2dm+8xsu5kNM7NI3/oRZubMLMb3+APf85PM7KCZzTWz8he6ru/5tmb2o5ntN7NXzGy2md15nvKjfK950MyWm1m9NK+11cyu8t1vbGaLzOyAmf1iZi/5Vkv0PX/Id2tgZmFm9oSZbTKznWb2rpkV8K1XyTeenma2GZhqZlPMrO8ZP9OVZtYhs78TyVkUBBIsOgMfAQWBMcBJYABQFGgKtAHuOc/2twD/BAoDm4FnLnRdMysOfAo87NvvT0DDdOruBLwPXAJMAoadY71XgJeccwWASsBnvuVxkDpr8t0WAncBtwFXARWBQsDQM14vDqgGtAfe862Pbxz1ffVPTqd2CREKAgkWs5xzE51zp51zR5xzC51z851zJ51zG4CRQPx5tv/MOZfknDsBfAjUzcS6HYAU59x433ODgd3p1D3DOTfFdy7i/fPs9wRQ2cyKOOcOOufmn+c1bwVeds795Jw7CPwduMXM0v57ftI5d9g5dwQYB9Qwswq+53oAn+iQkfxOQSDBYkvaB2ZWzcy+NrMdZnYA+Bep73LPZUea+4c5/wnic61bKm0dLrVj49Z06j7ztfKeY72eQHVgjZktMLN253nNUsCmNI83AbmAYmmWpa3zCKkzjFvNLBzoTmooiQAKAgkeZ7bJfQNYDlTyHU55AvD3lTXbgTK/PzAzA0pnxQs759Y457oDxYH/Ap+bWTR/HTfAz8BlaR6XA44Du9K83pnbvUfqTKIV8KvvEJMIoCCQ4JUf2A/8ZmaXc/7zA1nlK6CemV1nZhGknqMols42GWJmPcysqHPuNKnjcsBpYCfg0hzWAfgYSDCzGDPLDzwHfOzb9lxmAZHAf9BsQM6gIJBg9RBwB3CQ1NnBGH/v0Dn3C9ANGATsIfVE7WJSP/dwsdoBq3xXRb0MdHPOHfedA3gemO+7QioWeJPU8c4ENpD6MxiQTu2O1ACoSep5D5E/mL6YRiRzfMfbfwa6Oudmel1PesysF3C7c+4qr2uR7EUzApELYGZtzKygmUWReonpSWCBx2Wly8zyAPeRenWVyJ8oCEQuTDNSD8fsJvWzC52cc1lxaMhvzKw9qSeSNxOAQ2gSfHRoSEQkxGlGICIS4oKi6VzRokVdTEyM12WIiASV5OTk3c65dC9xDoogiImJISkpyesyRESCipltSn8tHRoSEQl5CgIRkRCnIBARCXFBcY5ARLKfEydOsHXrVo4ePep1KSEvOjqaMmXKEBkZmantFQQikilbt24lf/78xMTEkNqIVbzgnGPPnj1s3bqV8uXLp7/BWejQkIhkytGjRylSpIhCwGNmRpEiRS5qZqYgEJFMUwhkDxf7e8jRQfDV0p/5cvE21EZDROTccnQQfJ68lQfHpND7vSR+3nfE63JERLKlHB0Eb93RgH92qM7c9XtoNTiRD+Zt4vRpzQ5EcoJ9+/YxfPjwC96uXbt27Nu377zrPPHEE0yfPj2zpZ1Vvnzn+5psbwVF99HY2Fh3MS0mNu85zOPjljJ73R4ali/Mf26oTfmi5/oOcRHJiFWrVnH55Zd7tv+NGzfSoUMHli9f/qflp06dIjw83KOqzi1fvnwcOnTIb69/tt+HmSU752LT2zYkLh8tVyQPH/RuxNikrTzz9UraDElkYMsq3NWsPBHhOXpSJBIQT09cwcqfD2Tpa1YvVYAnr6txzucfe+wx1q9fT926dYmMjCRfvnyULFmSlJQUVq5cSadOndiyZQtHjx5lwIAB9OnTB/hf77JDhw7Rtm1bmjVrxpw5cyhdujTjx48nd+7c3HnnnXTo0IGuXbsSExPDHXfcwcSJEzlx4gRjx46lWrVq7Nq1i1tuuYU9e/bQoEEDJk+eTHJyMkWLFj3vuJxzPPLII0yaNAkz4//+7//o1q0b27dvp1u3bhw4cICTJ0/y+uuv06RJE3r37k1SUhJmRq9evRg4cGCW/pwhhx8aSsvMuKlBWaYnxBNXpRgvTFpN5+FzsvyPV0QC44UXXqBixYqkpKTw0ksvsWDBAp577jlWrlwJwDvvvENycjJJSUkMGzaMPXv2/OU11q5dy/3338+KFSu45JJL+Pzzz8+6r6JFi7Jo0SL69u3Lyy+/DMDTTz/NNddcw6JFi+jcuTObN2/OUN1ffPEFKSkpLFmyhOnTp/Pwww+zfft2PvroI1q3bv3Hc3Xr1iUlJYVt27axfPlyli1bRs+ePTP50zq/kJgRpFWiQDQje9Tnm2U7eHLCcjq+Oou+V1Wk3zWViIrIftNJkWBwvnfugdKwYcM/faBq2LBhjBs3DoAtW7awdu1aihQp8qdtypcvT926dQGoX78+GzduPOtrd+nS5Y91vvjiCwBmzZr1x+u3adOGQoUKZajOWbNmcfPNNxMeHk6JEiWIj49n4cKFNGjQgF69enHixAk6depE3bp1qVChAhs2bOCBBx6gffv2tGrVKuM/kAsQMjOCtMyM9rVLMm1gPB3rlOKV79bRftgskjf96nVpIpJJefP+77zfDz/8wPTp05k7dy5LlizhiiuuOOsHrqKiov64Hx4ezsmTJ8/62r+vl3adzJ5fPdd2cXFxJCYmUrp0aXr06MHo0aMpVKgQS5Ys4aqrruK1117jrrvuytQ+0+P3IDCzcDNbbGZf+R6bmT1nZj+a2Soz6+/vGs6lUN5cDOpWl1E9G3D42Em6jpjD0xNXcPj42f8YRCT7yJ8/PwcPHjzrc/v376dQoULkyZOH1atXM2/evCzff7Nmzfj0008BmDp1Kr/+mrE3knFxcYwZM4ZTp06xa9cuEhMTadiwIZs2baJ48eLcfffd9O7dm0WLFrF7925Onz7NDTfcwDPPPMOiRYuyfBwQmENDA4BVQAHf4zuBskA159xpMysegBrO6+qqxZmaEM+Lk1czavZGpq38hRe61KZZ5fOf9BER7xQpUoSmTZtSs2ZNcufOTYkSJf54rk2bNowYMYLatWtTtWpVGjdunOX7f/LJJ7n55psZM2YM8fHxlCxZkvz586e7XefOnZk7dy516tTBzHjxxRe59NJLee+993jppZf+OPE9evRotm3bRs+ePTl9+jQAzz//fJaPA/x8+aiZlQHeA54DEpxzHcxsAXCLc25dRl/nYi8fvRALftrLo58v5afdv3FTbBn+0a46BfNkrqOfSE7m9eWjXjt27Bjh4eFEREQwd+5c+vbtS0pKimf1ZOfLR4cAjwBpY7Ii0M3MOgO7gP7OubVnbmhmfYA+AOXKlfNzmf/TsHxhJg1oztBv1zIycQPfr9nFM9fXpE3NSwNWg4hkf5s3b+amm27i9OnT5MqVizfffNPrkjLNb0FgZh2Anc65ZDO7Ks1TUcBR51ysmXUB3gGan7m9c24kMBJSZwT+qvNsoiPDebRNNdrVLMkjny/l3g+SaV+rJE91rEGx/FHpv4CI5HiVK1dm8eLFf1q2Z88err322r+s++233/7liqXsxJ8zgqZARzNrB0QDBczsA2Ar8PvFuuOAUX6s4aLUKlOQCf2aMjJxA0Onr2XWut080aE6XeqVVtdFEVKvgNG/hf8pUqSIJ4eHLvYQv9+uGnLOPe6cK+OciwG6A985524DvgSu8a0WD/zorxqyQmR4GPdfXYlvBjSnUvF8PDR2CXeOWsjWXw97XZqIp6Kjo9mzZ4+6+3rs9y+miY6OzvRrBKTXkO/Q0N98J4svAT4EygGHgHudc0vOt30gTxafz+nTjtFzN/LilDUY8GjbatzW6DLCwvSOSEKPvqoy+zjXV1Vm9GRxSDSdy2pb9h7m7+OWMXPtbhrEFOKFG2pTsVj27SwoIqEpo0EQkp8svlhlC+dhdK+GvNS1Nmt2HKTt0JkM/2EdJ06d9ro0EZELpiDIJDPjxtiyTH8onmuqFufFyWvo9Npslm/b73VpIiIXREFwkYrnj2ZEj/q8fms9fjlwjOtfm81LU1Zz9MQpr0sTEckQBUEWaVurJNMT4uh8RWle+3497YbNJGnjXq/LEhFJl4IgC12SJxcv31iH0b0acuzEaW58Yy5Pjl/OoWNqYici2ZeCwA/iqhRj6sA47rgyhtHzNtF6cCIzftzldVkiImelIPCTvFERPNWxBmPvuZKoyDDueGcBD326hH2Hj3tdmojInygI/Cw2pjDf9G9Ov6sr8WXKNloMSmTSsu1elyUi8gcFQQBER4bzt9ZVmdCvKSUKRNH3w0Xc+34yOw/oE5ki4j0FQQDVKFWQ8fc35dE21fhuzU5aDJrB2KQt6tUiIp5SEARYRHgYfa+qyKQBzal6aX4e/mwpt7+zgC171cRORLyhIPBIxWL5GNPnSp65vgaLNv1K6yGJjJr9E6dOa3YgIoGlIPBQWJjR48oYpgyMo0FMYZ6euJKb3pjLup1n/0JuERF/UBBkA2UK5eHdng0YdFMd1u86RLuhs3j1u7VqYiciAaEgyCbMjC71yjBtYDwta5Tg5ak/0vFVNbETEf9TEGQzxfJH8dot9XijR312H0ptYvfCJDWxExH/URBkU61rXMr0gfF0rVeGETPW03boTOZv2ON1WSKSAykIsrGCeSL5T9fafNC7ESdOnabbyHn888vlHDx6wuvSRCQHURAEgWaVizJ1YBy9mpbng/mpTey+X7PT67JEJIdQEASJPLkieOK66nzetwl5oyLoOWohCWNS+PU3NbETkYujIAgy9coV4qv+zeh/TSUmLPmZFoNm8NXSn9WmQkQyTUEQhKIiwkloVZWJDzSj1CW56ffRYvq8n8wvamInIpmgIAhil5cswLj7mvB422ok/riLFoNmMGbhZs0OROSCKAiCXER4GPfEV2Tyg3FcXrIAj36+jFvfms/mPWpiJyIZoyDIIcoXzcsndzfmuc41Wbp1P62HJPL2LDWxE5H0KQhykLAw49ZGlzEtIY4rKxbhma9WcsPrc/jxFzWxE5FzUxDkQCUL5ubtO2IZ2r0um/b8RvthMxk6fS3HT6qJnYj8lYIghzIzrq9bmukJ8bSpWZLB03+k46uzWLJln9eliUg2oyDI4Yrki+KVm6/gzdtj+fXwcToPn82/v1nFkeNqYiciqRQEIaJl9RJMS4inW4NyjEzcQNuhicxdryZ2IqIgCCkFoiN5vkstPrq7EQ64+c15/H3cMg6oiZ1ISPN7EJhZuJktNrOvfI/fNbOfzCzFd6vr7xrkz5pULMrkAXHc3bw8nyzYTKtBiXy3+hevyxIRjwRiRjAAWHXGsoedc3V9t5QA1CBnyJ0rnH+0r84X9zWlYO5Ier2bxIBPFrPn0DGvSxORAPNrEJhZGaA98JY/9yOZV7fsJUx8oBkPtqjMN8u203JwIuNTtqlNhUgI8feMYAjwCHDmBezPmdlSMxtsZlFn29DM+phZkpkl7dq1y89lhrZcEWE82KIKXz3QnLKF8zDgkxTuei+J7fuPeF2aiASA34LAzDoAO51zyWc89ThQDWgAFAYePdv2zrmRzrlY51xssWLF/FWmpFH10vx80bcJ/9f+cmav302rQYl8NH8zp9WmQiRH8+eMoCnQ0cw2Ap8A15jZB8657S7VMWAU0NCPNcgFCg8z7mpegSkPxlGzdEH+Pm4Zt7w1j427f/O6NBHxE78FgXPucedcGedcDNAd+M45d5uZlQQwMwM6Acv9VYNk3mVF8vLR3Y14oUstVmw7QJuhibyZuEFN7ERyIC8+R/ChmS0DlgFFgWc9qEEywMzo3rAc0xLiaVapKM99s4ouw2ezescBr0sTkSxkwXB1SGxsrEtKSvK6jJDmnOOrpdt5asIK9h85wX1XV+L+qysSFRHudWkicg5mluyci01vPX2yWDLEzLiuTimmJcTToXZJhn27lutemcXizb96XZqIXCQFgVyQwnlzMaT7FbxzZywHj56ky+tzeOarlRw+ftLr0kQkkxQEkinXVCvB1IFx3NqoHG/P+ok2Q2YyZ91ur8sSkUxQEEim5Y+O5NlOtfikT2PCDG55az6Pfb6U/UfUxE4kmCgI5KI1rlCEyQ/GcU98BT5N2kLLQTOYumKH12WJSAYpCCRLREeG83jby/ny/qYUzpuLPu8n0++jRexWEzuRbE9BIFmqdplLmNCvGQ+1rMLUFb/QYtAMxi3eqiZ2ItmYgkCyXK6IMB64tjJf929G+aJ5GThmCb3eXcjP+9TETiQ7UhCI31QukZ/P7m3CEx2qM2/DXloNTuT9eZvUxE4km1EQiF+Fhxm9mpVn6sA46pa9hH9+uZzub85jw65DXpcmIj4KAgmIsoXz8H7vhrx4Q21WbT9A26EzGTFjPSdPnflVFSISaAoCCRgz46YGZZmeEE98lWK8MGk1nYbPZuXPamIn4iUFgQRciQLRvNGjPsNvrceO/Ufp+Oos/jt1DcdOnvK6NJGQpCAQT5gZ7WqVZNrAeDrWLcUr362j/bBZJG9SEzuRQFMQiKcK5c3FoJvq8m7PBhw5foquI+bw9MQV/HZMTexEAkVBINnCVVWLM2VgHD0aX8ao2RtpPSSRmWt3eV2WSEhQEEi2kS8qgn9dX5NP77mSXOFh9Hh7AQ+PXcL+w2piJ+JPCgLJdhqWL8w3A5pz31UV+WLxNloMnsHk5WpiJ+IvCgLJlqIjw3mkTTXG39+UYvmiuPeDZO77MJmdB496XZpIjqMgkGytZumCjO/XlIdbV2X6qp20HJTI58lqYieSlRQEku1Fhodx/9WV+KZ/cyoVz8dDY5dwx6iFbP31sNelieQICgIJGpWK52PsPVfydMcaJG3cS+vBiYyeu1FN7EQukoJAgkpYmHFHkximPBhHvcsK8cT4Fdz0xlzWq4mdSKYpCCQolS2ch9G9GvLyjXVYu/MQbYfO5LXv13FCTexELpiCQIKWmdG1fhmmJcTR4vLivDRlDZ1em83ybfu9Lk0kqCgIJOgVzx/N8FvrM+K2evxy4BjXvzabFyev5ugJNbETyQgFgeQYbWqW5NuEeLpcUZrhP6yn3bCZLNy41+uyRLI9BYHkKAXzRPLSjXUY3ashx06c5sYRc3li/HIOqYmdyDkpCCRHiqtSjKkD47izSQzvz9tE68GJzPhRTexEzkZBIDlW3qgInupYg8/uvZLoyDDueGcBCZ+msO/wca9LE8lWFASS49W/rDBf929Ov6srMSHlZ1oMmsE3y7Z7XZZItuH3IDCzcDNbbGZfnbH8FTPTp4AkIKIjw/lb66qM79eUSwtGc9+Hi7j3/WR2HlATO5FAzAgGAKvSLjCzWOCSAOxb5E9qlCrIl/c15dE21fhuzU5aDJrBp0lb1MROQppfg8DMygDtgbfSLAsHXgIe8ee+Rc4lIjyMvldVZPKA5lS7tACPfLaUHm8vYMteNbGT0OTvGcEQUv+Hn/Zz//2ACc45HaQVT1Uolo9P+jTmmU41Wbz5V1oNTmTU7J84pSZ2EmIyFARmVtHMonz3rzKz/mZ23kM7ZtYB2OmcS06zrBRwI/BKBvbZx8ySzCxp1y5d9if+ERZm9Gh8GVMT4mlUoTBPT1zJjSPmsG7nQa9LEwkYy8ixUTNLAWKBGGAKMAGo6pxrd55tngd6ACeBaKAAcMx3+/0MXTlgg3Ou0vn2Hxsb65KSktKtU+RiOOf4MmUbT09cyeFjp+h/bSXuia9IZLgurpPgZGbJzrnY9NbL6F/4aefcSaAzMMQ5NxAoeb4NnHOPO+fKOOdigO7Ad865Qs65S51zMb7lh9MLAZFAMTM6X1GG6QnxtKxRgpen/sh1r8xi2VY1sZOcLaNBcMLMbgbuAH6/DDTSPyWJeKtoviheu6Ueb/Soz97fjtNp+Gyen7RKTewkx8poEPQErgSec879ZGblgQ8yuhPn3A/OuQ5nWZ4vo68hEmita1zKtIR4utYrwxszNtB26Ezmb9jjdVkiWS5D5wj+tIFZIaCsc26pf0r6K50jEK/NXrebx75Yypa9R7itcTkebVON/NGaFEv2lqXnCMzsBzMrYGaFgSXAKDMbdLFFigSLppWKMuXBOHo3K8+H8zfTenAi36/e6XVZIlkio4eGCjrnDgBdgFHOufpAC/+VJZL95MkVwT87VOfzvk3IGxVBz3cXMnBMCnt/UxM7CW4ZDYIIMysJ3MT/ThaLhKR65QrxVf9m9L+2MhOX/EzLQTOYuORntamQoJXRIPgXqZ8fWO+cW2hmFYC1/itLJHuLiggnoWUVJj7QjNKFcvPAx4u5e3Qyv6iJnQShCz5Z7AWdLJbs7OSp07wz+yf+O/VHckWE8Y92l9OtQVnMzOvSJMRl9cniMmY2zsx2mtkvZva5r6GcSMiLCA+jT1xFpjwYR/WSBXjsi2Xc+tZ8Nu9REzsJDhk9NDSK1LYSpYDSwETfMhHxiSmal4/vbsy/O9di6db9tBoyg7dmblATO8n2MhoExZxzo5xzJ323d4FifqxLJCiFhRm3NCrHtIQ4mlQsyrNfr+KG1+fw4y9qYifZV0aDYLeZ3eb7trFwM7sN0EcsRc6hZMHcvH1HLEO712Xz3sO0HzaTodPXcvzk6fQ3FgmwjAZBL1IvHd0BbAe6ktp2QkTOwcy4vm5ppg2Mo23NkgyentrEbsmWfV6XJvInGQoC59xm51xH51wx51xx51wnUj9cJiLpKJIvimE3X8Fbt8ey/8gJOg+fzXNfr+TIcTWxk+zhYhqtJ2RZFSIhoEX1EkxNiKN7w3K8OfMn2gxNZO56HWEV711MEOgiaZELVCA6kn93rsVHdzcC4OY35/H4F8s4cPSEx5VJKLuYINA1cSKZ1KRiUSYPiKNPXAXGLNxMq0GJfLvqF6/LkhB13iAws4NmduAst4OkfqZARDIpd65w/t7ucr64rykFc0fS+70k+n+8mD2HjnldmoSY8waBcy6/c67AWW75nXMRgSpSJCerW/YSJj7QjIEtqjBp+XZaDJrB+JRtamInAaNv5RbJBnJFhDGgRWW+7t+cy4rkZcAnKdz1XhLb9x/xujQJAQoCkWykSon8fN63Cf/X/nJmr99Ny0GJfDh/E6fVpkL8SEEgks2Ehxl3Na/A1AfjqV2mIP8Yt5xb3prHxt2/eV2a5FAKApFsqlyRPHx4VyNe6FKLFdsO0HpIIiMT13PylNpUSNZSEIhkY2ZG94blmJYQT/PKxfj3N6u54fU5rN5xwOvSJAdREIgEgUsLRvPm7fV59ZYr2PrrEToMm8WgaT9y7KTaVMjFUxCIBAkzo0PtUkxPiOe6OqUY9u1aOgybxaLNv3pdmgQ5BYFIkCmUNxeDu9Vl1J0NOHTsJDe8PodnvlrJ4eMnvS5NgpSCQCRIXV2tOFMHxnFro3K8PesnWg9JZPa63V6XJUFIQSASxPJHR/Jsp1qM6dOYiLAwbn1rPo99vpT9R9TETjJOQSCSAzSqUIRJA5pzb3xFxiZvpeWgGUxdscPrsiRIKAhEcojoyHAea1uNL+9rSpF8UfR5P5n7P1rEroNqYifnpyAQyWFqlSnIhH5N+VurKkxb8QstB89g3OKtamIn56QgEMmBIsPD6HdNZb4Z0IwKRfMycMwSer67kG371MRO/kpBIJKDVSqen7H3NuHJ66ozf8NeWg2awfvz1MRO/szvQWBm4Wa22My+8j1+28yWmNlSM/vMzPL5uwaRUBYeZvRsWp6pA+O4olwh/vnlcrqPnMeGXYe8Lk2yiUDMCAYAq9I8Huicq+Ocqw1sBvoFoAaRkFe2cB7e792QF7vWZvWOA7QZOpPXf1ATO/FzEJhZGaA98Nbvy5xzB3zPGZAbffexSMCYGTfFlmV6QjxXVy3GfyavptPw2az8WU3sQpm/ZwRDgEeAP73lMLNRwA6gGvDK2TY0sz5mlmRmSbt27fJzmSKhpXiBaN7oEcvrt9Zjx/5jdHx1Fi9PWcPRE2piF4r8FgRm1gHY6ZxLPvM551xPoBSph4y6nW1759xI51yscy62WLFi/ipTJKS1rVWS6QlxXF+3NK9+v472w2aSvGmv12VJgPlzRtAU6GhmG4FPgGvM7IPfn3TOnQLGADf4sQYRSccleXLx35vq8F6vhhw9cZquI+by1IQV/HZMTexChd+CwDn3uHOujHMuBugOfAf0MLNK8Mc5guuA1f6qQUQyLr5KMaYMjOP2xpfx7pyNtBqcSOKPOiwbCgL9OQID3jOzZcAyoCTwrwDXICLnkC8qgqevr8nYe68kKjKM299ZwN/GLmH/YTWxy8ksGD52Hhsb65KSkrwuQySkHD1ximHfruWNxA0UzpuLZ66vQZuaJb0uSy6AmSU752LTW0+fLBaRs4qODOeRNtUYf39TiuWL4t4PFtH3g2R2HjzqdWmSxRQEInJeNUsXZHy/pjzcuirfrt5Jy0GJfJasJnY5iYJARNIVGR7G/VdX4pv+zalcPB9/G7uEO0YtZOuvh70uTbKAgkBEMqxS8Xx8es+V/Ov6GiRv3EurwYm8N2ejmtgFOQWBiFyQsDDj9itjmDIwjtiYwjw5YQU3vTGXdTvVxC5YKQhEJFPKFMrDez0b8N8b67B25yHaDZ3Ja9+v44Sa2AUdBYGIZJqZcUP9MkxPiKdF9eK8NGUN1786m+Xb9ntdmlwABYGIXLRi+aMYfmt9RtxWj10oRAKsAAANbElEQVSHjnH9a7P5z+TVamIXJBQEIpJl2tQsyfSB8XS5ojSv/7CedkNnsnCjmthldwoCEclSBfNE8tKNdXi/d0OOnzrNjSPm8sT45RxSE7tsS0EgIn7RvHIxpjwYR8+mMbw/bxOtByfyw5qdXpclZ6EgEBG/yRsVwZPX1eCze5uQO1c4d45aSMKnKfz623GvS5M0FAQi4nf1LyvE1/2b8cA1lZiQ8jMtB8/gm2Xb1aYim1AQiEhAREWE81Crqkzo14ySBXNz34eLuPeDZHYeUBM7rykIRCSgqpcqwLj7mvB422r8sGYXLQbN4NOFWzQ78JCCQEQCLiI8jHviKzJpQHOqlSzAI58vpcfbC9iyV03svKAgEBHPVCiWj0/ubsyznWqSsmUfrQYn8s6snzilJnYBpSAQEU+FhRm3Nb6MqQPjaFShMP/6aiU3jpjD2l8Oel1ayFAQiEi2UOqS3Iy6swFDutXlp92/0X7YLF75dq2a2AWAgkBEsg0zo9MVpZmWEE+rGiX477Qfue6VWSzbqiZ2/qQgEJFsp2i+KF69pR4je9Tn18PHuf61WTw/aZWa2PmJgkBEsq1WNS5l6sB4ujUoyxszNtBmSCLzNuzxuqwcR0EgItlawdyRPN+lNh/d1YjTDrqPnMc/xi3j4NETXpeWYygIRCQoNKlUlMkPNueuZuX5eMFmWg1O5PvVamKXFRQEIhI08uSK4P86VOfzvk3IFxVBz3cX8uAni9mrJnYXRUEgIkHninKF+Kp/MwZcW5mvl22n5aAZTFzys9pUZJKCQESCUlREOANbVmHiA80oUyg3D3y8mLtHJ7Njv5rYXSgFgYgEtWqXFuCL+5ryj3aXM2vdLloOmsHHCzZrdnABFAQiEvTCw4y74yoweUAcNUoX4PEvlnHLm/PZtOc3r0sLCgoCEckxYorm5aO7GvPvzrVYvm0/rYck8tbMDWpilw4FgYjkKGFhxi2NyjE1IY6mFYvy7Ner6PL6HNbsUBO7c/F7EJhZuJktNrOvfI8/NLM1ZrbczN4xs0h/1yAioadkwdy8dUcsw26+gi17D9PhlZkMmf4jx0+qid2ZAjEjGACsSvP4Q6AaUAvIDdwVgBpEJASZGR3rlGJ6QjztapVkyPS1XPfKLFK27PO6tGzFr0FgZmWA9sBbvy9zzn3jfIAFQBl/1iAiUjhvLoZ2v4K374hl/5ETdBk+m+e+XsmR42piB/6fEQwBHgH+MhfzHRLqAUw+24Zm1sfMkswsadeuXf6tUkRCwrWXl2BqQhzdG5bjzZk/0XpIInPW7/a6LM/5LQjMrAOw0zmXfI5VhgOJzrmZZ3vSOTfSORfrnIstVqyYv8oUkRBTIDqSf3euxcd3N8YMbnlzPo9/sYwDIdzEzp8zgqZARzPbCHwCXGNmHwCY2ZNAMSDBj/sXETmnKysWYfKAOPrEVWDMws20HDSD6St/8bosT/gtCJxzjzvnyjjnYoDuwHfOudvM7C6gNXCzc06n70XEM7lzhfP3dpcz7r6mFMqTi7tGJ9H/48XsOXTM69ICyovPEYwASgBzzSzFzJ7woAYRkT/UKXsJE/o1I6FlFSYt306LQTMYn7ItZNpUWDAMNDY21iUlJXldhoiEgB9/Ocgjny0lZcs+rqlWnGc71aTUJbm9LitTzCzZOReb3nr6ZLGISBpVSuTn875N+GeH6sxdv4dWgxP5cP4mTufgNhUKAhGRM4SHGb2blWfKg3HUKVuQf4xbzs1vzuOn3TmziZ2CQETkHMoVycMHvRvxnxtqsXL7AdoMSWRk4npOnspZ17koCEREzsPM6NagHNMT4omrUox/f7OaLq/PYdX2A16XlmUUBCIiGVCiQDQje9TntVvq8fO+I1z3yiwGTV3DsZPB36ZCQSAikkFmRvvaJZk2MJ6OdUox7Lt1dBg2i0Wbf/W6tIuiIBARuUCF8uZiULe6jOrZgN+OneSG1+fwr4krOXz8pNelZYqCQEQkk66uWpwpA+O4rdFlvDM7tYnd7HXB18ROQSAichHyR0fyTKeajOnTmIiwMG59az6PfraU/UeCp4mdgkBEJAs0qlCESQOa0/eqiny2aCstB81gyoodXpeVIQoCEZEsEh0ZzqNtqvHlfU0pki+Ke95P5v4PF7HrYPZuYqcgEBHJYrXKFGRCv6Y83Loq01b+QsvBM/hi0dZs28ROQSAi4geR4WHcf3UlvhnQjApF85Lw6RJ6vruQbfuOeF3aXygIRET8qFLx/Iy9twlPXVedBT/tpdWgGbw/d2O2amKnIBAR8bPwMOPOpqlN7OpdVoh/jl9B95HzWL/rkNelAQoCEZGAKVs4D6N7NeSlrrVZveMAbYfOZPgP6zxvYqcgEBEJIDPjxtiyTH8onmuqFufFyWvoNHw2K37e71lNCgIREQ8Uzx/NiB71ef3WeuzYf4yOr87mpSmrOXoi8E3sFAQiIh5qW6sk0xPi6FS3NK99v572w2aSvGlvQGtQEIiIeOySPLn47011eK9XQ46eOE3XEXN5asIKfjsWmCZ2CgIRkWwivkoxpg6M444rY3hv7kZaDU5kzY6Dft+vgkBEJBvJGxXBUx1rMPaeK6lYPB9lCuX2+z4j/L4HERG5YLExhRndq2FA9qUZgYhIiFMQiIiEOAWBiEiIUxCIiIQ4BYGISIhTEIiIhDgFgYhIiFMQiIiEOMuu36GZlpntAjZlcvOiwO4sLCcYaMyhQWPO+S52vJc554qlt1JQBMHFMLMk51ys13UEksYcGjTmnC9Q49WhIRGREKcgEBEJcaEQBCO9LsADGnNo0JhzvoCMN8efIxARkfMLhRmBiIich4JARCTE5ZggMLM2ZrbGzNaZ2WNneT7KzMb4np9vZjGBrzJrZWDMCWa20syWmtm3ZnaZF3VmpfTGnGa9rmbmzCyoLzXMyHjN7Cbf73mFmX0U6BqzWgb+rsuZ2fdmttj3t93Oizqzkpm9Y2Y7zWz5OZ43Mxvm+5ksNbN6WVqAcy7ob0A4sB6oAOQClgDVz1jnPmCE7353YIzXdQdgzFcDeXz3+4bCmH3r5QcSgXlArNd1+/l3XBlYDBTyPS7udd0BGPNIoK/vfnVgo9d1Z8G444B6wPJzPN8OmAQY0BiYn5X7zykzgobAOufcBufcceAT4Poz1rkeeM93/zPgWjOzANaY1dIds3Pue+fcYd/DeUCZANeY1TLyewZ4BngROBrI4vwgI+O9G3jNOfcrgHNuZ4BrzGoZGbMDCvjuFwR+DmB9fuGcSwT2nmeV64HRLtU84BIzK5lV+88pQVAa2JLm8VbfsrOu45w7CewHigSkOv/IyJjT6k3qO4pglu6YzewKoKxz7qtAFuYnGfkdVwGqmNlsM5tnZm0CVp1/ZGTMTwG3mdlW4BvggcCU5qkL/fd+QXLKl9ef7Z39mdfFZmSdYJLh8ZjZbUAsEO/XivzvvGM2szBgMHBnoArys4z8jiNIPTx0FakzvplmVtM5t8/PtflLRsZ8M/Cuc+6/ZnYl8L5vzKf9X55n/Pr/r5wyI9gKlE3zuAx/nS7+sY6ZRZA6pTzfVCy7y8iYMbMWwD+Ajs65YwGqzV/SG3N+oCbwg5ltJPVY6oQgPmGc0b/r8c65E865n4A1pAZDsMrImHsDnwI45+YC0aQ2Z8vJMvTvPbNyShAsBCqbWXkzy0XqyeAJZ6wzAbjDd78r8J3znYUJUumO2XeY5A1SQyDYjx1DOmN2zu13zhV1zsU452JIPS/S0TmX5E25Fy0jf9dfknpRAGZWlNRDRRsCWmXWysiYNwPXApjZ5aQGwa6AVhl4E4DbfVcPNQb2O+e2Z9WL54hDQ865k2bWD5hC6lUH7zjnVpjZv4Ak59wE4G1Sp5DrSJ0JdPeu4ouXwTG/BOQDxvrOi292znX0rOiLlMEx5xgZHO8UoJWZrQROAQ875/Z4V/XFyeCYHwLeNLOBpB4euTPI39RhZh+TenivqO/cx5NAJIBzbgSp50LaAeuAw0DPLN1/kP/8RETkIuWUQ0MiIpJJCgIRkRCnIBARCXEKAhGREKcgEBEJcQoCEcDMTplZSprbOTubZuK1Y87VVVIkO8gRnyMQyQJHnHN1vS5CxAuaEYich5ltNLP/mNkC362Sb/llvu94+P27Hsr5lpcws3FmtsR3a+J7qXAze9P3nQFTzSy3Z4MSOYOCQCRV7jMODXVL89wB51xD4FVgiG/Zq6S2Ba4NfAgM8y0fBsxwztUhtb/8Ct/yyqS2i64B7ANu8PN4RDJMnywWAczskHMu31mWbwSucc5tMLNIYIdzroiZ7QZKOudO+JZvd84VNbNdQJm0Df4s9dvwpjnnKvsePwpEOuee9f/IRNKnGYFI+tw57p9rnbNJ2/n1FDo/J9mIgkAkfd3S/Heu7/4c/te48FZglu/+t6R+LShmFm5mv3+Tlki2pXclIqlym1lKmseTnXO/X0IaZWbzSX3jdLNvWX/gHTN7mNQWyL93gxwAjDSz3qS+8+8LZFm7YBF/0DkCkfPwnSOIdc7t9roWEX/RoSERkRCnGYGISIjTjEBEJMQpCEREQpyCQEQkxCkIRERCnIJARCTE/T/Mg2w6IuMmEwAAAABJRU5ErkJggg==\n",
      "text/plain": [
       "<Figure size 432x288 with 1 Axes>"
      ]
     },
     "metadata": {
      "needs_background": "light"
     },
     "output_type": "display_data"
    }
   ],
   "source": [
    "utility.plot_training_history(history, results_dir)\n",
    "\n",
    "model_plot_filename = results_dir + '/' + 'rnn_plot.png'\n",
    "plot_model(regressor, to_file=model_plot_filename, show_shapes=True, show_layer_names=True)\n",
    "\n",
    "print('RNN plot saved to {}'.format(model_plot_filename))"
   ]
  },
  {
   "cell_type": "markdown",
   "metadata": {},
   "source": [
    "## Part 4 - Making the predictions and visualising the results"
   ]
  },
  {
   "cell_type": "code",
<<<<<<< HEAD
   "execution_count": 18,
=======
   "execution_count": 20,
>>>>>>> 42080c8191e71574e04ea442ed9a220f65fc4b04
   "metadata": {},
   "outputs": [
    {
     "name": "stdout",
     "output_type": "stream",
     "text": [
      "Validation will be performed on truncated dataset which consists of  2000  examples out of the original number of training examples which is  80000000\n"
     ]
    }
   ],
   "source": [
    "# Import validation set\n",
    "\"\"\"Temporary: we downsample the testing datatset to reduce time!\"\"\"\n",
    "dataset_test = valid_df.iloc[::down_sample,:]\n",
    "true_test_time = dataset_test.iloc[:,1].values\n",
    "print(\"Validation will be performed on truncated dataset which consists of \",dataset_test.shape[0],\n",
    "      \" examples out of the original number of training examples which is \", valid_df.shape[0])"
   ]
  },
  {
   "cell_type": "code",
<<<<<<< HEAD
   "execution_count": 19,
=======
   "execution_count": 37,
>>>>>>> 42080c8191e71574e04ea442ed9a220f65fc4b04
   "metadata": {},
   "outputs": [
    {
     "name": "stdout",
     "output_type": "stream",
     "text": [
      "<class 'pandas.core.frame.DataFrame'>\n",
      "Int64Index: 2000 entries, 139000000 to 218960000\n",
      "Data columns (total 2 columns):\n",
      "acoustic_data      2000 non-null int16\n",
      "time_to_failure    2000 non-null float64\n",
      "dtypes: float64(1), int16(1)\n",
      "memory usage: 35.2 KB\n"
     ]
    },
    {
     "data": {
      "text/html": [
       "<div>\n",
       "<style scoped>\n",
       "    .dataframe tbody tr th:only-of-type {\n",
       "        vertical-align: middle;\n",
       "    }\n",
       "\n",
       "    .dataframe tbody tr th {\n",
       "        vertical-align: top;\n",
       "    }\n",
       "\n",
       "    .dataframe thead th {\n",
       "        text-align: right;\n",
       "    }\n",
       "</style>\n",
       "<table border=\"1\" class=\"dataframe\">\n",
       "  <thead>\n",
       "    <tr style=\"text-align: right;\">\n",
       "      <th></th>\n",
       "      <th>acoustic_data</th>\n",
       "      <th>time_to_failure</th>\n",
       "    </tr>\n",
       "  </thead>\n",
       "  <tbody>\n",
       "    <tr>\n",
       "      <th>139000000</th>\n",
       "      <td>5</td>\n",
       "      <td>12.635498</td>\n",
       "    </tr>\n",
       "    <tr>\n",
       "      <th>139040000</th>\n",
       "      <td>10</td>\n",
       "      <td>12.624899</td>\n",
       "    </tr>\n",
       "    <tr>\n",
       "      <th>139080000</th>\n",
       "      <td>4</td>\n",
       "      <td>12.614200</td>\n",
       "    </tr>\n",
       "    <tr>\n",
       "      <th>139120000</th>\n",
       "      <td>8</td>\n",
       "      <td>12.604696</td>\n",
       "    </tr>\n",
       "    <tr>\n",
       "      <th>139160000</th>\n",
       "      <td>7</td>\n",
       "      <td>12.593997</td>\n",
       "    </tr>\n",
       "  </tbody>\n",
       "</table>\n",
       "</div>"
      ],
      "text/plain": [
       "           acoustic_data  time_to_failure\n",
       "139000000              5        12.635498\n",
       "139040000             10        12.624899\n",
       "139080000              4        12.614200\n",
       "139120000              8        12.604696\n",
       "139160000              7        12.593997"
      ]
     },
<<<<<<< HEAD
     "execution_count": 19,
=======
     "execution_count": 37,
>>>>>>> 42080c8191e71574e04ea442ed9a220f65fc4b04
     "metadata": {},
     "output_type": "execute_result"
    }
   ],
   "source": [
    "dataset_test.info()\n",
    "dataset_test.head()"
   ]
  },
  {
   "cell_type": "code",
<<<<<<< HEAD
   "execution_count": 20,
=======
   "execution_count": 21,
>>>>>>> 42080c8191e71574e04ea442ed9a220f65fc4b04
   "metadata": {},
   "outputs": [
    {
     "data": {
      "text/plain": [
       "(2050, 1)"
      ]
     },
<<<<<<< HEAD
     "execution_count": 20,
=======
     "execution_count": 21,
>>>>>>> 42080c8191e71574e04ea442ed9a220f65fc4b04
     "metadata": {},
     "output_type": "execute_result"
    }
   ],
   "source": [
    "#Because we have time_steps time steps and we we want to predict the first entry of time_to_failure in the validation set, we have to look back time_steps samples. \n",
    "#Hence, we get these time_steps past samples from the training set. This is why we first concatenate both training and validation. This step may be omitted if we just need to predict one value\n",
    "#for the whole test set (such as in the provided test files where one value is only needed so we can look back in the same data provided ) \n",
    "dataset_total = pd.concat((dataset_train['acoustic_data'], dataset_test['acoustic_data']), axis = 0)\n",
    "inputs = dataset_total[len(dataset_total) - len(dataset_test) - time_steps:].values\n",
    "inputs = inputs.reshape(-1,1)\n",
    "\n",
    "# Feature Scaling\n",
    "if scaling_type == 'None':\n",
    "    inputs_scaled=inputs\n",
    "else:\n",
    "    print('Scaling the inputs set. scaling_type={}'.format(scaling_type))\n",
    "    t0 = time.time()\n",
    "    inputs_scaled = scaler.transform(inputs) \n",
    "    print('Scaling complete. time_to_scale={:.2f} seconds'.format(time.time() - t0))\n",
    "\n",
    "inputs_scaled.shape # So we end up with input size = size of validation set + time_steps"
   ]
  },
  {
   "cell_type": "code",
<<<<<<< HEAD
   "execution_count": 21,
=======
   "execution_count": 22,
>>>>>>> 42080c8191e71574e04ea442ed9a220f65fc4b04
   "metadata": {},
   "outputs": [
    {
     "data": {
      "text/plain": [
       "(2000, 50, 1)"
      ]
     },
<<<<<<< HEAD
     "execution_count": 21,
=======
     "execution_count": 22,
>>>>>>> 42080c8191e71574e04ea442ed9a220f65fc4b04
     "metadata": {},
     "output_type": "execute_result"
    }
   ],
   "source": [
    "X_test = []\n",
    "\n",
    "for i in range(time_steps, inputs_scaled.shape[0]):\n",
    "    X_test.append(inputs_scaled[i-time_steps:i, 0])\n",
    "X_test = np.array(X_test)\n",
    "X_test = np.reshape(X_test, (X_test.shape[0], X_test.shape[1], 1))\n",
    "X_test.shape"
   ]
  },
  {
   "cell_type": "code",
<<<<<<< HEAD
   "execution_count": 22,
=======
   "execution_count": 23,
>>>>>>> 42080c8191e71574e04ea442ed9a220f65fc4b04
   "metadata": {},
   "outputs": [
    {
     "name": "stdout",
     "output_type": "stream",
     "text": [
      "Predicting on the training set using the trained RNN\n",
      "Predicting on the training set complete. time_to_predict=0.84 seconds\n"
     ]
    }
   ],
   "source": [
    "# Predict on training set\n",
    "\n",
    "print('Predicting on the training set using the trained RNN')\n",
    "t0 = time.time()\n",
    "train_predicted_time = regressor.predict(X_train)\n",
    "#predicted_time = sc.inverse_transform(predicted_time)\n",
    "print('Predicting on the training set complete. time_to_predict={:.2f} seconds'.format(time.time() - t0))"
   ]
  },
  {
   "cell_type": "code",
<<<<<<< HEAD
   "execution_count": 23,
=======
   "execution_count": 24,
>>>>>>> 42080c8191e71574e04ea442ed9a220f65fc4b04
   "metadata": {},
   "outputs": [
    {
     "name": "stdout",
     "output_type": "stream",
     "text": [
      "Predictions on train set saved to results/current_run/train_prediction.csv\n"
     ]
    }
   ],
   "source": [
    "# Save predictions on training set\n",
    "\n",
    "train_prediction = pd.DataFrame(train_predicted_time)\n",
    "train_pred_filename = results_dir + '/' + 'train_prediction.csv'\n",
    "train_prediction.to_csv(train_pred_filename)\n",
    "print('Predictions on train set saved to {}'.format(train_pred_filename))"
   ]
  },
  {
   "cell_type": "code",
<<<<<<< HEAD
   "execution_count": 24,
=======
   "execution_count": 26,
>>>>>>> 42080c8191e71574e04ea442ed9a220f65fc4b04
   "metadata": {},
   "outputs": [
    {
     "name": "stdout",
     "output_type": "stream",
     "text": [
      "Predictions plot saved to: results/current_run/train_true_vs_pred.png\n"
     ]
    },
    {
     "data": {
<<<<<<< HEAD
      "image/png": "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\n",
=======
      "image/png": "iVBORw0KGgoAAAANSUhEUgAAAYMAAAEWCAYAAACEz/viAAAABHNCSVQICAgIfAhkiAAAAAlwSFlzAAALEgAACxIB0t1+/AAAADl0RVh0U29mdHdhcmUAbWF0cGxvdGxpYiB2ZXJzaW9uIDMuMC4yLCBodHRwOi8vbWF0cGxvdGxpYi5vcmcvOIA7rQAAIABJREFUeJzsnXeYU0X3xz+HpTepCgICooL0svSqYMOKioqoqCjSBFFpgjQBCwqIYkFF9LXwWlDRV/khiKKiSFukSxekI70vO78/zs0Slt1sdjc3N8nO53nyJLm5mfneueXMmTkzI8YYLBaLxZK9yeG1AIvFYrF4jzUGFovFYrHGwGKxWCzWGFgsFosFawwsFovFgjUGFovFYsEaA4uDiOQUESMiFZzvb4vIU2HI9yER+TED+3cSke9clBS1iEgbEdnkUd5bRaSVF3m7Sbjug0ggWxgDETns90oSkWN+3zt6rS8SMcY8ZIwZnd5+IvKLiNzvhgYRuUREzhoIY4x5zxhznRv5BdARcQ+6lMbbci6hOG/B3gehwsvzmjPcGXqBMaag77NTc3rIGDMrrf1FJKcxJjEc2txCROKMMae91mEJPSKSLe5bt4mF+zyUZAvPID1EZKSI/FdEPhaRQ8A9IvKBiAzz2+csF1xEyorIFyKyW0Q2ikiPNNJuJiL/iEgOv23tRWSx87mRiCwWkYMislNExqSRThsR2SQiQ0Rkr5PnXX6/fyAiE0VkhogcAZqLSF4RGSsiW5y0XxORvH7/GSAiO0TkH6BTivxSHv+tIpLg6FwnIleLyPNAY+ANx8sa7+xbVURmici/IrJaRG7zS6ekiHzjpPM7UDHAqZnr/MfnxdX3b1byq0V1E5H1InJIRIaKyKUi8ruTx8cikssv/5tEZKmI7He8muoB8kdEPgYuBL5zNDzubL9FRFY46fwgIpUDpeP8J81rRkQaO5r3i8h2EZng0+13nN1FZB2w2lc2wApHl38Z93Py2CYi96VV9iIyyq8sz/HCxM/rc8p0jnPt7RGR/4jIeWkcZzXnWm2f3nGn8t8izrW320ljoIiI89tDIvKTiIxzymmDiFydRjrnnDffMYrIAyLyNzBTRHKIyGfOfbBfRH4Ukcv90km+D+TMPZhq+aaiobOz/yFHq//9+pBzb+wTke9EpJzzU5rn1XWMMdnqBWwC2qTYNhI4CdyIGsh8wAfAML992gCbnM9xQALwFJAbuMRJt3Uq+Ynz2xV+274AnnQ+LwA6OJ8LAQ3T0N0GSATGAHmAK4GjwCXO7x8A+9CHcw5nn1edvIoChYFvgWec/W8AtgNVgQLAJ4ABKvilN8z53ATYD7R20i4HVHZ++wW4309nIeAf4D7U86wH7PXb/zPgYyA/UNPR8GMax3yJXqJnbXvIt7+TvgGmOfnWdM7j90AF57hXAx2d/esDO533OOBBYD2QO51rZivQyu/75cBh5xzkcq6Dv4BcAdIIeM04mho6x3Sxk17PFMc5wzmmfH7bKqRyjQx1dN0EHAEKp1f2aZR18rkFLnPOf27gfOBX4MWUZeQcxxbguozeK87+H/mdz4uBdUAnv3N/yjlvccCjwJYMnLdLnDJ71ymDfOj1fL+TX170nlno9x//+yBg+abIuzBwALjU+V4aqOp8vh1YA1R2zuMw4OcU57pCWsfl2rMx3Bl6/SJtY/BDim2BjEFTYEOK/Z8G3kojz+eASc7nIuhDvKzzfR4wBCieju426IMuv9+2acBAP72T/X7LARwHyvttaw6sdT6/D4z0+60qaRuDd4AxaehKaQw6AnNS7PMOMMi5gRJxDJjz2wtk3Rg09Pt9KfCE3/eXcR5awFvA0BTprQeaplP2KR8qw4GPUpT1DqBZgDQyes08CXya4jhb+P2eljE4DMT5bfsXiE+v7NMo67PObYrfbgcWpCijYc57i8wct5/Gy/y29QBm+Z371X6/FXbKoESQ581nDC4KcJ5KOPsUSOU+SLN8U0mnMFqBagfkTfHb9zgGzu9cngDKpHZew/WyzURn2JKBfcsDFzlu5X4R2Q/0A0qlsf9HwG2O238bMN8Ys9X57QH0QbxGRP4QkbYB8t1rjDnq930z6gqndgylUO9gqZ/Gb9BaHc7//PffHCDfcuhDMxjKA01TlM2daM3oArRGF2y+wbLT7/OxVL77+ozKA/1TaCuN3oQZ4UL8dBtjktAHT6B0Al4zIlJFRP7nNFccBEagDyZ/grlG95iz+4qOosefpbIXkVIi8olok+dBYEoq+roBc40xc/22ZeReOd/R6K9rM2eX644UxwZnzm+wJJeBiMSJyAtOM85B1BOBc4/NR1rlexbGmINAB9SY7XCa5y5zfi4PTPQrjz1AElA2g8cRUqwxOINJ8f0I6kr68L94t6A17CJ+r0LGmBtTTdiYP1GX/BrgbtQ4+H5bY4y5C70RXgI+F792/RQUF5F8ft8vAralcQw7UU+isp/G84wxvnbe7ehD3j+ttNgCVErjt5TltgWYnaJsChpjejqakjKQb8q0s8oWYHgKbfmNMZ+k87+UOrahNzQAov1BZdHmsUB5B7pm3gSWozX3wqi3KAF0ZLRs0iv7I86xpHXNP4/WXms4+u5PRV8X4FI5u98rI/fKLuA0fmXraAxUroFItYyMUx13uA9oizb5nYd6D3DusWU8c2O+M8a0QSsc69BzDFomnVOUST5jzPy0NIcDawzSJgG4XkSKikhpoJffb78BJ0XkCdFO2jgRqSEi9QKk9zHQB23T/8y3UUTuFZESTu3yAHoxJKWRRg5gmIjkFg2Zu84/LX+c2svbwHin41Ccjjxfh9snwINOjbQA2g6aFu8AD4nIFU6HW1k502G6E23b9TEdqCYid4tILufVQEQqG2NOAV8Cw0Ukn2jn7b0B8t0FGBG5OMA+GWES0EO0I1pEpKCI3OgcfyBSHuMnwE0i0srx9voCh4D5AdJI75ophJ7/I04H5iOBBDnnd28KXYH2T6/sdzivexxtXTj7oVwINRgHnM7OJ1PJ5gBwNdBGREYGedwpNX4GjHbOTUX0nvkgmGNMhZTnLTUKoUZuL1r5G5XJvM5CREo711Z+tFJ2BDV0AG8Ag5zz7Os0vx0yfl5DiTUGaTMFWIW6qTOAqb4fjIajtQUaoH0Qe1CrXzhAeh+htY/vjTH7/La3BVaJRjG9CNxpjDmZRhpb0YtqO/AeGiK7NkCeTzj6/0Bv1JnApc4xfA1MBH5COyu/TysRY8w84GFggpPOHM7UMMcDHRyXd6wx5gDqAd3j6NwBPIs2WYE2JRRFb9R30M68tPI95Px3vpN+fIBjTRen5tUNeB3tbP/L0Zkeo9GH6H4RecwYswKNvnod2A1cC9zkPMzSyju9a+YJJ81Dzvb/BqFrKPCRo+vWIPZPs+yd2vLDaEfvHrSG7G/chjraD6AG//PUMnCu7auAW0RkaCbule7ow3Mjem2+h/ZvZYazzlsa+7yLenrbgBVoH14oiEMrCdvRh3sToCeAMeZTYCzwqdM09Sd6z/jI6HkNCXK2x2SJVESkDfC2MaaC11ossYGIPATcY4xp5bUWi/dYz8BisVgs2WMEssUSCKdP4s80fr7MGLMtjd9cScdi8QLbTGSxWCwW20xksVgslihqJipRooSpUKGC1zIsFoslqli0aNEeY0zJ9PaLGmNQoUIFFi5c6LUMi8ViiSpEJKiR5raZyGKxWCzWGFgsFovFGgOLxWKxEEV9BhZLZjl16hRbt27l+PHjXkuxWFwjb968lC1blly5cqW/cypYY2CJebZu3UqhQoWoUKECIlmejNJiiTiMMezdu5etW7dSsWKgxQPTxjYTWWKe48ePU7x4cWsILDGLiFC8ePEseb/WGFiyBdYQWGKdrF7jrhoDEZksIrtEZHkqvz0pujh1WisKWbIb8+fDzz97rcJiyZa47RlMQed6PwtncYyrgL9dzt8STTRvDi1awDY7n5vFEm5cNQbOWqj/pvLTOHQdVDtLnuUMpUvre58+3uoIMXv37qV27drUrl2bUqVKUaZMmeTvJ0+mtY5Rxlm8eDEzZsxI/v7FF18wZsyYAP/IGmPHjvUsQmvatGmsXr06+XuzZs1ISEhwNc/Bgwczfvx4V/PwkrD3GYjITcA/xpil4c7bEuFUcpZZ/uQT8HuoRTvFixcnISGBhIQEunbtSp8+fZK/586dG9BokKSktFY7DY6UxqBdu3b07ds3S2kGwitjkJiYeI4xsGSdsBoDZz3QQehi38Hs30VEForIwt27d7srzhIZNGgAl10GPXrAsWOhT/+xx6BVq9C+HktrRcXArFu3jurVq9O1a1fq1q3Lli1bKFKkSPLvU6dO5aGHHgJg586d3HrrrcTHx9OgQQN+//33s9I6duwYI0aM4MMPP6R27dp89tlnvP322zzmaLvnnnvo0aMHV1xxBZUqVWLu3Ll06tSJKlWq0Llz5+R0vvvuOxo3bkzdunW58847OXLkSKrax40bx65du2jevDlt2rQB4IMPPqBGjRpUr16dp556KuCxp5XP0KFDqV+/fnK5+KbYb9asGYMGDaJFixY8++yzfPvtt/Tp04fatWuzadOm5PJq0KABlStXZt48Xb3y6NGjtG/fnpo1a3LXXXcRHx9PQkICiYmJaZb1V199RcOGDalTpw5XX301u3btOkf/66+/zvXXX8/x48dZu3Yt11xzDfXq1aNFixb89ddfAY89Ugm3Z1AJqAgsFZFNQFlgsYiUSm1nY8wkY0y8MSa+ZMl0J92zxAJ58sBrr8GGDfDcc16rcZ2VK1fSuXNnlixZQpkyZdLcr1evXvTr14+FCxfyySefJD+4fOTLl48hQ4bQsWNHEhISuP32289J48CBA8yZM4cXXniBG2+8kf79+7Ny5UoWLVrE8uXL2bVrF8899xyzZ89m8eLF1KxZk5dffjlVPX369OH888/n559/ZtasWWzdupXBgwczZ84clixZwq+//so333yT6n8D5dO7d28WLFjAsmXLOHDgwFmezsGDB5k7dy5PP/00bdu2Zdy4cSQkJOCbzdgYwx9//MGYMWMYMWIEAK+++ipFixblzz//pH///ixZsiTtk+HQokULfv/9d5YsWcKtt97KSy+9dNbv48ePZ+bMmXzxxRfkzZuXLl268Nprr7Fo0SKeffZZevbsmW4ekUhYB50ZY5YB5/u+OwYh3hizJ5w6LBFO69bQoYMag44d1VMIFRHW5lupUiXq16+f7n6zZs1izZo1yd/37dvHsWPHyJcvX9B53XjjjQDUqFGDCy+8kKpVqwJQtWpVNm3axLp161i5ciVNmjQB4OTJkzRr1iyotOfPn8+VV15JiRIaHHj33Xczd+5cbrjhhnP2nTdvXpr5zJ49mzFjxnD8+HH27NlDvXr1uO666wC46667Amq49VZdO75evXrJ3sLcuXPp168fAHXq1KFatWrpHsvff//NHXfcwY4dOzhx4gSX+V1/7777LuXLl2fatGnkzJmT/fv38/vvv3Pbbbcl75OYmJhuHpGIq8ZARD4GWgElRGQrMNQY846beVpihLFj4X//0+aimTMhRscJFChQIPlzjhw58F950L893lfr9fUxZIY8efIk5+P77PuemJiIMYZrr72W//znPxlOOyMrJqaVz9GjR+nZsyeLFy+mTJkyDB48+Kwy8C+r1PAdU1xc3FkP5NTi7wOVdY8ePXjqqado27Yts2bN4jk/D7VGjRokJCTwzz//UL58eYwxlChRwvXO63DgdjRRB2NMaWNMLmNM2ZSGwBhTwXoFllQpVQpGjYJZs7RDORuQI0cOihYtytq1a0lKSuKLL75I/q1NmzZMnDgx+XtqD59ChQpx6NChTOffpEkTfvrpJzZs2ADAkSNHWLt2bZr7++fXqFEj5syZw969e0lMTGTq1Km0bNkyQ/kcO3aMHDlyUKJECQ4dOsTnn38eVN6BaNGiBR9++CEAS5cuZcWKFUDgsj5w4ABlypTBGMN77713Vnrx8fFMnDiRG2+8kR07dlC0aFFKly6d/P+kpCSWLo3O2Bg7AtkSOaSsXXbrBnXraqjpwYPeaAozzz//PNdeey2tW7embNmyydsnTpzIr7/+Ss2aNalatSpvvfXWOf+98sorWbp0KXXq1OGzzz7LcN4XXHAB77zzDnfeeSe1atWiSZMmATtDu3TpQps2bWjTpg1ly5ZlxIgRtGrVitq1a9OoUSOuv/76DOVTvHhxOnXqRPXq1WnXrh0NGzZMM+8OHTowevToszqQU6Nnz57s3buXmjVrMm7cOOLj45N/S6ushw0bRrt27WjZsiUXXHDBOWm2bNmS5557juuvv55///2XqVOn8sYbb1CrVi2qVauWZl9JpCMZce+8JD4+3tiVzmKcK66ApCT46acz2xYsgIYNoVevTLf3r1q1issvvzxEIi3RTLNmzXj11VepXbu211JcIbVrXUQWGWPi0/hLMtYzsEQ29etD167wyisQRCSIxWLJHHYKa0vkM3o0fP45PPII/PYbxMV5rShbcdNNN/H332fPHPPiiy8mjy8IRHx8/DnRNR999FFyJFO4+eWXXzzJNxqwxsAS+RQpAuPGaZjppEnal2AJG9OnT8/0f23TbvRgm4ks0UGHDjr+YOBA2LnTazUWS8xhjYElOhCBiRN1ioonn/RajcUSc1hjYIkeKleGfv3ggw9gzhyv1VgsMYU1Bpbo4qmnoGJF6N4dQjj9s8WS3bHGwBI5BDPmJV8+ePVVWL0aUkwgFsnExcVRu3ZtqlevTvv27Tl69Gim0/rxxx+T5/yZPn36WdMlpGT//v289tprGc5j2LBhvPjii+ds//LLL1m5cmXy9yFDhjBr1qwMpx8MmdUeKsaPH3/WeSpYsKDrebZq1cqzTndrDCyRRTBzELVtC7feCs88Axs3uq8pBOTLl4+EhASWL19O7ty5eeONN876PbPrGdx0000MGDAgzd9D/UBNaQxGjBgRVIhpZvDSGJw+ffocYxDrWGNgiU7Gj4ccOXRkcgZG0UfCcgbNmzdn3bp1bNq0icsvv5zu3bsnr2cwc+bM5Hn+27dvz+HDhwGYMWMGVapUoVmzZkybNi05rSlTpiRPmbxz507atWtHrVq1qFWrFvPmzWPAgAGsX7+e2rVrJy90M2bMGOrXr0/NmjUZOnRoclqjRo2icuXKtGnT5qwZUn3MmzeP6dOn07dvX2rXrs369eu5//77k6e+qFChAk899RSNGzcmPj6exYsXc80111CpUqWzjF9a+ackpXZjDH379qV69erUqFGD//73vwHLOa18brnlFurVq0e1atWYNGlS8vaCBQsyZMgQGjZsyKhRo9i2bRtXXHEFV1xxRfI+gwYNolatWjRq1IidTlTbxo0bady4MfXr1+fpp59O9iD8PTjQqTGmTJkCqBH1rdvQpUuXcyb6S0pKolOnTgwePBggzesilFhjYIlOypWD4cPhm2/gq6+8VhM0iYmJfPfdd9SoUQOANWvWcN9997FkyRIKFCjAyJEjmTVrFosXLyY+Pj55NbGHH36Yr7/+mp9//pkdO3akmnavXr1o2bIlS5cuZfHixVSrVo3nnnuOSpUqkZCQwJgxY5g5cyZr167ljz/+ICEhgUWLFjF37lwWLVrE1KlTWbJkCdOmTWPBggXnpN+kSRNuuukmxowZQ0JCApV8K9P5Ua5cOX777TeaN2+ebCh+//13hgzR9azSyj81UmqfNm0aCQkJLF26lFmzZtG3b1+2b9+e6n8D5TN58mQWLVrEwoULmTBhAnv37gV0wrzq1aszf/58hgwZwoUXXsicOXOY4wQrHDlyhEaNGrF06VJatGiRPD9U79696datGwsWLKBUqVSXZjmHnj17smDBApYvX86xY8fOms8oMTGRjh07ctlllzGyTx/2/PlnqtdFqLGDzizRS69e8N57+t6mDQTRpuvVcgbHjh1Lng+nefPmdO7cmW3btlG+fHkaNWoEwO+//87KlStp2rQpoPP8N27cmNWrV1OxYkUuvfRSQFct86/R+vjhhx94//33Ae2jOO+889i3b99Z+8ycOZOZM2dSp04dAA4fPszatWs5dOgQ7dq1I3/+/IA2P2UG3/9q1KjB4cOHKVSoEIUKFSJv3rzs378/zfxbtGiRbtq//PILHTp0IC4ujgsuuICWLVuyYMGCVLUGymfChAnJs4xu2bKFtWvXUrx4ceLi4s5alyAluXPnTq7p16tXj++//x6AX3/9NXmG1XvvvZf+/funeyy+RYaOHj3Kv//+S7Vq1ZLXm3jkkUe44447GDRoECxezO8//cTKFSvOuS5CjTUGluglVy544w1o2lS9BBcXf88qvj6DlPjP0W+M4aqrruLjjz8+a5+EhIRU5+TPDMYYBg4cyCOPPHLW9vHjx4ckj2DWTEgt/2DI6JoJqeXz448/MmvWLH777Tfy589Pq1atktcyyJs3L3EBpjrJlStXchkFs2ZCzpw5z+oH8uVz/PhxunfvzsKFCylXrhzDhg07az2FJk2aMGfOHJ544gnyFi6s18XVV59zXYQa20xkiW6aNIHOnXW6imXLvFaTJRo1asSvv/7KunXrAF3s5a+//qJKlSps3LiR9evXA6T5UGjdujWvv/46oB2gBw8ePGfe/2uuuYbJkycntzn/888/7Nq1ixYtWvDFF19w7NgxDh06xNdff51qHlldMyGt/IPJq0WLFvz3v//l9OnT7N69m7lz59KgQYMM5XPgwAGKFi1K/vz5Wb169TlrSQfKPy2aNm3K1KlTAZLXTgAoX748K1eu5MSJExw4cIDZs2cDZ4xCiRIlOHz48DnTjXfu3Jm2bdvSvn17Ek+fplH9+qleF6HGGgNL9PP88zp/UbduOgV2lFKyZEmmTJlChw4dqFmzJo0aNWL16tXkzZuXSZMmcf3119OsWTPKly+f6v9ffvll5syZQ40aNahXrx4rVqygePHiNG3alOrVq9O3b1+uvvpq7r77bho3bkyNGjW4/fbbOXToUPLC9LVr1+a2226jefPmqeZx1113MWbMGOrUqZNsnDJCWvmnRkrt7dq1o2bNmtSqVYsrr7ySF154Ic02+rTyufbaa0lMTKRmzZo8/fTTyU10qdGlSxeuu+66szqQU+Pll19m4sSJ1K9fnwMHDiRvL1euHHfccQc1a9akY8eOyU1WRYoU4eGHH6ZGjRrccsstqS57+vjjj1O3bl3uffJJihcpkup1EWrsegaWyKFVK33/8ceM//fdd+HBB+Gdd/TdD7uegSWcFCxYMHTRPuvXw/HjEMTazWDXM7DEClmpmHTqBM2a6XQVTnSIxWIJHlc7kEVkMnADsMsYU93ZNga4ETgJrAceMMbsd1OHJYrIbCdmjhzw+utQpw707w9vvx1aXRbX2Lt3L61btz5n++zZsylevHjA/y5btox77733rG158uRh/vz5IdWYEdwYAxAO3I4mmgK8Crzvt+17YKAxJlFEngcGAunHYlks6VG9uq6XPGYMPPCARhk5GGNCFpFjCS3FixdPNdIqGGrUqJHp/0YFGYygygquNhMZY+YC/6bYNtMY44vJ+h0oe84fLZbMMnQoXHSRLpV56hSgIYN79+7N8s1isUQqxhj27t1L3rx5M52G1+MMHgQCjym3WDJCgQLw8svQrh1MmABPPEHZsmXZunUru3fv9lqdxZIxdu/WSk2O9OvtefPmpWzZzNetPTMGIjIISAQ+DLBPF6ALwEUXXRQmZZao5+ab4YYb1Eu44w5ylStHxYoVvVZlsWScwYPhr7/CMobGk2giEemEdix3NAF8d2PMJGNMvDEmvmTJkuETaIluROCVV3TMQUZnkbNYsilhNwYici3aYXyTMSb7zA9rCS8VKsDTT8O0afDtt16rsVgiHleNgYh8DPwGVBaRrSLSGY0uKgR8LyIJIvJGwEQs2YdQd/A+8QRUqQI9e0I2mpfeYskMrvYZGGM6pLL5HTfztEQ5oQz/zJ0bXnsNrrwSRo+GkSNDl7bFEmPYEcgLFmhs+unTXiuxuMEVV8A998ALL+hSmRZLNBHGcGhrDMaN00nundkeLTHIiy9qyGmPHmG9uSyWkBCmwZLWGDgLhjBoEKSxapIlyrngAm0m+uEHcHlOeIslWrHGwGd1jx/XDkdLbNKlC8THw+OPw347FZbFkhJrDHwMGKC1xlmzvFZicYO4OF0Vbfdu9QItFstZWGPgY+BAqFRJ25VPnPBajcUN6tXT8/v66xo4YLFYkrHGwEfevDBxog79fuEFr9VY3OKZZ6BUKZ3IzkaQWSzJWGPgH11yzTXQvj2MGqUrDFnCSzgifc47TyPIFi+2EWQWix/WGKRk3DjIlUtHrdowxPATjjC6O+6Aq66yEWSWyMeOM/CQMmW0KWHGDJ3XxhJ7iGiToI0gs0QDdpyBh/TsCbVrQ+/ecOiQ12osbnDppWciyGbP9lqNxeI51hikRs6c2p68bRsMG+a1GotbDBigEWTdu9sIMku2xxqDtGjUCB5+WFfN+vNPr9VY3CBfPnj1VY0gGzPGazUWi6dYYxCIZ5+FYsU0DDEpyWs1Fje49lq4/XaNINuwwWs1FotnWGMQqLe+WDGd5Oy332Dy5PBpsoSX8eO1adBGkFmyMdYYpMe990LLltC/P+zZ47Wa2MarB3GZMjBiBHz3nY0gs0QWkRhaKiL5RKSym2I8I1DologukHLwIPTrFz5N2ZUwhdGdw6OPQq1aNoLMEnlEUmipiNwIJAAznO+1RWS6m8IiiqpVNR793Xfhl1+8VmNxg5w54c03bQSZJdsSrGcwDGgA7AcwxiQAFdyRFKE8/TSULw/dusGpU16rsbhBw4Y2gsySbQnWGCQaYw5kNHERmSwiu0Rkud+2YiLyvYisdd6LZjRdTyhQACZMgOXLtcPREpv4Isi6dbMRZJZsRbDGYLmI3A3EicilIvIKMC+I/00Brk2xbQAw2xhzKTDb+R4d3HSTvoYNg7//9lqNxQ2KFdMxB/PmabOgxZJNCNYYPApUA04AHwEHgcfS+5MxZi7wb4rNNwPvOZ/fA24JUoM7ZLS3fsIEfe/dO/RaLJHBffdB8+YaMGAjyCw0Xm8tAAAgAElEQVTZhGCNwfnGmEHGmPrOaxBQI5N5XmCM2Q7gvJ+f1o4i0kVEForIwt27d2cyuxBTvjwMGQJffglff+21GosbiOh0JAcPakixxZINCNYYTBORMr4vItICcH0UljFmkjEm3hgTX7JkSfcyymjo1uOPQ7VqGo549Kg7mizeUq2anufJk20EmcU7InCcwSPAlyJSSkTaAhOAtpnMc6eIlAZw3ndlMh3vyJVLxx5s3gwjR3qtJnaItNG/Q4bARRfZCDKLt0TSOANjzAKgFzATDTO9yhizJZN5Tgc6OZ87AV9lMh1vadECOnXS6SpWrfJaTezg1aCz1LARZJZsREBjICJfi8h0Z4DZQCA/2on8TjCDzkTkY+A3oLKIbBWRzsBzwFUisha4yvkenYwZAwUL6hTIkVartYSGm2+2EWSWbEHOdH5/MSuJG2M6pPFT66ykGzGULAnPPQePPAIffKDzGFlijwkT4PLLNYLsiy+8VmOxuEJAz8AY81OgV7hEukpWa/QPPaQjV594AvbtC40mS2ThH0H2zTdeq7FYXCHYuYkaicgCETksIidF5LSIHHRbXFSQI4eGIe7dC0895bUai1s8/rjOUWUjyCwxSrDRRK8CHYC1QD7gIWdbbJDVTss6dfQh8eabMH9+aDRZIovcuTWCbNMmG0FmiUmCnsLaGLMOiDPGnDbGvAu0ck1VNDJiBJQurWGIiYleq7G4QcuWOjrZRpBZwkUEjjM4KiK5gQQReUFE+gAFXNQVfRQurLNdLlkCEyd6rSY6iYaIrDFjNOTURpBZwkUkjTMA7gXigJ7AEaAccJtboqKW227TNXWfflrnxbdknEgaZ5Aa55+vM5v++KNGkFksMUKwg842G2OOGWMOGmOGG2Med5qNLP6IwKuv6mjVPn28VmNxiy5dbASZJeYINppoo4hsSPlyW1xYCLWrX6mSRhV98gnMnBnatC2RQY4c8MYbNoLMElME20wUD9R3Xs3RuYlix0cOddNEv35w6aXQowccPx7atC2RQe3aZyLI/vjDazUWS5YJtplor9/rH2PMeOBKl7VFL3nyaBjiunXw/PNeq7G4hS+CrGtXG0EWLAcOwMKFXquwpEKwzUR1/V7xItIVKOSytuimTRu46y7tbFxnu1diksKFYdw4jSB77TWv1UQHI0ZA/fp2PE6wRGBo6Ut+r2eBesAdbomKGcaOVS+hRw8bhhirtG8PV18NgwfbCLKMYL2p4Imk0FJjzBV+r6uMMQ8bY9a4LS7qKV0aRo3SjuRPPvFajcUNRHRcycmTOmWFJTCFC+t7QoJO42KJGNKbtRQAEQl4lRtjxoZGTgzSrRtMmQKPPaZjEM47z2tFkUu0ek+XXAIDB+o01507w1VXea0o8rnqKvWmbr9dK00Wz8lINFE3oIzz6gpURfsNorvvwO0HUFychiHu3KmD0SyBifRBZ2nRv79GkHXvbiPIgmHiRDhxwnpTEUSwxqAEUNcY84Qx5gm0z6CsMwBtuHvywoTbD6D4eH1ITJwIixe7m5fFG/Lm1fNrI8gC46t8+bypqVPh+++91WQBgjcGFwEn/b6fBCqEXE0sM3KkLobTtSucPu21GosbXHWVRpCNHg1//eW1mshGRL2pSy6x43EihGCNwX+AP0RkmIgMBeYD77snKwYpUgReegkWLIC33vJajcUtxo5VL8FGkKVP3rwakrt2rfWmIoBgo4lGAQ8C+4D9wAPGmNFuCotJ7r4brrxS3eOdO71WY3GD0qXVC5w1y0aQBYPPm7LjcVInAscZACQAnwJfAHtF5KKsZCwifURkhYgsF5GPRSRvVtKLCnxhiEeOQN++XquxuEX37lC3rk5WeNAuCJgudjxOYCJpnIGIPArsBL4HvgH+57xnChEpA/QC4o0x1dHpse/KbHpRRZUqagj+8x+dBtkSe/giyHbs0LWTLYHxeVMzZ8Knn3qtJtsSrGfQG6hsjKlmjKlpjKlhjKmZxbxzAvlEJCeQH/Bm+KYXNZFBg6BCBR2DcPJkurtbopD69TVY4JVXdLoKi5LW/ebzph57zHpTHhGsMdgCHAhVpsaYf4AXgb+B7cABY8w58z2LSBcRWSgiC3fv3h2q7M8l3LHt+fPrugerV2unskWJtSaCUaOgRAk1+klJXquJbKw35TkBjYGIPO6MPt4A/CgiA33b0huVnE66RYGbgYrAhUABEbkn5X7GmEnGmHhjTHzJkiUzm11kcv31cOutOnHXxo1eq4kconXQWWoULarrJc+fbyPIgsF6U56SnmfgG2H8N9pfkNtvW8Es5NsG2GiM2W2MOQVMA5pkIb3o5OWXIWdOnRc/1mrFFuWee6BVK40g27XLazWRj/WmPCOgMfAbYbzS99lv26os5Ps30EhE8ouIAK2zmF50UrYsDB8O//sffPWV12osbiCisfSHD9sIsmDw96befttrNdmKYPsMBga5LSiMMfOBz4DFwDJHx6TMphfVPPoo1KgBvXrpA8MSe1x+ua5+9/77NoIsGA/Y500NGGC9qUgZZyAi14nIK0AZEZng95oCZGkycmPMUGNMFWNMdWPMvcaYE1lJL2rJlUun8t2yRfsPLLHJoEFQsaJGzWT3CLL0+oX8val+/cKjKZKJkHEG24CFwHFgkd9rOnCNu9LCRCS01TdtCg8+qKtmLV/utRqLG+TLpxFkq1bZCLJguPxyePJJeO89mDvXazXZgvT6DJaiC9//Yox5z+81zRizLzwSw0AkRLA8/7wu/NG9e2QYKEvoadtWI8ieecZGkAXD4MF2PE4YSbfPwBhzGiguIrnDoCf7UqIEvPAC/Pyz1oayI9nBCI4fDzlyQO/eXiuJfPLn1zDTlSvVa7a4SrAdyJuBX0Xk6VCMM7CkwQMPQJMmGnWyd6/XarwhErw0NylXTldE+/prG0EWDDfcAO3aadTdpk1eq4lpgjUG29C5iHJwZpxBdK9wFonkyKGdyfv2aVy6JTbp3RuqV9cIsiNHvFYTXozJuMF/+WW9N3r1ckeTBQh+Cuvhqb3cFpctqVlT52d56y2YN89rNRY3yJVLp174+28bQRYM2dmbipTQUh8iUlJExojItyLyg+/ltriwEInt1MOG6YC0bt0gMUsRvJZIxRdBNnasjSALhuzsTUVIaKmPD4HV6FxCw4FNwAKXNFkKFlTX+M8/tQPNEpv4Isjs1AvpY70p1wnWGBQ3xrwDnDLG/GSMeRBo5KKu8BKJnZbt2mko4pAhsHWr12osblCiBIwZA7/8kn0jyDKC9aZcJVhjcMp53y4i14tIHaCsS5osoAbqlVe0mahPH6/VWNzi/vv1IZddIsiy2iz7/PNw3nnqTUViE28UE6wxGCki5wFPAE8CbwP2CeU2F1+sA28++wxmzPBajcUNfBFk+/frXDzZgax44iVKqEGw3lTICTaa6BtjzAFjzHJjzBXGmHrGmOlui7OgQ/IrV9b1YY8d81qNu2TXml6NGhpB9vbb8NtvXquJfOx4HFcINproMhGZLSLLne81RWSwu9IsgC4U/tprsGEDPPus12rcJxL7b8KBjSALHjsexxWCbSZ6C52y+hSAMeZPYmUB+2iojV55JXTsqO7xX395rcbiBr4IsqVLbQRZMPiPx4llbyrSxhkA+Y0xf6TYZqsv4eSll3TmSzuRXexiI8gyRnbxpiJsnMEeEakEGAARuR1dyD42iIamiQsugNGjYfZsmDrVazUWN8gOEWSZmY4iLaw3FVKCNQY9gDeBKiLyD/AY0NU1VZbUeeQRXTS8Tx84cMBrNRY38I8g++47r9VEPtabChnBRhNtMMa0AUoCVYwxzYwxm32/i0gntwRa/IiL046z3bv1gWGJTZ58EqpUyR4RZFnF35t63E6knBWC9QwAMMYcMcYcSuUnOzl7uKhXTx8SEyfCwoVeq7G4QZ48avQ3boRRo7xWE/lcfLEuK/rpp/B//+e1mqglQ8YgABluBBSRIiLymYisFpFVItI4RFpin2ee0T6Erl3h9Gmv1YQO2zF+hlat4N57dcGjNWu8VhP59O2r43G6d7feVCYJlTHIzF38MjDDGFMFqAWsCpGWjBGND6DzztOVnxYt0sm7Yolo6MwPF2PGQIECsRVBFsoOZH+y23gcF/DEMxCRwkAL4B0AY8xJY8z+EGnJHtx5J7Rure7xjh1eq7G4gS+C7IcfbARZMPiPx4kVbyoCxxmkx68Z3P9iYDfwrogsEZG3RaRAyp1EpIuILBSRhbt37w6J0FSJxtqoiNaEjh3TDkdLbNKlC8THa+eojSBLH994nB49YsebiqRxBiJynoiM8z2YReQlZ+I6AIwxPTOYb06gLvC6MaYOcAQ4Z5YuY8wkY0y8MSa+ZMmSGcwiG3DZZdC/P3z4odYeLbFHXJw2Be7aBU8/7bWayMeOx8k0wXoGk4GDwB3O6yDwbhby3QpsNcbMd75/hhoHS0YZOFCjKbp3hxMnvFZjcYN69fT8TpwIixd7rSbyeeQR601lgmCNQSVjzFBnvMEGZ/3jizObqTFmB7BFRCo7m1oDKzObXrYmXz549VVtI33xRa/VWNzimWegZMnYiyBzA583tXOnHY+TAYI1BsdEpJnvi4g0BbIav/Uo8KGI/AnUBkZnMb3sy3XXwW23wciRGk1hiT2KFNEVvhYsgEmTvFaTedyKJkqJz5t67TWNurOkS7DGoCswUUQ2icgm4FXgkaxkbIxJcPoDahpjbjHG7MtKelkQ4km2IWf8eMiZE3r2jJ1jspxNhw4aQTZwoNZ6LYEZOVK9qW7drDcVBMEag4PGmFpATaCm0+mb2khki1eULatNCd99B59/7rWazGGNWGBEtN/ARpAFRyx4UxEYWvo5gDHmoDHmoLPtM3ckeUA0hpamRs+eULu2zvN+KEptdaycC7eoXBn69YMPPoA5c7xWE/l06KDjD6LZm4qE0FIRqSIitwHnicitfq/7gbxhUWgJnpw5dU6bbdt0rndLbPLUU2ciyE6e9FpNZGPH4wRNep5BZeAGoAhwo9+rLvCwu9IsmaJRI3j4YZ3n/c8/vVZjcQNfBNnq1dEXQRauDmR/rDcVFAGNgTHmK2PMA8ANxpgH/F69jDHzfPuJiF2INJJ49lkoWlTDEJOSvFZjcQNfBNkzz+jsppbA+Lypbt2sN5UGwa5nkN4io+1DoMUSKooV00nOfvsNJk/2Wo3FLcaP15j6Rx+1ne/pYcfjpItnU1hHDLF6E3XqBM2b63QVe/Z4rcbiBmXLwvDh8L//wRdfeK0m8rHeVEC8nMLa4ia+jrODB9UgWGKTXr2gRg3o3RsOH/ZaTeTjG49jvalzsJ4BxG44Y/Xqul7y5Mnwyy9eq7G4Qa5cOvXC1q02giwY/L2pL7/0Wk36ROA4g/T4NETpWELN0KFw0UXacXbqlNdqAmNrapmjSRONIBs/PvIjyLyIJkpJr15Qs6a+R4M3FQnjDHyIyGUiMltEljvfa4pI8gxQxhg7r1CkUqCALhi+fLk+LCIdrx8U0YovgqxbNxtBlh45c2oT6tatMGKE12oihmA9g7eAgcApAGPMn8BdbomyhJibbtLXsGHw999eq7G4QfHiul7yvHkwZYrXaiKfpk2hc2edrmLZMq/VRATBGoP8xpg/UmxLDLUYi4tMmKDvvXt7q8PiHp06QbNmOsBq716v1UQ+zz+v8xdZbwoI3hjsEZFKOFFDInI7sN01VeEku7RTly8PQ4Zop9k333itxuIGOXLodCQHDtgIsmDweVO//grvZmWtrtggWGPQA3gTqCIi/wCPAd1cU2Vxhz59oGpVDas7etRrNRY38EWQvfOOPuQijUjoQPbn/vvPeFPZfDxOsCOQNxhj2gAlgSrGmGbGmE2uKgsnkXRxuknu3NpxtmkTjBrltRqLWwwZAuXKRUcEmdfkyKH3hPWmgo4mKiIivYBngFEiMkFEJrgrzeIKLVvCfffpdBWrVnmtxuIGBQtqH9GyZTphoSUwNWqcGY8Tad5UBI4z+BaoACwDFvm9LNHImDH6wOjePbL6TCJJS7Rz881w4402gixYhg5Vb6pr18jzpiJpnAGQ1xjzuDHmXWPMe76Xq8os7nH++RqX/uOP8OGHXqs5m+zSZOc2IuodJCXZCLJgKFhQvajly7OtNxWsMfiPiDwsIqVFpJjvldXMRSRORJaIiA1vCTcPPwwNG8ITT8A+b5aftrhMhQpa4420CLJINfi33ALXX6/e1JYtXqsJO8Eag5PAGOA3zjQRLQxB/r0Bbxuus2vThC8Mcc8enevdEptEWgRZJN9vIjpaPylJl47NZgRrDB4HLjHGVDDGVHReF2clYxEpC1wPvJ2VdCxZoE4dnZ/lzTfhj5RjCi0xgY0gyxgVK8LgwTBtGnz7rddqwkqwxmAFEOpqxXigH5Dm0D8R6SIiC0Vk4e7du0Oc/VkZuZd2pDN8OJQurR1np097rcbiBjaCLGM8+SRUqQI9e0aGNxUmgjUGp4EEEXnTF1aaldBSEbkB2GWMCRiRZIyZZIyJN8bElyxZMrPZWQJRuDCMGwdLlmgN0hKbjBmjkxZGWgRZJOLzpjZuhNHZZw7OYI3Bl8AoYB6hCS1tCtwkIpuAqcCVIvJBFtKzZIX27eHqq9U93h4bs4xYUhDJEWSRyBVXwD336HQVXnpTkTbOwD+cNBShpcaYgcaYssaYCujspz8YY+7JbHqWLCICEyfCiRPw+ONeq7G4RZcu0KCBtxFkkTYdRSBefDEyvKlIGGcgIp8478tE5M8Ur6VhUWgJD5dcAgMHwtSp8P333miwzRfu4h9BNmiQ12oinwsuyFbeVHqegW+0yirgRr/XTcCaUAgwxvxojLkhFGllUoBnWUcc/furUejRA44f90ZDtNQao5W6dbVj9I03bARZMHTpkm3G4wQ0BsYYXwPyJcaYzX6vTUAV19VZwkvevNpctHattpVaYpNnnoFSpTSCLNEuSxKQbORNpddM1E1ElgGVUzQRbQQifLHVDGBro2e4+mq4806Noli3zms1FjcoXFinXLARZMFRp44O2otxbyq9ZqKP0Gah6ZzdTFTPdvjGMGPHQp482lxkm9Fik9tv9y6CLBorXyNGqDfVrVvMjsdJr5nogDFmkzGmQ4pmon/DJdDiARdeCCNHwsyZ8OmnXquxuIEvguzkyfBGkEVr5cI3HmfxYm02CheRFlpqyYZ0766djY89BgcPeq3G4gaREEEWTdxxB1x1lfYdhNObioTQ0mxBtNZU3CYuTmtAO3boylmW2CQSIsiiBf/xOE884bWakGONgSVtGjSARx7RmRyXLHE/P2uYw49/BNmYMV6riXwuvRQGDICPP4ZZs7xWE1KsMbAEZvRoKFFCO86S0pxTMHREY+ditHP11doEMmoUrF/vfn7Rfo4HDIBKldSbOnHCazUhwxoDiP6L002KFtVh+fPnw9t2tvGYZdw4naCtZ093PbRY8P7y5tWQ3L/+guef91pNyLDGwJI+99yj0yAPGAC7dnmtxuIGvgiyGTPgs8+8VhP5+Lyp0aPD402FAWsMLOkjojWhQ4egXz+v1Vjcont3HWDVu7eNIAuGcHlTYcIaA0twVK0KffvCe+/BTz95rcbiBjlz6ihbG0EWHBdeqFN7zJgBn3/uTh52nEEYiQGLHjYGD9ZF1rt108FKltgj3BFk0U6PHlC7to7HOXTInTzsOANLxJE/P7z6qi72MXas12osbuF2BFksBWz4vKlt22DoUK/VZAlrDCwZ4/rroV07natl0yav1VjcwM0Islj0xBs21KmuJ0yApdG7zIs1BhBbNZVw8PLLOrVv797p75sRYvFBEa3YCLKMMXo0FCsWvvE4LmCNgSXjlCunLvH06foKJdYwRwb+EWT9+3utJvIpVkxHcP/2G7zzjtdqMoU1BpbM8dhjUL26zvN+5IjXaixuULUqPPkkTJkCc+d6rSbyue8+9ab694fdu71Wk2GsMbBkjly5dCK7v//W8DpLbPL001C+vI5BCFUEWax6f/7eVN++XqvJMJ4YAxEpJyJzRGSViKwQkRA3PmcA206deZo1gwcegJdeghUrvFZjcQNfBNmKFTrIKqvE+v3m86beey803lQ2GGeQCDxhjLkcaAT0EJGqHmmxZIUXXtCFP7p1i/0bPbtyww0aQTZ8uI0gCwafNxWq8TixPM7AGLPdGLPY+XwIWAWU8UKLJYuUKKGTdf38s9aGLLGJL4KsVy+vlUQ++fProL2VK0PjTYUJz/sMRKQCUAeYn8pvXURkoYgs3O1mh0ystmGGiwcfhCZN1D3eu9drNRY3KFcOhg2Dr7+Gr77yWk3kc+ONcPPNOh5n82av1QSFp8ZARAoCnwOPGWPOmRnLGDPJGBNvjIkvWbJk+AVagiNHDu1M3r9fl1G0xCa9e2sEWa9eWYsgyy6Vr5df1vdQj8dxCc+MgYjkQg3Bh8aYaV7psISImjX1on/rLY21zgy2zyGysRFkGaN8eZ3w76uv1KOKcLyKJhLgHWCVMcZOchMrDBsGZcpox1liYubSyC61xmilWTO4//7MR5BlN4Pfp49GGEXBeByvPIOmwL3AlSKS4LzaeqIku12cblKokLrGS5dqOKIlNnnhBT3X3bvb+yc9cudWb2rzZl08KKPEemipMeYXY4wYY2oaY2o7r2+90GIJMbfeCtddp+F1//zjtRqLG5QsqRFkc+fC++97rSbyadFCvakXX8ycNxXLoaWWGEZEvYLERHWRLbFJ587QqJFGkP37r9dqIp8o8KasMQDbTh1qLr4YnnoKPv0U/u//vFZjcYMcOXQe/337Mh5Blh3vt5Il1SBEsDdljYHFHfr1g8qVdSWoY8e8VmNxg1q1NMx00iT4/ffg/hOhteKw8OCD0LhxxHpT1hhY3CFPHp20a/16eO45r9VY3GL4cI0g69o18xFk2QXfeJx9+9RzjjCsMbC4x5VXQseOagzWrEl//+xca4xWChWC8eNtBFmw+HtT88+ZdMFTrDGwDyB3eeklyJdPm4uCKevs2J4c7dx2G1x7rY0gC5bhw+HCCyPOm7LGwOIuF1ygSwLOng1Tp3qtxuIGGY0gy+4G3+dNJSTAxImB9431cQZh5dQpHT5v8Y5HHoH4eHj8cThwwGs1FjeoVMlGkGWEjHhTdpxBiLjlFp2P/dSptPfJ7jUVt4mL046znTv14rfEJv36wWWXaZPg8eOp72ObZRWfN3XqlFaSIoDYNwYPPwzLlsGECV4ryd7Ex+uAm4kTYfFir9VY3MA/guzZZ71WE/n4vKlPPokIbyqn1wLc5udiN/NLlSm0Hfw6ryx8hK37CrJuHdSpo+diydc9KHOoKYV6w8KFOvnmyZNQvDj88ovakYYN4ZJLtIJbsKCGzR8/DkWKwI4datw3boRSpaBoUW0S3L4dkpLgjjt0cah//4XTp/Xz3r36vUgRjTarVAnOOw8WLYK6dXVcyqJFUK2aBh8cOAB//gkVKsDBg2ciNd9+W5tpCxSA1at1tHu/flC7tmoQgZ49dazLsmXQtKlecwULar9ulSrabDlkiOaTJ49q7N4d7r5bj/mKK3RJ16QkOHwYJk+GSy/VPrANG+DXX6FiRQ2MSEiAyy9XTceO6TCDd97R0fgbN8IVTcfyPYO5rNU/XHZnEtdcm4O1a7WsO3aEPSdL8d6q2/mnqx7f8eN6Pg4ehD179BiKFoVdu3Ri1MaN1cYULarali3TsliyROcEu/56+OknLfMHH9RtxmhZz5+vM2fs3q3/i4+HvHk1rxkzoFUrPe46dfQcnzgBs2ZpmTZurOl88QV06KDltGePpj9nDrRpo+fghhv0P9dco7M3FC2qdvDHH+Gmm7SM/v1X8+vYUdMpUkQjD/fsgVWrdEr8DRv0/G/eDPfco+vTb9kC7dvr/2fP1nIqXVr76v/v/zTtBx/UNPwnkb3iCtV/7JgeQ1ycprl9u67j/u+/er0vWKBBL08+qf/78UcdS/jzz7r/1q0aUfrKK+r0tWihk5r27duab+InM25Ec54vuY1fNlzIsmV6fbVrB9/Pv46TRy8maYBe43v26FIJl1+uz8SmTTVdET3upUv1fmzdWhfUS0rS8mrYUKf9KVhQz03LlvDxx3D0qF7HK1bo3HArVug+GzdqPoUKqc6SJXVoRK5cuu2ZZ7R8J01SrcWLa7nOnq2Tj7Zvr9eVMbBunepduVJn9D5wAKZP13tq+3Y9x6dOaRqVKmkr9YwZeo5271Yt1aqpE3Xy2FNM5mluuXUmiS1Ps2FzHJddpueyQweYtr4HBXMe5+G/4aKL3H1WiokSty0+Pt4sXLgww/+7/Xb4/HMXBDmInO355smjF0JS0rn75smjF64l4xQpossluEXOnBEV2HEWcXFqpL3g7rs16KVFi7O3V66sD9FM3JKAPoR9Lbep3UOnT6d/PgoW1EpAduCvv7QSlhlEZJExJj7d/WLdGGzZotb99ae30X7rWBo+fxvFb2hMpUr6wF5//zMU+n4aZXYt4ehRfSicPq0r1/ku0gUL1MLnz6+vpCSt1fhqcseP63/y5dP/g/5v4ULtT/PV+vzTTEjQmW3/+UcfciVK6MVfsaKmf+qUXui5cmlNdvly3efUKb0xjxzR2oivBv7rr1pbv/JKuOsu/d/ixXoj33ILDBigNZMjR854A7/9prWlIUO0lrVmjdYqFy3Shcuefx7+9z89vpIltZbcurUe14ABWrupX19fl1yiNetVq7Qmd8EFWrs5ckRrfyJakzJJhryDn6TQX4t48KLvadk6F7Nn6/8uz7Oe/zZ7lWozx3HqlJbLjTfCm29q3sboS0TL6PhxLdPERP18+LAeR9Giut++ffrA2LxZy61iRd2vUCE91k2boG1b9c5AvYI//lDtBQro97Jltfxz5dIaXlwcFCum+e7bp2V0661nzu+CBVr7Gz5ca/NxcVoOHTvq9vhbufsAAAsBSURBVCJFtNvk4EFNxxitTebJo15d1aqq8cQJPTfly+u8f7ly6b7//gvnn6/dL6VK6bHPnq2eSOHCqqlIkTP7HzmiZbBunZbPvn16Do3RmuzMmfDDD3r83313xhs6ckQ9mp07z76fOnVSrZMmndm2YoV6ra+/rp5Eq1bw6CXf8frbOWnZ/gKeeK8mH34I8+bB8KSnKfr1++TfvZnTp/V+EdH89u7V2nSBAqrv8GF9xcXpOcqbV/POkUNfInrfPfoo1KihFb9ixfS39eu1Nn7PPXr+EhPP7P+f/6gnXauWTq/0yScweLD+b8QI/e/mzeopFSmi99natTB2rOr76Scto5Mn9Xo77zw9thkzVEPZsppGoUJ6TZw8qc+PxETdf+lSvZY2b9YpngByPvwA331xjGOjxlEmvjT9+ul1MFaeoFnRFeT7aUamuzaDNQYYY6LiVa9ePZMlTpww5vLLjalY0ZgjR85s79bNmBIlspZ2mDl92pjExOD2/ftvY5KSgk87KcmY334z5uTJzGkLitWrjcmd25iOHc/K11SrZsytt7qYcXjJaNl7xZo1xvz117nb9+71mV9jHnrImFOndPu8eWe2f/11GokmJhoTH29MqVLG7N9/ZnuPHsYULx7yY8gqJ08ac/SohwK2bzemcGFj2rQxJinJJCXpfW5atDCmVassJQ0sNEE8Y2O/A9lH7tzaubVxo8a9RzE5cmhtKRjKlctYsJSI1pZy5cqctqCoXFmrXR9+mFwtTdYYQ5FdGS17r7jsstSbIIoV0xrx9OnqCfi83saNtT3/9GntF0mVKIsgy5VLPXvPKFUKRo3STqZPPkHE8VjtOAOXaNUK7r1Xe1RXrz6zPRru2Fhj4EDtkeze3XakRDCXXKJNdSlvkYoVzzSvpYmNIMsY3bppBEmfPtqO6MOOM3CJF1/URskInlc8W5Avn8ZZr1mj58QSm4wcqR1OXbt61wseLcTF6bTgO3ZoR16YyX7G4PzzNQZ6zhz46COv1WRvrrtOR2KOHKnNd5bYo0gR7alesADeeku3WU88berXV8P5yisayxpGsp8xAOjSBRo00JF/+/Z5rSZ7M3681ogefdR6arHK3XdrmNvAgeeGJ1nOZfRoDR0MszflmTEQkWtFZI2IrBORAWHN3LdK0549Gvtp8Y6yZTUO83//09hTS+whov0GR47AZ595rSbyKVJE41j/+ENjVsOEJ8ZAROKAicB1QFWgg4hUDauIOnW0NmrbMb2nVy8NFIfsM4oou1GlikaQWYLD502B9iGEAa88gwbAOmPMBmPMSWAqcHPYVYwYofOK2zZMb8mVS8MQIfNDWi2Rz1NPaQRZumFIFkQ0FB50RGYY8GpuojLAFr/vW4GGKXcSkS5AF4CL3JiYo3BhbSayzRPe07SpGoSKFb1WYnGLfPngyy/PDuu2pE3lyjo8OkwDIDyZjkJE2gPXGGMecr7fCzQwxjya1n8yOx2FxWKxZGeCnY7CK39tK1DO73tZYJtHWiwWiyXb45UxWABcKiIVRSQ3cBcw3SMtFovFku3xpM/AGJMoIj2B/wPigMnGmBVeaLFYLBaLh4vbGGO+Bb71Kn+LxWKxnMHGeFksFovFGgOLxWKxWGNgsVgsFqwxsFgsFgtRtAayiOwGNmfy7yWAPSGUEw6iTbPV6z7Rpjna9EL0aQ5Gb3ljTMn0EooaY5AVRGRhMCPwIolo02z1uk+0aY42vRB9mkOp1zYTWSwWi8UaA4vFYrFkH2MwyWsBmSDaNFu97hNtmqNNL0Sf5pDpzRZ9BhaLxWIJTHbxDCwWi8USAGsMLBaLxRL7xkBErhWRNSKyTkQGeK3Hh4hsEpFlIpIgIgudbcVE5HsRWeu8F3W2i4hMcI7hTxGpGyaNk0Vkl4gs99uWYY0i0snZf62IdAqz3mEi8o9Tzgki0tbvt4GO3jUico3f9rBcMyJSTkTmiMgqEVkhIr2d7RFZxgH0RnIZ5xWRP0RkqaN5uLO9oojMd8rrv85U+ohIHuf7Ouf3CukdS5j0ThGRjX5lXNvZHrprwhgTsy90euz1wMVAbmApUNVrXY62TUCJFNteAAY4nwcAzzuf2wLfAQI0AuaHSWMLoC6wPLMagWLABue9qPO5aBj1DgOeTGXfqs71kAeo6FwnceG8ZoDSQF3ncyHgL0dXRJZxAL2RXMYCFHQ+5wLmO2X3CXCXs/0NoJvzuTvwhvP5LuC/gY4ljHqnALensn/IrolY9wwaAOuMMRuMMSeBqcDNHmsKxM3Ae87n94Bb/La/b5TfgSIiUtptMcaYucC/WdR4DfC9MeZfY8w+4Hvg2jDqTYubganGmBPGmI3AOvR6Cds1Y4zZboxZ7Hw+BKxC1wePyDIOoDctIqGMjTHmsPM1l/MywJXAZ872lGXsK/vPgNYiIgGOJVx60yJk10SsG4MywBa/71sJfPGGEwPMFJFFItLF2XaBMWY76I0HnO9sj6TjyKjGSNDe03GhJ/uaXALo8kSv0xxRB60JRnwZp9ALEVzGIhInIgnALvShuB7Yb4xJTCX/ZG3O7weA4uHUnFKvMcZXxqOcMh4nInlS6k2hK8N6Y90YSCrbIiWWtqkxpi5wHdBDRFoE2DeSj8NHWhq91v46UAmoDWwHXnK2R4xeESkIfA48Zow5GGjXVLaFXXMqeiO6jI0xp40xtdG11hsAlwfI33PNKfWKSHVgIFAFqI82/fR3dg+Z3lg3BluBcn7fywLbPNJyFsaYbc77LuAL9CLd6Wv+cd53ObtH0nFkVKOn2o0xO52bKwl4izOufUToFZFc6IP1Q2PMNGdzxJZxanojvYx9GGP2Az+ibetFRMS30qN//snanN/PQ5sew67ZT++1ThOdMcacAN7FhTKOdWOwALjUiRzIjXYITfdYEyJSQEQK+T4DVwPLUW2+Xv9OwFfO5+nAfU7kQCPggK8ZwQMyqvH/gKtFpKjTfHC1sy0spOhbaYeWs0/vXU70SEXgUuAPwnjNOG3R7wCrjDFj/X6KyDJOS2+El3FJESnifM4HtEH7OuYAtzu7pSxjX9nfDvxgtEc2rWMJh97VfpUDQfs3/Ms4NNdEKHrAI/mF9rb/hbYTDvJaj6PpYjQyYSmwwqcLbZucDax13ouZMxEGE51jWAbEh0nnx6jbfwqtaXTOjEbgQbTDbR3wQJj1/sfR86dz45T223+Qo3cNcF24rxmgGeq6/wkkOK+2kVrGAfRGchnXBJY42pYDQ5ztF6MP83XAp0AeZ3te5/s65/eL0zuWMOn9wSnj5cAHnIk4Ctk1YaejsFgsFkvMNxNZLBaLJQisMbBYLBaLNQYWi8ViscbAYrFYLFhjYLFYLBYgZ/q7WCzZCxHxhXYClAJOA7ud70eNMU08EWaxuIgNLbVYAiAiw4DDxpgXvdZisbiJbSayWDKAiBx23luJyE8i8omI/CUiz4lIR2cu+mUiUsnZr6SIfC4iC5xXU2+PwGJJHWsMLJbMUwv4//buFgdhGIzD+FM8HANBggMSJAk3QOMRfByF4DnJroAkwXEOgtmLWAkIDEsGE89PtV1FTfPPtqbvDhgCS6AfERPgCGzynAOwj4gxsMjPpNbxn4FU3ynyHVEppStQ5PEzMMvtOTCorpQBoJdS6kZVD0BqDcNAqu/+1i7f+iWvvdUBphFx++XCpG/5mUhqVgGsn52Ua9dKbWMYSM3aAqNcoeoCrP69IOkTj5ZKknwzkCQZBpIkDANJEoaBJAnDQJKEYSBJwjCQJAEPgPN19NSVBx8AAAAASUVORK5CYII=\n",
>>>>>>> 42080c8191e71574e04ea442ed9a220f65fc4b04
      "text/plain": [
       "<Figure size 432x288 with 1 Axes>"
      ]
     },
     "metadata": {
      "needs_background": "light"
     },
     "output_type": "display_data"
    }
   ],
   "source": [
    "# Visualize predictions on training set\n",
    "\n",
    "true_train_time = dataset_train.iloc[:,1].values\n",
    "true_train_time = true_train_time[time_steps:]   # Ignore the first time_steps values (because predictions are not available for those)\n",
    "\n",
    "train_res_plot_filename = results_dir + '/' + 'train_true_vs_pred' + '.png'\n",
    "utility.plot_results(true_train_time, train_prediction, 'True vs predicted time_to_earthquake on train set', train_res_plot_filename)"
   ]
  },
  {
   "cell_type": "code",
   "execution_count": 27,
   "metadata": {},
   "outputs": [
    {
     "name": "stdout",
     "output_type": "stream",
     "text": [
      "Error metrics on test set. train_mse: 39.5592, train_rmse: 6.2896, train_mae: 5.1370\n"
     ]
    }
   ],
   "source": [
    "# Compute error metrics on training set\n",
    "\n",
    "train_mse = mean_squared_error(true_train_time, train_predicted_time)\n",
    "train_rmse = train_mse ** 0.5\n",
    "train_mae = mean_absolute_error(true_train_time, train_predicted_time)\n",
    "\n",
    "print('Error metrics on test set. train_mse: {:.4f}, train_rmse: {:.4f}, train_mae: {:.4f}'.format(train_mse, train_rmse, train_mae))"
   ]
  },
  {
   "cell_type": "code",
   "execution_count": 28,
   "metadata": {},
   "outputs": [
    {
     "name": "stdout",
     "output_type": "stream",
     "text": [
      "Predicting on the test set using the trained RNN\n",
      "Predicting on the test set complete. time_to_predict=0.42 seconds\n"
     ]
    }
   ],
   "source": [
    "# Predict on test set\n",
    "\n",
    "print('Predicting on the test set using the trained RNN')\n",
    "t0 = time.time()\n",
    "test_predicted_time = regressor.predict(X_test)\n",
    "#predicted_time = sc.inverse_transform(predicted_time)\n",
    "print('Predicting on the test set complete. time_to_predict={:.2f} seconds'.format(time.time() - t0))"
   ]
  },
  {
   "cell_type": "code",
   "execution_count": 29,
   "metadata": {},
   "outputs": [
    {
     "name": "stdout",
     "output_type": "stream",
     "text": [
      "Predictions on test set saved to results/current_run/test_prediction.csv\n"
     ]
    }
   ],
   "source": [
    "# Save predictions on test set\n",
    "\n",
    "test_prediction = pd.DataFrame(test_predicted_time)\n",
    "test_pred_filename = results_dir + '/' + 'test_prediction.csv'\n",
    "test_prediction.to_csv(test_pred_filename)\n",
    "print('Predictions on test set saved to {}'.format(test_pred_filename))"
   ]
  },
  {
   "cell_type": "code",
   "execution_count": 31,
   "metadata": {},
   "outputs": [
    {
     "name": "stdout",
     "output_type": "stream",
     "text": [
      "Predictions plot saved to: results/current_run/test_true_vs_pred.png\n"
     ]
    },
    {
     "data": {
      "image/png": "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\n",
      "text/plain": [
       "<Figure size 432x288 with 1 Axes>"
      ]
     },
     "metadata": {
      "needs_background": "light"
     },
     "output_type": "display_data"
    }
   ],
   "source": [
    "# Visualize predictions on test set\n",
    "\n",
    "test_res_plot_filename = results_dir + '/' + 'test_true_vs_pred' + '.png'\n",
    "utility.plot_results(true_test_time, test_prediction, 'True vs predicted time_to_earthquake on test set', test_res_plot_filename)"
   ]
  },
  {
   "cell_type": "code",
   "execution_count": 32,
   "metadata": {},
   "outputs": [
    {
     "name": "stdout",
     "output_type": "stream",
     "text": [
      "Error metrics on test set. test_mse: 33.2983, test_rmse: 5.7705, test_mae: 4.7324\n"
     ]
    }
   ],
   "source": [
    "# Compute error metrics on test set\n",
    "\n",
    "test_mse = mean_squared_error(true_test_time, test_predicted_time)\n",
    "test_rmse = test_mse ** 0.5\n",
    "test_mae = mean_absolute_error(true_test_time, test_predicted_time)\n",
    "\n",
    "print('Error metrics on test set. test_mse: {:.4f}, test_rmse: {:.4f}, test_mae: {:.4f}'.format(test_mse, test_rmse, test_mae))"
   ]
  },
  {
   "cell_type": "code",
   "execution_count": 33,
   "metadata": {},
   "outputs": [
    {
     "data": {
      "text/plain": [
       "['[NbConvertApp] Converting notebook LANL_NB.ipynb to html',\n",
       " '[NbConvertApp] Writing 345505 bytes to results/current_run\\\\LANL_NB.html']"
      ]
     },
     "execution_count": 33,
     "metadata": {},
     "output_type": "execute_result"
    }
   ],
   "source": [
    "# Save the output (results) of this notebook to the results_dir folder\n",
    "%sx jupyter nbconvert --to html --output-dir=$results_dir --TemplateExporter.exclude_input=True LANL_NB.ipynb"
   ]
  },
  {
   "cell_type": "code",
   "execution_count": null,
   "metadata": {},
   "outputs": [],
   "source": []
  }
 ],
 "metadata": {
  "kernelspec": {
   "display_name": "Python 3",
   "language": "python",
   "name": "python3"
  },
  "language_info": {
   "codemirror_mode": {
    "name": "ipython",
    "version": 3
   },
   "file_extension": ".py",
   "mimetype": "text/x-python",
   "name": "python",
   "nbconvert_exporter": "python",
   "pygments_lexer": "ipython3",
   "version": "3.6.8"
<<<<<<< HEAD
=======
  },
  "varInspector": {
   "cols": {
    "lenName": 16,
    "lenType": 16,
    "lenVar": 40
   },
   "kernels_config": {
    "python": {
     "delete_cmd_postfix": "",
     "delete_cmd_prefix": "del ",
     "library": "var_list.py",
     "varRefreshCmd": "print(var_dic_list())"
    },
    "r": {
     "delete_cmd_postfix": ") ",
     "delete_cmd_prefix": "rm(",
     "library": "var_list.r",
     "varRefreshCmd": "cat(var_dic_list()) "
    }
   },
   "oldHeight": 630,
   "position": {
    "height": "40px",
    "left": "1539px",
    "right": "20px",
    "top": "118px",
    "width": "639px"
   },
   "types_to_exclude": [
    "module",
    "function",
    "builtin_function_or_method",
    "instance",
    "_Feature"
   ],
   "varInspector_section_display": "none",
   "window_display": true
>>>>>>> 42080c8191e71574e04ea442ed9a220f65fc4b04
  }
 },
 "nbformat": 4,
 "nbformat_minor": 2
}
